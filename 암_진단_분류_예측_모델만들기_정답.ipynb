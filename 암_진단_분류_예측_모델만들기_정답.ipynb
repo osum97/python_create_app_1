{
  "cells": [
    {
      "cell_type": "markdown",
      "metadata": {
        "id": "view-in-github",
        "colab_type": "text"
      },
      "source": [
        "<a href=\"https://colab.research.google.com/github/osum97/python_create_app_1/blob/master/%EC%95%94_%EC%A7%84%EB%8B%A8_%EB%B6%84%EB%A5%98_%EC%98%88%EC%B8%A1_%EB%AA%A8%EB%8D%B8%EB%A7%8C%EB%93%A4%EA%B8%B0_%EC%A0%95%EB%8B%B5.ipynb\" target=\"_parent\"><img src=\"https://colab.research.google.com/assets/colab-badge.svg\" alt=\"Open In Colab\"/></a>"
      ]
    },
    {
      "cell_type": "markdown",
      "metadata": {
        "id": "8G-3nD8Lg0l6"
      },
      "source": [
        "# **심화도전2**\n",
        "### **Breast cancer wisconsin 데이터를 이용한 <span style=\"color:darkgreen\">AI분류</span> 문제**\n",
        "---"
      ]
    },
    {
      "cell_type": "markdown",
      "metadata": {
        "id": "wYCT0EcXg0mY"
      },
      "source": [
        "#### 암세포의 형태 데이터를 이용하여 암 진단 판정을 악성과 양성으로 분류하는 AI문제입니다.\n",
        "#### AI코딩 단계에 따라 주어지는 문제를 읽고 답안을 작성하세요.\n",
        "#### ( Breast cancer wisconsin 데이터 : sklearn 내장 연습용 데이터셋 사용)\n",
        "\n",
        " - 데이터 : 분류(카테고리)\n",
        " - 모델 : KNN(머신러닝 모델 비교 분석), DeepLearning\n",
        " - 주요 전처리 : 분석 Column 추가, 표준화(standardization)\n",
        " - 주요 학습 내용 : 이중 분류 모델 생성(binary 분류, input, output 처리, 손실함수 등), 머신러닝 모델 비교학습(리스트 활용)\n",
        "---\n",
        "\n",
        "**아래 측정값들을, 평균(mean), 표준오차(error), 제일 큰 값 3개의 평균(worst)으로 나타낸다. 예를 들어 radius는 mean radius, radius error, worst radius 3개 컬럼으로 나타난다.**<br>\n",
        "\n",
        "- radius : 암세포의 반지름\n",
        "- texture : 질감\n",
        "- perimeter : 둘레\n",
        "- area : 면적\n",
        "- smoothness : 매끄러움\n",
        "- concavity : 오목함\n",
        "- concave points : 오목한 곳의 수\n",
        "- symmetry : 대칭성\n",
        "- fractal dimension : 프렉탈 차원\n",
        "- class : 라벨(y변수) 데이터로 세포의 양성/악성 여부를 binary로 표기한 데이터\n",
        "    * 0 : malignant : 악성\n",
        "    * 1 : benign : 양성\n"
      ]
    },
    {
      "cell_type": "markdown",
      "metadata": {
        "id": "YjQkc3VKsho0"
      },
      "source": [
        "---\n",
        "> **<span style=\"color:red\">다음 문항을 풀기 전에 </span>아래 코드를 실행하시오.**<br>\n",
        "> **sklearn에서 제공하는 load_breast_cacncer에 대한 데이터를 불러올 예정입니다. <span style=\"color:darkgreen\"></span>**<br>\n",
        "> 분석할 feautre 데이터는 x 변수에, 라벨은 y변수에 저장 되게 됩니다.(사전 x,y 데이터 분리 실행)\n",
        "> y변수는 상기 서술된 컬럼 중 class 항목입니다.\n",
        "\n",
        "\n",
        "---\n",
        "\n"
      ]
    },
    {
      "cell_type": "markdown",
      "metadata": {
        "id": "AShqd8GGV4f1"
      },
      "source": [
        "<br>\n",
        "<br>\n",
        "<br>"
      ]
    },
    {
      "cell_type": "markdown",
      "metadata": {
        "id": "xo_IB4MEud4Q"
      },
      "source": [
        "### **Q1. pandas를 pd로 alias하여 사용할 수 있도록 불러오는 코드를 작성하고 실행하시기 바랍니다.**\n",
        "---"
      ]
    },
    {
      "cell_type": "code",
      "execution_count": null,
      "metadata": {
        "id": "pxOO-HpMud4W"
      },
      "outputs": [],
      "source": [
        "# 여기에 답안코드를 작성하세요\n",
        "\n",
        "import pandas as pd"
      ]
    },
    {
      "cell_type": "markdown",
      "metadata": {
        "id": "8AGB8BfHg0mi"
      },
      "source": [
        "### **Q2.Matplotlib의 pyplot을 plt로 alias하여 사용할 수 있도록 불러오는 코드를 작성하고 실행하시기 바랍니다.**\n",
        "---"
      ]
    },
    {
      "cell_type": "code",
      "execution_count": null,
      "metadata": {
        "id": "vQNalsX8g0mk"
      },
      "outputs": [],
      "source": [
        "# 여기에 답안코드를 작성하세요\n",
        "\n",
        "import matplotlib.pyplot as plt"
      ]
    },
    {
      "cell_type": "markdown",
      "metadata": {
        "id": "OmlNEVczujwz"
      },
      "source": [
        "### **Q3. 'breast_cacncer3.csv' 파일을 읽어 bcc dataframe 변수에 저장하세요.**\n",
        "* **\n",
        "- 파일명 'breast_cacncer3.csv' 을 read_csv 함수를 활용하여 읽어오기\n",
        "- 데이터 프레임의 변수 명은 bcc 로 한다.\n",
        "---"
      ]
    },
    {
      "cell_type": "code",
      "execution_count": null,
      "metadata": {
        "colab": {
          "base_uri": "https://localhost:8080/",
          "height": 290
        },
        "id": "Q0Ajx4o1ujw0",
        "outputId": "cb231bd9-7a42-42fa-98f6-6ca540c2cef2"
      },
      "outputs": [
        {
          "data": {
            "application/vnd.google.colaboratory.intrinsic+json": {
              "type": "dataframe",
              "variable_name": "bcc"
            },
            "text/html": [
              "\n",
              "  <div id=\"df-3a228917-7011-4d52-b40b-7bafe38868ed\" class=\"colab-df-container\">\n",
              "    <div>\n",
              "<style scoped>\n",
              "    .dataframe tbody tr th:only-of-type {\n",
              "        vertical-align: middle;\n",
              "    }\n",
              "\n",
              "    .dataframe tbody tr th {\n",
              "        vertical-align: top;\n",
              "    }\n",
              "\n",
              "    .dataframe thead th {\n",
              "        text-align: right;\n",
              "    }\n",
              "</style>\n",
              "<table border=\"1\" class=\"dataframe\">\n",
              "  <thead>\n",
              "    <tr style=\"text-align: right;\">\n",
              "      <th></th>\n",
              "      <th>mean radius</th>\n",
              "      <th>mean texture</th>\n",
              "      <th>mean perimeter</th>\n",
              "      <th>mean area</th>\n",
              "      <th>mean smoothness</th>\n",
              "      <th>mean compactness</th>\n",
              "      <th>mean concavity</th>\n",
              "      <th>mean concave points</th>\n",
              "      <th>mean symmetry</th>\n",
              "      <th>mean fractal dimension</th>\n",
              "      <th>...</th>\n",
              "      <th>worst texture</th>\n",
              "      <th>worst perimeter</th>\n",
              "      <th>worst area</th>\n",
              "      <th>worst smoothness</th>\n",
              "      <th>worst compactness</th>\n",
              "      <th>worst concavity</th>\n",
              "      <th>worst concave points</th>\n",
              "      <th>worst symmetry</th>\n",
              "      <th>worst fractal dimension</th>\n",
              "      <th>target</th>\n",
              "    </tr>\n",
              "  </thead>\n",
              "  <tbody>\n",
              "    <tr>\n",
              "      <th>0</th>\n",
              "      <td>17.99</td>\n",
              "      <td>10.38</td>\n",
              "      <td>122.80</td>\n",
              "      <td>1001.0</td>\n",
              "      <td>0.11840</td>\n",
              "      <td>0.27760</td>\n",
              "      <td>0.3001</td>\n",
              "      <td>0.14710</td>\n",
              "      <td>0.2419</td>\n",
              "      <td>0.07871</td>\n",
              "      <td>...</td>\n",
              "      <td>17.33</td>\n",
              "      <td>184.60</td>\n",
              "      <td>2019.0</td>\n",
              "      <td>0.1622</td>\n",
              "      <td>0.6656</td>\n",
              "      <td>0.7119</td>\n",
              "      <td>0.2654</td>\n",
              "      <td>0.4601</td>\n",
              "      <td>0.11890</td>\n",
              "      <td>0</td>\n",
              "    </tr>\n",
              "    <tr>\n",
              "      <th>1</th>\n",
              "      <td>20.57</td>\n",
              "      <td>17.77</td>\n",
              "      <td>132.90</td>\n",
              "      <td>1326.0</td>\n",
              "      <td>0.08474</td>\n",
              "      <td>0.07864</td>\n",
              "      <td>0.0869</td>\n",
              "      <td>0.07017</td>\n",
              "      <td>0.1812</td>\n",
              "      <td>0.05667</td>\n",
              "      <td>...</td>\n",
              "      <td>23.41</td>\n",
              "      <td>158.80</td>\n",
              "      <td>1956.0</td>\n",
              "      <td>0.1238</td>\n",
              "      <td>0.1866</td>\n",
              "      <td>0.2416</td>\n",
              "      <td>0.1860</td>\n",
              "      <td>0.2750</td>\n",
              "      <td>0.08902</td>\n",
              "      <td>0</td>\n",
              "    </tr>\n",
              "    <tr>\n",
              "      <th>2</th>\n",
              "      <td>19.69</td>\n",
              "      <td>21.25</td>\n",
              "      <td>130.00</td>\n",
              "      <td>1203.0</td>\n",
              "      <td>0.10960</td>\n",
              "      <td>0.15990</td>\n",
              "      <td>0.1974</td>\n",
              "      <td>0.12790</td>\n",
              "      <td>0.2069</td>\n",
              "      <td>0.05999</td>\n",
              "      <td>...</td>\n",
              "      <td>25.53</td>\n",
              "      <td>152.50</td>\n",
              "      <td>1709.0</td>\n",
              "      <td>0.1444</td>\n",
              "      <td>0.4245</td>\n",
              "      <td>0.4504</td>\n",
              "      <td>0.2430</td>\n",
              "      <td>0.3613</td>\n",
              "      <td>0.08758</td>\n",
              "      <td>0</td>\n",
              "    </tr>\n",
              "    <tr>\n",
              "      <th>3</th>\n",
              "      <td>NaN</td>\n",
              "      <td>20.38</td>\n",
              "      <td>77.58</td>\n",
              "      <td>386.1</td>\n",
              "      <td>0.14250</td>\n",
              "      <td>0.28390</td>\n",
              "      <td>0.2414</td>\n",
              "      <td>0.10520</td>\n",
              "      <td>0.2597</td>\n",
              "      <td>0.09744</td>\n",
              "      <td>...</td>\n",
              "      <td>26.50</td>\n",
              "      <td>98.87</td>\n",
              "      <td>567.7</td>\n",
              "      <td>0.2098</td>\n",
              "      <td>0.8663</td>\n",
              "      <td>0.6869</td>\n",
              "      <td>0.2575</td>\n",
              "      <td>0.6638</td>\n",
              "      <td>0.17300</td>\n",
              "      <td>0</td>\n",
              "    </tr>\n",
              "    <tr>\n",
              "      <th>4</th>\n",
              "      <td>20.29</td>\n",
              "      <td>14.34</td>\n",
              "      <td>135.10</td>\n",
              "      <td>1297.0</td>\n",
              "      <td>0.10030</td>\n",
              "      <td>0.13280</td>\n",
              "      <td>0.1980</td>\n",
              "      <td>0.10430</td>\n",
              "      <td>0.1809</td>\n",
              "      <td>0.05883</td>\n",
              "      <td>...</td>\n",
              "      <td>16.67</td>\n",
              "      <td>152.20</td>\n",
              "      <td>1575.0</td>\n",
              "      <td>0.1374</td>\n",
              "      <td>0.2050</td>\n",
              "      <td>0.4000</td>\n",
              "      <td>0.1625</td>\n",
              "      <td>0.2364</td>\n",
              "      <td>0.07678</td>\n",
              "      <td>0</td>\n",
              "    </tr>\n",
              "  </tbody>\n",
              "</table>\n",
              "<p>5 rows × 31 columns</p>\n",
              "</div>\n",
              "    <div class=\"colab-df-buttons\">\n",
              "\n",
              "  <div class=\"colab-df-container\">\n",
              "    <button class=\"colab-df-convert\" onclick=\"convertToInteractive('df-3a228917-7011-4d52-b40b-7bafe38868ed')\"\n",
              "            title=\"Convert this dataframe to an interactive table.\"\n",
              "            style=\"display:none;\">\n",
              "\n",
              "  <svg xmlns=\"http://www.w3.org/2000/svg\" height=\"24px\" viewBox=\"0 -960 960 960\">\n",
              "    <path d=\"M120-120v-720h720v720H120Zm60-500h600v-160H180v160Zm220 220h160v-160H400v160Zm0 220h160v-160H400v160ZM180-400h160v-160H180v160Zm440 0h160v-160H620v160ZM180-180h160v-160H180v160Zm440 0h160v-160H620v160Z\"/>\n",
              "  </svg>\n",
              "    </button>\n",
              "\n",
              "  <style>\n",
              "    .colab-df-container {\n",
              "      display:flex;\n",
              "      gap: 12px;\n",
              "    }\n",
              "\n",
              "    .colab-df-convert {\n",
              "      background-color: #E8F0FE;\n",
              "      border: none;\n",
              "      border-radius: 50%;\n",
              "      cursor: pointer;\n",
              "      display: none;\n",
              "      fill: #1967D2;\n",
              "      height: 32px;\n",
              "      padding: 0 0 0 0;\n",
              "      width: 32px;\n",
              "    }\n",
              "\n",
              "    .colab-df-convert:hover {\n",
              "      background-color: #E2EBFA;\n",
              "      box-shadow: 0px 1px 2px rgba(60, 64, 67, 0.3), 0px 1px 3px 1px rgba(60, 64, 67, 0.15);\n",
              "      fill: #174EA6;\n",
              "    }\n",
              "\n",
              "    .colab-df-buttons div {\n",
              "      margin-bottom: 4px;\n",
              "    }\n",
              "\n",
              "    [theme=dark] .colab-df-convert {\n",
              "      background-color: #3B4455;\n",
              "      fill: #D2E3FC;\n",
              "    }\n",
              "\n",
              "    [theme=dark] .colab-df-convert:hover {\n",
              "      background-color: #434B5C;\n",
              "      box-shadow: 0px 1px 3px 1px rgba(0, 0, 0, 0.15);\n",
              "      filter: drop-shadow(0px 1px 2px rgba(0, 0, 0, 0.3));\n",
              "      fill: #FFFFFF;\n",
              "    }\n",
              "  </style>\n",
              "\n",
              "    <script>\n",
              "      const buttonEl =\n",
              "        document.querySelector('#df-3a228917-7011-4d52-b40b-7bafe38868ed button.colab-df-convert');\n",
              "      buttonEl.style.display =\n",
              "        google.colab.kernel.accessAllowed ? 'block' : 'none';\n",
              "\n",
              "      async function convertToInteractive(key) {\n",
              "        const element = document.querySelector('#df-3a228917-7011-4d52-b40b-7bafe38868ed');\n",
              "        const dataTable =\n",
              "          await google.colab.kernel.invokeFunction('convertToInteractive',\n",
              "                                                    [key], {});\n",
              "        if (!dataTable) return;\n",
              "\n",
              "        const docLinkHtml = 'Like what you see? Visit the ' +\n",
              "          '<a target=\"_blank\" href=https://colab.research.google.com/notebooks/data_table.ipynb>data table notebook</a>'\n",
              "          + ' to learn more about interactive tables.';\n",
              "        element.innerHTML = '';\n",
              "        dataTable['output_type'] = 'display_data';\n",
              "        await google.colab.output.renderOutput(dataTable, element);\n",
              "        const docLink = document.createElement('div');\n",
              "        docLink.innerHTML = docLinkHtml;\n",
              "        element.appendChild(docLink);\n",
              "      }\n",
              "    </script>\n",
              "  </div>\n",
              "\n",
              "\n",
              "<div id=\"df-8645ffbb-d172-427d-85d6-f63d325618fb\">\n",
              "  <button class=\"colab-df-quickchart\" onclick=\"quickchart('df-8645ffbb-d172-427d-85d6-f63d325618fb')\"\n",
              "            title=\"Suggest charts\"\n",
              "            style=\"display:none;\">\n",
              "\n",
              "<svg xmlns=\"http://www.w3.org/2000/svg\" height=\"24px\"viewBox=\"0 0 24 24\"\n",
              "     width=\"24px\">\n",
              "    <g>\n",
              "        <path d=\"M19 3H5c-1.1 0-2 .9-2 2v14c0 1.1.9 2 2 2h14c1.1 0 2-.9 2-2V5c0-1.1-.9-2-2-2zM9 17H7v-7h2v7zm4 0h-2V7h2v10zm4 0h-2v-4h2v4z\"/>\n",
              "    </g>\n",
              "</svg>\n",
              "  </button>\n",
              "\n",
              "<style>\n",
              "  .colab-df-quickchart {\n",
              "      --bg-color: #E8F0FE;\n",
              "      --fill-color: #1967D2;\n",
              "      --hover-bg-color: #E2EBFA;\n",
              "      --hover-fill-color: #174EA6;\n",
              "      --disabled-fill-color: #AAA;\n",
              "      --disabled-bg-color: #DDD;\n",
              "  }\n",
              "\n",
              "  [theme=dark] .colab-df-quickchart {\n",
              "      --bg-color: #3B4455;\n",
              "      --fill-color: #D2E3FC;\n",
              "      --hover-bg-color: #434B5C;\n",
              "      --hover-fill-color: #FFFFFF;\n",
              "      --disabled-bg-color: #3B4455;\n",
              "      --disabled-fill-color: #666;\n",
              "  }\n",
              "\n",
              "  .colab-df-quickchart {\n",
              "    background-color: var(--bg-color);\n",
              "    border: none;\n",
              "    border-radius: 50%;\n",
              "    cursor: pointer;\n",
              "    display: none;\n",
              "    fill: var(--fill-color);\n",
              "    height: 32px;\n",
              "    padding: 0;\n",
              "    width: 32px;\n",
              "  }\n",
              "\n",
              "  .colab-df-quickchart:hover {\n",
              "    background-color: var(--hover-bg-color);\n",
              "    box-shadow: 0 1px 2px rgba(60, 64, 67, 0.3), 0 1px 3px 1px rgba(60, 64, 67, 0.15);\n",
              "    fill: var(--button-hover-fill-color);\n",
              "  }\n",
              "\n",
              "  .colab-df-quickchart-complete:disabled,\n",
              "  .colab-df-quickchart-complete:disabled:hover {\n",
              "    background-color: var(--disabled-bg-color);\n",
              "    fill: var(--disabled-fill-color);\n",
              "    box-shadow: none;\n",
              "  }\n",
              "\n",
              "  .colab-df-spinner {\n",
              "    border: 2px solid var(--fill-color);\n",
              "    border-color: transparent;\n",
              "    border-bottom-color: var(--fill-color);\n",
              "    animation:\n",
              "      spin 1s steps(1) infinite;\n",
              "  }\n",
              "\n",
              "  @keyframes spin {\n",
              "    0% {\n",
              "      border-color: transparent;\n",
              "      border-bottom-color: var(--fill-color);\n",
              "      border-left-color: var(--fill-color);\n",
              "    }\n",
              "    20% {\n",
              "      border-color: transparent;\n",
              "      border-left-color: var(--fill-color);\n",
              "      border-top-color: var(--fill-color);\n",
              "    }\n",
              "    30% {\n",
              "      border-color: transparent;\n",
              "      border-left-color: var(--fill-color);\n",
              "      border-top-color: var(--fill-color);\n",
              "      border-right-color: var(--fill-color);\n",
              "    }\n",
              "    40% {\n",
              "      border-color: transparent;\n",
              "      border-right-color: var(--fill-color);\n",
              "      border-top-color: var(--fill-color);\n",
              "    }\n",
              "    60% {\n",
              "      border-color: transparent;\n",
              "      border-right-color: var(--fill-color);\n",
              "    }\n",
              "    80% {\n",
              "      border-color: transparent;\n",
              "      border-right-color: var(--fill-color);\n",
              "      border-bottom-color: var(--fill-color);\n",
              "    }\n",
              "    90% {\n",
              "      border-color: transparent;\n",
              "      border-bottom-color: var(--fill-color);\n",
              "    }\n",
              "  }\n",
              "</style>\n",
              "\n",
              "  <script>\n",
              "    async function quickchart(key) {\n",
              "      const quickchartButtonEl =\n",
              "        document.querySelector('#' + key + ' button');\n",
              "      quickchartButtonEl.disabled = true;  // To prevent multiple clicks.\n",
              "      quickchartButtonEl.classList.add('colab-df-spinner');\n",
              "      try {\n",
              "        const charts = await google.colab.kernel.invokeFunction(\n",
              "            'suggestCharts', [key], {});\n",
              "      } catch (error) {\n",
              "        console.error('Error during call to suggestCharts:', error);\n",
              "      }\n",
              "      quickchartButtonEl.classList.remove('colab-df-spinner');\n",
              "      quickchartButtonEl.classList.add('colab-df-quickchart-complete');\n",
              "    }\n",
              "    (() => {\n",
              "      let quickchartButtonEl =\n",
              "        document.querySelector('#df-8645ffbb-d172-427d-85d6-f63d325618fb button');\n",
              "      quickchartButtonEl.style.display =\n",
              "        google.colab.kernel.accessAllowed ? 'block' : 'none';\n",
              "    })();\n",
              "  </script>\n",
              "</div>\n",
              "\n",
              "    </div>\n",
              "  </div>\n"
            ],
            "text/plain": [
              "   mean radius  mean texture  mean perimeter  mean area  mean smoothness  \\\n",
              "0        17.99         10.38          122.80     1001.0          0.11840   \n",
              "1        20.57         17.77          132.90     1326.0          0.08474   \n",
              "2        19.69         21.25          130.00     1203.0          0.10960   \n",
              "3          NaN         20.38           77.58      386.1          0.14250   \n",
              "4        20.29         14.34          135.10     1297.0          0.10030   \n",
              "\n",
              "   mean compactness  mean concavity  mean concave points  mean symmetry  \\\n",
              "0           0.27760          0.3001              0.14710         0.2419   \n",
              "1           0.07864          0.0869              0.07017         0.1812   \n",
              "2           0.15990          0.1974              0.12790         0.2069   \n",
              "3           0.28390          0.2414              0.10520         0.2597   \n",
              "4           0.13280          0.1980              0.10430         0.1809   \n",
              "\n",
              "   mean fractal dimension  ...  worst texture  worst perimeter  worst area  \\\n",
              "0                 0.07871  ...          17.33           184.60      2019.0   \n",
              "1                 0.05667  ...          23.41           158.80      1956.0   \n",
              "2                 0.05999  ...          25.53           152.50      1709.0   \n",
              "3                 0.09744  ...          26.50            98.87       567.7   \n",
              "4                 0.05883  ...          16.67           152.20      1575.0   \n",
              "\n",
              "   worst smoothness  worst compactness  worst concavity  worst concave points  \\\n",
              "0            0.1622             0.6656           0.7119                0.2654   \n",
              "1            0.1238             0.1866           0.2416                0.1860   \n",
              "2            0.1444             0.4245           0.4504                0.2430   \n",
              "3            0.2098             0.8663           0.6869                0.2575   \n",
              "4            0.1374             0.2050           0.4000                0.1625   \n",
              "\n",
              "   worst symmetry  worst fractal dimension  target  \n",
              "0          0.4601                  0.11890       0  \n",
              "1          0.2750                  0.08902       0  \n",
              "2          0.3613                  0.08758       0  \n",
              "3          0.6638                  0.17300       0  \n",
              "4          0.2364                  0.07678       0  \n",
              "\n",
              "[5 rows x 31 columns]"
            ]
          },
          "execution_count": 23,
          "metadata": {},
          "output_type": "execute_result"
        }
      ],
      "source": [
        "# 여기에 답안코드를 작성하세요\n",
        "\n",
        "bcc = pd.read_csv('breast_cacncer3.csv')\n",
        "bcc.head()"
      ]
    },
    {
      "cell_type": "markdown",
      "metadata": {
        "id": "GMFq2_0yQwQz"
      },
      "source": [
        "### **Q4. 아래 가이드대로 진행 하세요.**\n",
        "* **\n",
        "- seaborn 임포트하세요\n",
        "- seaborn의 scatterplot으로 그리세요.\n",
        "  - x : 'mean radius'\n",
        "  - y : 'mean area'\n",
        "  - hue : 'target'\n",
        "- 출력된 그래프를 보고 아래 보기 답안중에 틀린것을 변수04에 저장하세요(예, 변수04=5)\n",
        "    1. 'mean radius' 컬럼과 'mean area' 컬럼 간에는 양의 비례 관계가 보인다.\n",
        "    2. 그래프를 보면, target 악성(0)이 위쪽에 위치하고 있으며 target 양성(1)은 아래쪽에 분포한다.\n",
        "    3. 그래프를 보면, 심각한 이상치 데이터는 보이지 않는다.\n",
        "---"
      ]
    },
    {
      "cell_type": "code",
      "execution_count": null,
      "metadata": {
        "colab": {
          "base_uri": "https://localhost:8080/",
          "height": 449
        },
        "id": "galmrZnxQwQz",
        "outputId": "2e3606b7-16fc-430b-ab3f-83c3fb3f09f3"
      },
      "outputs": [
        {
          "data": {
            "image/png": "[encoded data removed]",
            "text/plain": [
              "<Figure size 640x480 with 1 Axes>"
            ]
          },
          "metadata": {},
          "output_type": "display_data"
        }
      ],
      "source": [
        "# 여기에 답안코드를 작성하세요\n",
        "\n",
        "import seaborn as sns\n",
        "sns.scatterplot(data=bcc, x='mean radius', y='mean area', hue='target')\n",
        "변수04=3"
      ]
    },
    {
      "cell_type": "markdown",
      "metadata": {
        "id": "q2p-PgqsQwQz"
      },
      "source": [
        "### **Q5. 데이터 프레임 bcc에 대한 가이드 대로 결측치와 이상치 처리하세요.**\n",
        "* **\n",
        "- 먼저, 위의 그래프에서 보이는 1개의 이상치 데이터를 찾아 삭제하세요.\n",
        "- 그다음, 결측치를 확인하는 코드를 작성하세요..\n",
        "- 연속형 컬럼에 대해서는 결측치를 평균값으로 채우세요.\n",
        "- 결측치 처리 결과를 bcc_null 데이터프레임에 저장하세요.\n",
        "---"
      ]
    },
    {
      "cell_type": "code",
      "execution_count": null,
      "metadata": {
        "colab": {
          "base_uri": "https://localhost:8080/"
        },
        "id": "YUuIRKFzQwQz",
        "outputId": "fe1e1190-53c7-4749-f136-e990d1597d84"
      },
      "outputs": [
        {
          "name": "stdout",
          "output_type": "stream",
          "text": [
            "처리전: (569, 31)\n",
            "처리후: (568, 31)\n"
          ]
        }
      ],
      "source": [
        "# 여기에 답안코드를 작성하세요\n",
        "\n",
        "\n",
        "bcc_null = bcc.copy()\n",
        "print('처리전:', bcc_null.shape)\n",
        "\n",
        "cond = (bcc_null['mean area'] > 2500)\n",
        "bcc_null = bcc_null[ ~cond ]\n",
        "\n",
        "bcc_null.isnull().sum()\n",
        "bcc_null['mean radius'] = bcc_null['mean radius'].fillna(bcc_null['mean radius'].mean())\n",
        "bcc_null['mean concavity'] = bcc_null['mean concavity'].fillna(bcc_null['mean concavity'].mean())\n",
        "\n",
        "bcc_null.isnull().sum()\n",
        "print('처리후:', bcc_null.shape)"
      ]
    },
    {
      "cell_type": "markdown",
      "metadata": {
        "id": "ZUYVba2BQwQz"
      },
      "source": [
        "### **Q6. 아래 가이드대로 데이터프레임을 만들고 그룹화하세요.**\n",
        "* **\n",
        "- target 컬럼을 기준으로 그룹화하세요.\n",
        "  - 대상 데이터프레임 : bcc_null\n",
        "  - groupby 함수 활용하시고 각 컬럼의 평균을 출력하세요.\n",
        "- 그룹화 결과에서  target이 0 일때, 가장 큰값을 갖는 컬럼명을 변수05 저장하세요.(예, 변수05='컬럼명')\n",
        "  - loc 함수와 sort_values 함수를 사용하세요.\n",
        "---"
      ]
    },
    {
      "cell_type": "code",
      "execution_count": null,
      "metadata": {
        "colab": {
          "base_uri": "https://localhost:8080/",
          "height": 1000
        },
        "id": "I_GoiypxQwQz",
        "outputId": "72b02896-89ee-4cc3-efbf-e954dc9daae9"
      },
      "outputs": [
        {
          "data": {
            "text/html": [
              "<div>\n",
              "<style scoped>\n",
              "    .dataframe tbody tr th:only-of-type {\n",
              "        vertical-align: middle;\n",
              "    }\n",
              "\n",
              "    .dataframe tbody tr th {\n",
              "        vertical-align: top;\n",
              "    }\n",
              "\n",
              "    .dataframe thead th {\n",
              "        text-align: right;\n",
              "    }\n",
              "</style>\n",
              "<table border=\"1\" class=\"dataframe\">\n",
              "  <thead>\n",
              "    <tr style=\"text-align: right;\">\n",
              "      <th></th>\n",
              "      <th>0</th>\n",
              "    </tr>\n",
              "  </thead>\n",
              "  <tbody>\n",
              "    <tr>\n",
              "      <th>worst area</th>\n",
              "      <td>1408.865877</td>\n",
              "    </tr>\n",
              "    <tr>\n",
              "      <th>mean area</th>\n",
              "      <td>971.160190</td>\n",
              "    </tr>\n",
              "    <tr>\n",
              "      <th>worst perimeter</th>\n",
              "      <td>140.849810</td>\n",
              "    </tr>\n",
              "    <tr>\n",
              "      <th>mean perimeter</th>\n",
              "      <td>115.026351</td>\n",
              "    </tr>\n",
              "    <tr>\n",
              "      <th>area error</th>\n",
              "      <td>70.447156</td>\n",
              "    </tr>\n",
              "    <tr>\n",
              "      <th>worst texture</th>\n",
              "      <td>29.308483</td>\n",
              "    </tr>\n",
              "    <tr>\n",
              "      <th>mean texture</th>\n",
              "      <td>21.582796</td>\n",
              "    </tr>\n",
              "    <tr>\n",
              "      <th>worst radius</th>\n",
              "      <td>21.064171</td>\n",
              "    </tr>\n",
              "    <tr>\n",
              "      <th>mean radius</th>\n",
              "      <td>17.428382</td>\n",
              "    </tr>\n",
              "    <tr>\n",
              "      <th>perimeter error</th>\n",
              "      <td>4.256033</td>\n",
              "    </tr>\n",
              "    <tr>\n",
              "      <th>texture error</th>\n",
              "      <td>1.210464</td>\n",
              "    </tr>\n",
              "    <tr>\n",
              "      <th>radius error</th>\n",
              "      <td>0.599898</td>\n",
              "    </tr>\n",
              "    <tr>\n",
              "      <th>worst concavity</th>\n",
              "      <td>0.449503</td>\n",
              "    </tr>\n",
              "    <tr>\n",
              "      <th>worst compactness</th>\n",
              "      <td>0.374583</td>\n",
              "    </tr>\n",
              "    <tr>\n",
              "      <th>worst symmetry</th>\n",
              "      <td>0.323749</td>\n",
              "    </tr>\n",
              "    <tr>\n",
              "      <th>mean symmetry</th>\n",
              "      <td>0.192846</td>\n",
              "    </tr>\n",
              "    <tr>\n",
              "      <th>worst concave points</th>\n",
              "      <td>0.181857</td>\n",
              "    </tr>\n",
              "    <tr>\n",
              "      <th>mean concavity</th>\n",
              "      <td>0.159814</td>\n",
              "    </tr>\n",
              "    <tr>\n",
              "      <th>mean compactness</th>\n",
              "      <td>0.144934</td>\n",
              "    </tr>\n",
              "    <tr>\n",
              "      <th>worst smoothness</th>\n",
              "      <td>0.144889</td>\n",
              "    </tr>\n",
              "    <tr>\n",
              "      <th>mean smoothness</th>\n",
              "      <td>0.102872</td>\n",
              "    </tr>\n",
              "    <tr>\n",
              "      <th>worst fractal dimension</th>\n",
              "      <td>0.091612</td>\n",
              "    </tr>\n",
              "    <tr>\n",
              "      <th>mean concave points</th>\n",
              "      <td>0.087607</td>\n",
              "    </tr>\n",
              "    <tr>\n",
              "      <th>mean fractal dimension</th>\n",
              "      <td>0.062711</td>\n",
              "    </tr>\n",
              "    <tr>\n",
              "      <th>concavity error</th>\n",
              "      <td>0.041640</td>\n",
              "    </tr>\n",
              "    <tr>\n",
              "      <th>compactness error</th>\n",
              "      <td>0.032179</td>\n",
              "    </tr>\n",
              "    <tr>\n",
              "      <th>symmetry error</th>\n",
              "      <td>0.020489</td>\n",
              "    </tr>\n",
              "    <tr>\n",
              "      <th>concave points error</th>\n",
              "      <td>0.015009</td>\n",
              "    </tr>\n",
              "    <tr>\n",
              "      <th>smoothness error</th>\n",
              "      <td>0.006776</td>\n",
              "    </tr>\n",
              "    <tr>\n",
              "      <th>fractal dimension error</th>\n",
              "      <td>0.004060</td>\n",
              "    </tr>\n",
              "  </tbody>\n",
              "</table>\n",
              "</div><br><label><b>dtype:</b> float64</label>"
            ],
            "text/plain": [
              "worst area                 1408.865877\n",
              "mean area                   971.160190\n",
              "worst perimeter             140.849810\n",
              "mean perimeter              115.026351\n",
              "area error                   70.447156\n",
              "worst texture                29.308483\n",
              "mean texture                 21.582796\n",
              "worst radius                 21.064171\n",
              "mean radius                  17.428382\n",
              "perimeter error               4.256033\n",
              "texture error                 1.210464\n",
              "radius error                  0.599898\n",
              "worst concavity               0.449503\n",
              "worst compactness             0.374583\n",
              "worst symmetry                0.323749\n",
              "mean symmetry                 0.192846\n",
              "worst concave points          0.181857\n",
              "mean concavity                0.159814\n",
              "mean compactness              0.144934\n",
              "worst smoothness              0.144889\n",
              "mean smoothness               0.102872\n",
              "worst fractal dimension       0.091612\n",
              "mean concave points           0.087607\n",
              "mean fractal dimension        0.062711\n",
              "concavity error               0.041640\n",
              "compactness error             0.032179\n",
              "symmetry error                0.020489\n",
              "concave points error          0.015009\n",
              "smoothness error              0.006776\n",
              "fractal dimension error       0.004060\n",
              "Name: 0, dtype: float64"
            ]
          },
          "execution_count": 26,
          "metadata": {},
          "output_type": "execute_result"
        }
      ],
      "source": [
        "# 여기에 답안코드를 작성하세요\n",
        "\n",
        "변수05='worst area'\n",
        "res = bcc_null.groupby('target').mean()\n",
        "res.loc[0].sort_values(ascending=False)"
      ]
    },
    {
      "cell_type": "markdown",
      "metadata": {
        "id": "1CGdevFpQwQ0"
      },
      "source": [
        "<br>"
      ]
    },
    {
      "cell_type": "markdown",
      "metadata": {
        "id": "FtnRmoaSQwQ0"
      },
      "source": [
        "> **<span style=\"color:red\">다음 문항을 풀기 전에 </span>아래 코드를 실행하시기 바랍니다.**\n",
        ">"
      ]
    },
    {
      "cell_type": "code",
      "execution_count": null,
      "metadata": {
        "colab": {
          "base_uri": "https://localhost:8080/",
          "height": 35
        },
        "id": "o2HYexFAQwQ0",
        "outputId": "e3fce7c6-c04d-4aa8-f2db-a94bfddbb30b"
      },
      "outputs": [
        {
          "data": {
            "text/plain": [
              "<Figure size 1200x700 with 0 Axes>"
            ]
          },
          "metadata": {},
          "output_type": "display_data"
        }
      ],
      "source": [
        "import numpy as np\n",
        "plt.figure(figsize=(12,7))\n",
        "\n",
        "bcc_mean = ['mean radius', 'mean texture', 'mean perimeter', 'mean area',\n",
        "       'mean smoothness', 'mean compactness', 'mean concavity',\n",
        "       'mean concave points', 'mean symmetry', 'mean fractal dimension' ]\n",
        "\n",
        "bcc_error = [ 'compactness error', 'symmetry error' ]"
      ]
    },
    {
      "cell_type": "markdown",
      "metadata": {
        "id": "x48WtPVZQwQ0"
      },
      "source": [
        "<br>"
      ]
    },
    {
      "cell_type": "markdown",
      "metadata": {
        "id": "k0Nph32EQwQ0"
      },
      "source": [
        "### **Q7. 데이터 프레임 bcc_null에 대해 가이드대로 시각화 하세요.**\n",
        "* **\n",
        "- 먼저, 위의 정의된 bcc_error 리스트 컬럼들을 삭제하세요.\n",
        "- 그리고, 숫자형 데이터에 대해서 heatmap 그래프를 그리세요.\n",
        "  - 데이터 : 위의 정의된  bcc_mean 리스트 컬럼에 대한 상관관계\n",
        "  - heatmap 안에 상관관계 수치를 표시하세요.\n",
        "  - 'mean radius' 컬럼과 가장 높은 상관관계를 갖는 컬러명을 변수06 저장하세요.(예, 변수07='컬럼명')\n",
        "---"
      ]
    },
    {
      "cell_type": "code",
      "execution_count": null,
      "metadata": {
        "colab": {
          "base_uri": "https://localhost:8080/",
          "height": 628
        },
        "id": "I1WiPa8JQwQ0",
        "outputId": "e52ad974-3c95-4420-ed17-bedeaf335b02"
      },
      "outputs": [
        {
          "data": {
            "image/png": "[encoded data removed]",
            "text/plain": [
              "<Figure size 1200x700 with 2 Axes>"
            ]
          },
          "metadata": {},
          "output_type": "display_data"
        }
      ],
      "source": [
        "# 여기에 답안코드를 작성하세요\n",
        "\n",
        "\n",
        "bcc_null.drop(bcc_error, axis=1, inplace=True)\n",
        "\n",
        "plt.figure(figsize=(12,7))\n",
        "corr = bcc_null[ bcc_mean ].corr()\n",
        "sns.heatmap(corr, annot=True)\n",
        "\n",
        "변수07='mean perimeter'"
      ]
    },
    {
      "cell_type": "markdown",
      "metadata": {
        "id": "5z7xJxZcwC30"
      },
      "source": [
        "### **Q8. 데이터를 트레이닝셋 / 테스트셋으로 분할하시기 바랍니다.**\n",
        "* **\n",
        "- sklearn.model_selection 밑에 train_test_split 함수를 사용하세요.\n",
        "- y는 bcc_null 데이터프레임의 'target'컬럼이고 x는 그 나머지 컬럼이다.\n",
        "- train : test = 8 : 2\n",
        "- y의 클래스가 골고루 분할되도록 stratify하게 분할한다.\n",
        "- 변수명 규칙은 다음과 같다.\n",
        "    * x_train, y_train\n",
        "    * x_test, y_test\n",
        "- random state은 2021로 설정한다.\n",
        "---"
      ]
    },
    {
      "cell_type": "code",
      "execution_count": null,
      "metadata": {
        "colab": {
          "base_uri": "https://localhost:8080/"
        },
        "id": "nyfNZ71iwC30",
        "outputId": "b0f267ae-e412-4801-f9a0-5402e89ac5ca"
      },
      "outputs": [
        {
          "data": {
            "text/plain": [
              "((454, 28), (114, 28), (454,), (114,))"
            ]
          },
          "execution_count": 29,
          "metadata": {},
          "output_type": "execute_result"
        }
      ],
      "source": [
        "# 여기에 답안코드를 작성하세요\n",
        "\n",
        "from sklearn.model_selection import train_test_split\n",
        "\n",
        "x = bcc_null.drop('target', axis=1)\n",
        "y = bcc_null['target']\n",
        "\n",
        "x_train, x_test, y_train, y_test = train_test_split(x, y, test_size=0.2, random_state=2021, stratify = y)\n",
        "x_train.shape, x_test.shape, y_train.shape, y_test.shape"
      ]
    },
    {
      "cell_type": "markdown",
      "metadata": {
        "id": "AWH0Q7AeFU3b"
      },
      "source": [
        "### **Q9. x_train, x_test의 모든 컬럼을 각각 표준화(standardization) 스케일링 하시기 바랍니다.**\n",
        "* **\n",
        "- **모든 전처리 규칙은 트레이닝셋으로 부터 선정한다.**\n",
        "- sklearn.preprocessing 밑의 StandardScaler 함수 사용하세요.\n",
        "- 스케일링한 x들은 각각 아래의 변수에 따로 선언해둔다.\n",
        "    * x_train_sc\n",
        "    * x_test_sc\n",
        "---"
      ]
    },
    {
      "cell_type": "code",
      "execution_count": null,
      "metadata": {
        "id": "bDO4b87kFU3c"
      },
      "outputs": [],
      "source": [
        "# 여기에 답안코드를 작성하세요\n",
        "from sklearn.preprocessing import StandardScaler\n",
        "\n",
        "scaler = StandardScaler()\n",
        "x_train_sc = scaler.fit_transform(x_train)\n",
        "x_test_sc = scaler.transform(x_test)"
      ]
    },
    {
      "cell_type": "markdown",
      "metadata": {
        "id": "gDlfuPL30wai"
      },
      "source": [
        "### **Q8. RandomForest 모델들을 학습시키시기 바랍니다.**\n",
        "* **\n",
        "- sklearn.ensemble 밑에 RandomForestClassifier 함수 활용합니다.\n",
        "- 트레이닝 셋 (x_train_sc, y_train)을 이용하여 학습시킨다.\n",
        "- RandomForestClassifier 모델 이름을 rfc로 정의합니다.   \n",
        "- rfc 모델 정의시, n_estimators : 100, max_depth : 10 설정합니다.\n",
        "- score 함수를 사용하여 테스트셋(x_test_sc, y_test)의 accuracy 정확도를 확인하세요\n",
        "---"
      ]
    },
    {
      "cell_type": "code",
      "execution_count": null,
      "metadata": {
        "colab": {
          "base_uri": "https://localhost:8080/"
        },
        "id": "nyWt8cfl0waj",
        "outputId": "653997f4-edbb-46ca-a3d9-6c23c930298b"
      },
      "outputs": [
        {
          "data": {
            "text/plain": [
              "0.9736842105263158"
            ]
          },
          "execution_count": 31,
          "metadata": {},
          "output_type": "execute_result"
        }
      ],
      "source": [
        "# 여기에 답안코드를 작성하세요\n",
        "\n",
        "from sklearn.ensemble import RandomForestClassifier\n",
        "rfc = RandomForestClassifier(n_estimators = 100, max_depth=10)\n",
        "rfc.fit(x_train_sc, y_train)\n",
        "rfc.score(x_test_sc, y_test)"
      ]
    },
    {
      "cell_type": "markdown",
      "metadata": {
        "id": "o8KgwBUY21AG"
      },
      "source": [
        "### **Q9. 위의 Randomforest 모델의 변수중요도를 확인합니다.**\n",
        "* **\n",
        "- rfc 모델에 대한 feature_importances_(변수중요도)를 구하세요.\n",
        "- pd.Series와 x_train의 컬럼명과 Sort_values을 활용해서 제일 중요한 변수를 찾아 변수9에 저장하세요.(예, 변수9='컬럼명')\n",
        "---"
      ]
    },
    {
      "cell_type": "code",
      "execution_count": null,
      "metadata": {
        "colab": {
          "base_uri": "https://localhost:8080/",
          "height": 962
        },
        "id": "UtTgF5FT21AI",
        "outputId": "4318957a-41f4-4377-fb14-cb9c1e745ef9"
      },
      "outputs": [
        {
          "data": {
            "text/html": [
              "<div>\n",
              "<style scoped>\n",
              "    .dataframe tbody tr th:only-of-type {\n",
              "        vertical-align: middle;\n",
              "    }\n",
              "\n",
              "    .dataframe tbody tr th {\n",
              "        vertical-align: top;\n",
              "    }\n",
              "\n",
              "    .dataframe thead th {\n",
              "        text-align: right;\n",
              "    }\n",
              "</style>\n",
              "<table border=\"1\" class=\"dataframe\">\n",
              "  <thead>\n",
              "    <tr style=\"text-align: right;\">\n",
              "      <th></th>\n",
              "      <th>0</th>\n",
              "    </tr>\n",
              "  </thead>\n",
              "  <tbody>\n",
              "    <tr>\n",
              "      <th>worst perimeter</th>\n",
              "      <td>0.136035</td>\n",
              "    </tr>\n",
              "    <tr>\n",
              "      <th>worst area</th>\n",
              "      <td>0.129777</td>\n",
              "    </tr>\n",
              "    <tr>\n",
              "      <th>worst radius</th>\n",
              "      <td>0.119787</td>\n",
              "    </tr>\n",
              "    <tr>\n",
              "      <th>worst concave points</th>\n",
              "      <td>0.109555</td>\n",
              "    </tr>\n",
              "    <tr>\n",
              "      <th>mean area</th>\n",
              "      <td>0.063015</td>\n",
              "    </tr>\n",
              "    <tr>\n",
              "      <th>mean concave points</th>\n",
              "      <td>0.059227</td>\n",
              "    </tr>\n",
              "    <tr>\n",
              "      <th>mean concavity</th>\n",
              "      <td>0.058232</td>\n",
              "    </tr>\n",
              "    <tr>\n",
              "      <th>area error</th>\n",
              "      <td>0.053663</td>\n",
              "    </tr>\n",
              "    <tr>\n",
              "      <th>mean radius</th>\n",
              "      <td>0.041634</td>\n",
              "    </tr>\n",
              "    <tr>\n",
              "      <th>worst concavity</th>\n",
              "      <td>0.035965</td>\n",
              "    </tr>\n",
              "    <tr>\n",
              "      <th>mean perimeter</th>\n",
              "      <td>0.034132</td>\n",
              "    </tr>\n",
              "    <tr>\n",
              "      <th>worst texture</th>\n",
              "      <td>0.025543</td>\n",
              "    </tr>\n",
              "    <tr>\n",
              "      <th>worst compactness</th>\n",
              "      <td>0.020674</td>\n",
              "    </tr>\n",
              "    <tr>\n",
              "      <th>radius error</th>\n",
              "      <td>0.014852</td>\n",
              "    </tr>\n",
              "    <tr>\n",
              "      <th>worst symmetry</th>\n",
              "      <td>0.012532</td>\n",
              "    </tr>\n",
              "    <tr>\n",
              "      <th>mean texture</th>\n",
              "      <td>0.012156</td>\n",
              "    </tr>\n",
              "    <tr>\n",
              "      <th>mean compactness</th>\n",
              "      <td>0.010768</td>\n",
              "    </tr>\n",
              "    <tr>\n",
              "      <th>worst smoothness</th>\n",
              "      <td>0.010691</td>\n",
              "    </tr>\n",
              "    <tr>\n",
              "      <th>mean smoothness</th>\n",
              "      <td>0.008898</td>\n",
              "    </tr>\n",
              "    <tr>\n",
              "      <th>worst fractal dimension</th>\n",
              "      <td>0.007172</td>\n",
              "    </tr>\n",
              "    <tr>\n",
              "      <th>texture error</th>\n",
              "      <td>0.006472</td>\n",
              "    </tr>\n",
              "    <tr>\n",
              "      <th>perimeter error</th>\n",
              "      <td>0.005729</td>\n",
              "    </tr>\n",
              "    <tr>\n",
              "      <th>smoothness error</th>\n",
              "      <td>0.005179</td>\n",
              "    </tr>\n",
              "    <tr>\n",
              "      <th>fractal dimension error</th>\n",
              "      <td>0.005157</td>\n",
              "    </tr>\n",
              "    <tr>\n",
              "      <th>mean symmetry</th>\n",
              "      <td>0.003635</td>\n",
              "    </tr>\n",
              "    <tr>\n",
              "      <th>concave points error</th>\n",
              "      <td>0.003478</td>\n",
              "    </tr>\n",
              "    <tr>\n",
              "      <th>concavity error</th>\n",
              "      <td>0.003025</td>\n",
              "    </tr>\n",
              "    <tr>\n",
              "      <th>mean fractal dimension</th>\n",
              "      <td>0.003020</td>\n",
              "    </tr>\n",
              "  </tbody>\n",
              "</table>\n",
              "</div><br><label><b>dtype:</b> float64</label>"
            ],
            "text/plain": [
              "worst perimeter            0.136035\n",
              "worst area                 0.129777\n",
              "worst radius               0.119787\n",
              "worst concave points       0.109555\n",
              "mean area                  0.063015\n",
              "mean concave points        0.059227\n",
              "mean concavity             0.058232\n",
              "area error                 0.053663\n",
              "mean radius                0.041634\n",
              "worst concavity            0.035965\n",
              "mean perimeter             0.034132\n",
              "worst texture              0.025543\n",
              "worst compactness          0.020674\n",
              "radius error               0.014852\n",
              "worst symmetry             0.012532\n",
              "mean texture               0.012156\n",
              "mean compactness           0.010768\n",
              "worst smoothness           0.010691\n",
              "mean smoothness            0.008898\n",
              "worst fractal dimension    0.007172\n",
              "texture error              0.006472\n",
              "perimeter error            0.005729\n",
              "smoothness error           0.005179\n",
              "fractal dimension error    0.005157\n",
              "mean symmetry              0.003635\n",
              "concave points error       0.003478\n",
              "concavity error            0.003025\n",
              "mean fractal dimension     0.003020\n",
              "dtype: float64"
            ]
          },
          "execution_count": 32,
          "metadata": {},
          "output_type": "execute_result"
        }
      ],
      "source": [
        "# 여기에 답안코드를 작성하세요\n",
        "\n",
        "변수9='worst perimeter'\n",
        "pd.Series(rfc.feature_importances_ , index=x_train.columns).sort_values(ascending=False)"
      ]
    },
    {
      "cell_type": "markdown",
      "metadata": {
        "id": "WWavZJj64rOJ"
      },
      "source": [
        "### **Q10. XGB 모델들을 학습시키시기 바랍니다.**\n",
        "* **\n",
        "- xgboost 밑에 XGBClassifier 함수 활용합니다.\n",
        "- 트레이닝 셋 (x_train_sc, y_train)을 이용하여 학습시킨다.\n",
        "- XGBClassifier 모델 이름을 xgbc로 정의합니다.   \n",
        "- xgbc 모델 정의시, n_estimators : 400, learning_rate : 0.05, max_depth : 3 설정합니다.\n",
        "- score 함수를 사용하여 테스트셋(x_test_sc, y_test)의 accuracy 정확도를 확인합니다. 하세요\n",
        "---"
      ]
    },
    {
      "cell_type": "code",
      "execution_count": null,
      "metadata": {
        "colab": {
          "base_uri": "https://localhost:8080/"
        },
        "id": "Ur3Q4e-14rOQ",
        "outputId": "51076423-2fb6-4cec-f5cb-aa04af9e2530"
      },
      "outputs": [
        {
          "data": {
            "text/plain": [
              "1.0"
            ]
          },
          "execution_count": 33,
          "metadata": {},
          "output_type": "execute_result"
        }
      ],
      "source": [
        "# 여기에 답안코드를 작성하세요\n",
        "\n",
        "# !pip install xgboost\n",
        "from xgboost import XGBClassifier\n",
        "\n",
        "xgbc = XGBClassifier(n_estimators=400, learning_rate=0.05, max_depth=3)\n",
        "xgbc.fit(x_train_sc, y_train)\n",
        "xgbc.score(x_test_sc, y_test)\n"
      ]
    },
    {
      "cell_type": "markdown",
      "metadata": {
        "id": "YRhJyslSIEdM"
      },
      "source": [
        "### **Q11. 테스트 셋을 이용하여 학습된 2개 모델의 성능을 출력하시기 바랍니다.**\n",
        "* **\n",
        "- 앞의 rfc 모델과 xgbc 모델로 테스트셋(x_test_sc)을 예측하여 결과값을 각각 rfc_pred, xgbc_pred에 저장하세요.\n",
        "- 평가를 위한 성능평가함수는 정확도와 f1-score 를 이용하여 2개 모델에 대해서 정확도와 f1-score 성능을 출력하세요.\n",
        "- sklearn.metrics 밑에 accuracy_score, f1_score 함수 활용하세요.\n",
        "- f1-score 성능이 높은 모델의 이름을 변수11에 저장하세요.\n",
        "  - 예, 변수11='rfc' or 변수11='xgbc'\n",
        "---"
      ]
    },
    {
      "cell_type": "code",
      "execution_count": null,
      "metadata": {
        "colab": {
          "base_uri": "https://localhost:8080/"
        },
        "id": "UTICugACIEdN",
        "outputId": "869f28c1-4d4c-4edb-c5e0-4c2a92df5e07"
      },
      "outputs": [
        {
          "name": "stdout",
          "output_type": "stream",
          "text": [
            "rfc Accuracy : 0.9736842105263158\n",
            "rfc F1-score : 0.9793103448275863 \n",
            "xgbc Accuracy : 1.0\n",
            "xgbc F1-score : 1.0 \n"
          ]
        }
      ],
      "source": [
        "# 여기에 답안코드를 작성하세요\n",
        "\n",
        "변수11='xgbc'\n",
        "from sklearn.metrics import accuracy_score, f1_score\n",
        "\n",
        "rfc_pred = rfc.predict(x_test_sc)\n",
        "print(f'rfc Accuracy : { accuracy_score(y_test, rfc_pred) }')\n",
        "print(f'rfc F1-score : { f1_score(y_test, rfc_pred) } ')\n",
        "\n",
        "\n",
        "xgbc_pred = xgbc.predict(x_test_sc)\n",
        "print(f'xgbc Accuracy : { accuracy_score(y_test, xgbc_pred) }')\n",
        "print(f'xgbc F1-score : { f1_score(y_test, xgbc_pred) } ')\n",
        "\n"
      ]
    },
    {
      "cell_type": "markdown",
      "metadata": {
        "id": "3VhJN_3EVytI"
      },
      "source": [
        "### **Q12. rfc 모델의 classificaiton report를 출력하고, 악성(0)의 precision 값을 출력하시오**\n",
        "---\n",
        "  - sklearn.metrics 밑의 classification_report 함수 활용한다.\n",
        "  - rfc 모델로 테스트셋에 대해서 예측한 결과 rfc_pred 변수를 활용한다.\n",
        "  - classificaiton report를 출력하고 , 악성(0)의 precision 값을 변수12에 저장하세요.(예, 변수12=0.25)\n",
        "---"
      ]
    },
    {
      "cell_type": "code",
      "execution_count": null,
      "metadata": {
        "colab": {
          "base_uri": "https://localhost:8080/"
        },
        "id": "JiZ16BAKVytI",
        "outputId": "e2a1dab1-785f-44d9-f28f-e7499bfb7b8d"
      },
      "outputs": [
        {
          "name": "stdout",
          "output_type": "stream",
          "text": [
            "              precision    recall  f1-score   support\n",
            "\n",
            "           0       0.98      0.95      0.96        42\n",
            "           1       0.97      0.99      0.98        72\n",
            "\n",
            "    accuracy                           0.97       114\n",
            "   macro avg       0.97      0.97      0.97       114\n",
            "weighted avg       0.97      0.97      0.97       114\n",
            "\n"
          ]
        }
      ],
      "source": [
        "# 여기에 답안코드를 작성하세요\n",
        "\n",
        "변수12=0.98\n",
        "from sklearn.metrics import classification_report, confusion_matrix\n",
        "\n",
        "print(classification_report(y_test, rfc_pred, ))\n"
      ]
    },
    {
      "cell_type": "markdown",
      "metadata": {
        "id": "jxX0JWgfIhuy"
      },
      "source": [
        "### **Q13. rfc 모델의 오차행렬의 결과를 heatmap으로 출력하시오.**\n",
        "---\n",
        "  - sklearn.metrics 밑의 confusion_matrix 함수 활용한다.\n",
        "  - rfc 모델로 테스트셋에 대해서 예측한 결과 rfc_pred 변수를 활용한다.\n",
        "  - 오차행렬을 만들어 그래프 heatmap으로 출력하세요. annot 설정하여 숫자를 보이도록 합니다.\n",
        "---"
      ]
    },
    {
      "cell_type": "code",
      "execution_count": null,
      "metadata": {
        "colab": {
          "base_uri": "https://localhost:8080/",
          "height": 448
        },
        "id": "M1eTK9zrIhuz",
        "outputId": "4e33b73d-ce77-4c47-fdcb-66e2c592242f"
      },
      "outputs": [
        {
          "data": {
            "text/plain": [
              "<Axes: >"
            ]
          },
          "execution_count": 36,
          "metadata": {},
          "output_type": "execute_result"
        },
        {
          "data": {
            "image/png": "[encoded data removed]",
            "text/plain": [
              "<Figure size 640x480 with 2 Axes>"
            ]
          },
          "metadata": {},
          "output_type": "display_data"
        }
      ],
      "source": [
        "# 여기에 답안코드를 작성하세요\n",
        "\n",
        "from sklearn.metrics import classification_report, confusion_matrix\n",
        "\n",
        "cm = confusion_matrix(y_test, rfc_pred )\n",
        "sns.heatmap(cm, annot=True)"
      ]
    },
    {
      "cell_type": "markdown",
      "metadata": {
        "id": "xHmxbBgrg0ml"
      },
      "source": [
        "> **<span style=\"color:red\">다음 문항을 풀기 전에 </span>아래 코드를 실행하세요.**\n",
        ">"
      ]
    },
    {
      "cell_type": "code",
      "execution_count": null,
      "metadata": {
        "id": "G4w6AawBoocC"
      },
      "outputs": [],
      "source": [
        "import tensorflow as tf\n",
        "from tensorflow import keras\n",
        "from tensorflow.keras.layers import Input, Dense, Dropout, BatchNormalization\n",
        "from tensorflow.keras.models import Sequential, Model, load_model\n",
        "from tensorflow.keras.callbacks import EarlyStopping, ModelCheckpoint"
      ]
    },
    {
      "cell_type": "markdown",
      "metadata": {
        "id": "xWyL8jZng0nH"
      },
      "source": [
        "### **Q14. 아래 조건에 맞추어 뉴럴네트워크 모델을 학습시키시기 바랍니다**\n",
        "* **\n",
        "- Tensorflow framework를 사용한다.\n",
        "- 히든레이어는 아래와 같은 규칙에 맞추어 구성합니다.\n",
        "    * 2개 이상의 hidden layer를 사용할 것\n",
        "    * Drop out과 batchnormalization을 각각 한번 이상 사용한다.\n",
        "- Early stopping을 이용하여, validation loss가 10번 이상 개선되지 않으면 학습을 중단 시킨다.\n",
        "- ModelCheckpoint 콜백으로 validation performance가 좋은 모델을 best_model.keras 파일로 저장한다.\n",
        "- 학습과정의 로그(loss, accuracy)를 history에 선언하여 남긴다.\n",
        "- y를 별도로 원핫인코딩 하지 않고 분류모델을 학습시킬 수 있도록 한다.\n",
        "- 0,1로 구분된 binary 분류모델에 맞는 loss function인 binary_crossentropy를 사용하도록 한다.\n",
        "- DNN 학습시 , 스케일링된 데이터 x_train_sc 데이터를 사용한다.\n",
        "- 매 epoch 마다 데스트 데이터셋(x_test_sc , y_test) 활용하여 val_loss와 val_accuracy를 검증하도록 한다.\n",
        "- epochs는 2000번을 지정한다.\n",
        "---"
      ]
    },
    {
      "cell_type": "code",
      "execution_count": null,
      "metadata": {
        "colab": {
          "base_uri": "https://localhost:8080/"
        },
        "id": "X5I1iGx3g0nI",
        "outputId": "eaed585e-b43b-44cc-e7b3-be0a6e33b91b"
      },
      "outputs": [
        {
          "name": "stderr",
          "output_type": "stream",
          "text": [
            "/usr/local/lib/python3.10/dist-packages/keras/src/layers/core/dense.py:87: UserWarning: Do not pass an `input_shape`/`input_dim` argument to a layer. When using Sequential models, prefer using an `Input(shape)` object as the first layer in the model instead.\n",
            "  super().__init__(activity_regularizer=activity_regularizer, **kwargs)\n"
          ]
        },
        {
          "name": "stdout",
          "output_type": "stream",
          "text": [
            "Epoch 1/2000\n",
            "\u001b[1m15/15\u001b[0m \u001b[32m━━━━━━━━━━━━━━━━━━━━\u001b[0m\u001b[37m\u001b[0m \u001b[1m4s\u001b[0m 27ms/step - accuracy: 0.5917 - loss: 0.8241 - val_accuracy: 0.8333 - val_loss: 0.5743\n",
            "Epoch 2/2000\n",
            "\u001b[1m15/15\u001b[0m \u001b[32m━━━━━━━━━━━━━━━━━━━━\u001b[0m\u001b[37m\u001b[0m \u001b[1m0s\u001b[0m 11ms/step - accuracy: 0.7564 - loss: 0.5307 - val_accuracy: 0.8947 - val_loss: 0.4639\n",
            "Epoch 3/2000\n",
            "\u001b[1m15/15\u001b[0m \u001b[32m━━━━━━━━━━━━━━━━━━━━\u001b[0m\u001b[37m\u001b[0m \u001b[1m0s\u001b[0m 8ms/step - accuracy: 0.8183 - loss: 0.4527 - val_accuracy: 0.9123 - val_loss: 0.3833\n",
            "Epoch 4/2000\n",
            "\u001b[1m15/15\u001b[0m \u001b[32m━━━━━━━━━━━━━━━━━━━━\u001b[0m\u001b[37m\u001b[0m \u001b[1m0s\u001b[0m 8ms/step - accuracy: 0.8349 - loss: 0.3739 - val_accuracy: 0.9474 - val_loss: 0.3149\n",
            "Epoch 5/2000\n",
            "\u001b[1m15/15\u001b[0m \u001b[32m━━━━━━━━━━━━━━━━━━━━\u001b[0m\u001b[37m\u001b[0m \u001b[1m0s\u001b[0m 10ms/step - accuracy: 0.8195 - loss: 0.3780 - val_accuracy: 0.9649 - val_loss: 0.2568\n",
            "Epoch 6/2000\n",
            "\u001b[1m15/15\u001b[0m \u001b[32m━━━━━━━━━━━━━━━━━━━━\u001b[0m\u001b[37m\u001b[0m \u001b[1m0s\u001b[0m 9ms/step - accuracy: 0.8809 - loss: 0.2829 - val_accuracy: 0.9649 - val_loss: 0.2166\n",
            "Epoch 7/2000\n",
            "\u001b[1m15/15\u001b[0m \u001b[32m━━━━━━━━━━━━━━━━━━━━\u001b[0m\u001b[37m\u001b[0m \u001b[1m0s\u001b[0m 9ms/step - accuracy: 0.8852 - loss: 0.2865 - val_accuracy: 0.9649 - val_loss: 0.1833\n",
            "Epoch 8/2000\n",
            "\u001b[1m15/15\u001b[0m \u001b[32m━━━━━━━━━━━━━━━━━━━━\u001b[0m\u001b[37m\u001b[0m \u001b[1m0s\u001b[0m 8ms/step - accuracy: 0.9144 - loss: 0.2423 - val_accuracy: 0.9737 - val_loss: 0.1561\n",
            "Epoch 9/2000\n",
            "\u001b[1m15/15\u001b[0m \u001b[32m━━━━━━━━━━━━━━━━━━━━\u001b[0m\u001b[37m\u001b[0m \u001b[1m0s\u001b[0m 10ms/step - accuracy: 0.9216 - loss: 0.2104 - val_accuracy: 0.9737 - val_loss: 0.1327\n",
            "Epoch 10/2000\n",
            "\u001b[1m15/15\u001b[0m \u001b[32m━━━━━━━━━━━━━━━━━━━━\u001b[0m\u001b[37m\u001b[0m \u001b[1m0s\u001b[0m 9ms/step - accuracy: 0.9176 - loss: 0.2163 - val_accuracy: 0.9737 - val_loss: 0.1148\n",
            "Epoch 11/2000\n",
            "\u001b[1m15/15\u001b[0m \u001b[32m━━━━━━━━━━━━━━━━━━━━\u001b[0m\u001b[37m\u001b[0m \u001b[1m0s\u001b[0m 10ms/step - accuracy: 0.9560 - loss: 0.1630 - val_accuracy: 0.9737 - val_loss: 0.1027\n",
            "Epoch 12/2000\n",
            "\u001b[1m15/15\u001b[0m \u001b[32m━━━━━━━━━━━━━━━━━━━━\u001b[0m\u001b[37m\u001b[0m \u001b[1m0s\u001b[0m 9ms/step - accuracy: 0.9477 - loss: 0.1670 - val_accuracy: 0.9737 - val_loss: 0.0900\n",
            "Epoch 13/2000\n",
            "\u001b[1m15/15\u001b[0m \u001b[32m━━━━━━━━━━━━━━━━━━━━\u001b[0m\u001b[37m\u001b[0m \u001b[1m0s\u001b[0m 9ms/step - accuracy: 0.9370 - loss: 0.1698 - val_accuracy: 0.9825 - val_loss: 0.0813\n",
            "Epoch 14/2000\n",
            "\u001b[1m15/15\u001b[0m \u001b[32m━━━━━━━━━━━━━━━━━━━━\u001b[0m\u001b[37m\u001b[0m \u001b[1m0s\u001b[0m 10ms/step - accuracy: 0.9168 - loss: 0.2001 - val_accuracy: 0.9912 - val_loss: 0.0740\n",
            "Epoch 15/2000\n",
            "\u001b[1m15/15\u001b[0m \u001b[32m━━━━━━━━━━━━━━━━━━━━\u001b[0m\u001b[37m\u001b[0m \u001b[1m0s\u001b[0m 10ms/step - accuracy: 0.9541 - loss: 0.1390 - val_accuracy: 0.9912 - val_loss: 0.0687\n",
            "Epoch 16/2000\n",
            "\u001b[1m15/15\u001b[0m \u001b[32m━━━━━━━━━━━━━━━━━━━━\u001b[0m\u001b[37m\u001b[0m \u001b[1m0s\u001b[0m 10ms/step - accuracy: 0.9271 - loss: 0.1891 - val_accuracy: 0.9912 - val_loss: 0.0621\n",
            "Epoch 17/2000\n",
            "\u001b[1m15/15\u001b[0m \u001b[32m━━━━━━━━━━━━━━━━━━━━\u001b[0m\u001b[37m\u001b[0m \u001b[1m0s\u001b[0m 8ms/step - accuracy: 0.9645 - loss: 0.1278 - val_accuracy: 0.9912 - val_loss: 0.0565\n",
            "Epoch 18/2000\n",
            "\u001b[1m15/15\u001b[0m \u001b[32m━━━━━━━━━━━━━━━━━━━━\u001b[0m\u001b[37m\u001b[0m \u001b[1m0s\u001b[0m 8ms/step - accuracy: 0.9366 - loss: 0.1940 - val_accuracy: 0.9912 - val_loss: 0.0517\n",
            "Epoch 19/2000\n",
            "\u001b[1m15/15\u001b[0m \u001b[32m━━━━━━━━━━━━━━━━━━━━\u001b[0m\u001b[37m\u001b[0m \u001b[1m0s\u001b[0m 7ms/step - accuracy: 0.9092 - loss: 0.2214 - val_accuracy: 0.9912 - val_loss: 0.0540\n",
            "Epoch 20/2000\n",
            "\u001b[1m15/15\u001b[0m \u001b[32m━━━━━━━━━━━━━━━━━━━━\u001b[0m\u001b[37m\u001b[0m \u001b[1m0s\u001b[0m 10ms/step - accuracy: 0.9450 - loss: 0.1571 - val_accuracy: 0.9912 - val_loss: 0.0504\n",
            "Epoch 21/2000\n",
            "\u001b[1m15/15\u001b[0m \u001b[32m━━━━━━━━━━━━━━━━━━━━\u001b[0m\u001b[37m\u001b[0m \u001b[1m0s\u001b[0m 5ms/step - accuracy: 0.9589 - loss: 0.1463 - val_accuracy: 0.9912 - val_loss: 0.0524\n",
            "Epoch 22/2000\n",
            "\u001b[1m15/15\u001b[0m \u001b[32m━━━━━━━━━━━━━━━━━━━━\u001b[0m\u001b[37m\u001b[0m \u001b[1m0s\u001b[0m 9ms/step - accuracy: 0.9517 - loss: 0.1351 - val_accuracy: 0.9912 - val_loss: 0.0483\n",
            "Epoch 23/2000\n",
            "\u001b[1m15/15\u001b[0m \u001b[32m━━━━━━━━━━━━━━━━━━━━\u001b[0m\u001b[37m\u001b[0m \u001b[1m0s\u001b[0m 8ms/step - accuracy: 0.9425 - loss: 0.1566 - val_accuracy: 0.9912 - val_loss: 0.0455\n",
            "Epoch 24/2000\n",
            "\u001b[1m15/15\u001b[0m \u001b[32m━━━━━━━━━━━━━━━━━━━━\u001b[0m\u001b[37m\u001b[0m \u001b[1m0s\u001b[0m 10ms/step - accuracy: 0.9481 - loss: 0.1414 - val_accuracy: 0.9912 - val_loss: 0.0440\n",
            "Epoch 25/2000\n",
            "\u001b[1m15/15\u001b[0m \u001b[32m━━━━━━━━━━━━━━━━━━━━\u001b[0m\u001b[37m\u001b[0m \u001b[1m0s\u001b[0m 9ms/step - accuracy: 0.9520 - loss: 0.1466 - val_accuracy: 1.0000 - val_loss: 0.0423\n",
            "Epoch 26/2000\n",
            "\u001b[1m15/15\u001b[0m \u001b[32m━━━━━━━━━━━━━━━━━━━━\u001b[0m\u001b[37m\u001b[0m \u001b[1m0s\u001b[0m 5ms/step - accuracy: 0.9502 - loss: 0.1598 - val_accuracy: 0.9912 - val_loss: 0.0447\n",
            "Epoch 27/2000\n",
            "\u001b[1m15/15\u001b[0m \u001b[32m━━━━━━━━━━━━━━━━━━━━\u001b[0m\u001b[37m\u001b[0m \u001b[1m0s\u001b[0m 5ms/step - accuracy: 0.9458 - loss: 0.1531 - val_accuracy: 1.0000 - val_loss: 0.0424\n",
            "Epoch 28/2000\n",
            "\u001b[1m15/15\u001b[0m \u001b[32m━━━━━━━━━━━━━━━━━━━━\u001b[0m\u001b[37m\u001b[0m \u001b[1m0s\u001b[0m 8ms/step - accuracy: 0.9442 - loss: 0.1443 - val_accuracy: 1.0000 - val_loss: 0.0411\n",
            "Epoch 29/2000\n",
            "\u001b[1m15/15\u001b[0m \u001b[32m━━━━━━━━━━━━━━━━━━━━\u001b[0m\u001b[37m\u001b[0m \u001b[1m0s\u001b[0m 9ms/step - accuracy: 0.9483 - loss: 0.1247 - val_accuracy: 1.0000 - val_loss: 0.0395\n",
            "Epoch 30/2000\n",
            "\u001b[1m15/15\u001b[0m \u001b[32m━━━━━━━━━━━━━━━━━━━━\u001b[0m\u001b[37m\u001b[0m \u001b[1m0s\u001b[0m 9ms/step - accuracy: 0.9494 - loss: 0.1475 - val_accuracy: 1.0000 - val_loss: 0.0369\n",
            "Epoch 31/2000\n",
            "\u001b[1m15/15\u001b[0m \u001b[32m━━━━━━━━━━━━━━━━━━━━\u001b[0m\u001b[37m\u001b[0m \u001b[1m0s\u001b[0m 10ms/step - accuracy: 0.9480 - loss: 0.1586 - val_accuracy: 0.9912 - val_loss: 0.0354\n",
            "Epoch 32/2000\n",
            "\u001b[1m15/15\u001b[0m \u001b[32m━━━━━━━━━━━━━━━━━━━━\u001b[0m\u001b[37m\u001b[0m \u001b[1m0s\u001b[0m 9ms/step - accuracy: 0.9751 - loss: 0.1160 - val_accuracy: 1.0000 - val_loss: 0.0350\n",
            "Epoch 33/2000\n",
            "\u001b[1m15/15\u001b[0m \u001b[32m━━━━━━━━━━━━━━━━━━━━\u001b[0m\u001b[37m\u001b[0m \u001b[1m0s\u001b[0m 9ms/step - accuracy: 0.9392 - loss: 0.1592 - val_accuracy: 1.0000 - val_loss: 0.0338\n",
            "Epoch 34/2000\n",
            "\u001b[1m15/15\u001b[0m \u001b[32m━━━━━━━━━━━━━━━━━━━━\u001b[0m\u001b[37m\u001b[0m \u001b[1m0s\u001b[0m 8ms/step - accuracy: 0.9410 - loss: 0.1331 - val_accuracy: 1.0000 - val_loss: 0.0327\n",
            "Epoch 35/2000\n",
            "\u001b[1m15/15\u001b[0m \u001b[32m━━━━━━━━━━━━━━━━━━━━\u001b[0m\u001b[37m\u001b[0m \u001b[1m0s\u001b[0m 11ms/step - accuracy: 0.9552 - loss: 0.1266 - val_accuracy: 0.9912 - val_loss: 0.0326\n",
            "Epoch 36/2000\n",
            "\u001b[1m15/15\u001b[0m \u001b[32m━━━━━━━━━━━━━━━━━━━━\u001b[0m\u001b[37m\u001b[0m \u001b[1m0s\u001b[0m 14ms/step - accuracy: 0.9569 - loss: 0.1349 - val_accuracy: 0.9912 - val_loss: 0.0321\n",
            "Epoch 37/2000\n",
            "\u001b[1m15/15\u001b[0m \u001b[32m━━━━━━━━━━━━━━━━━━━━\u001b[0m\u001b[37m\u001b[0m \u001b[1m0s\u001b[0m 15ms/step - accuracy: 0.9652 - loss: 0.1316 - val_accuracy: 1.0000 - val_loss: 0.0315\n",
            "Epoch 38/2000\n",
            "\u001b[1m15/15\u001b[0m \u001b[32m━━━━━━━━━━━━━━━━━━━━\u001b[0m\u001b[37m\u001b[0m \u001b[1m0s\u001b[0m 12ms/step - accuracy: 0.9470 - loss: 0.1287 - val_accuracy: 0.9912 - val_loss: 0.0307\n",
            "Epoch 39/2000\n",
            "\u001b[1m15/15\u001b[0m \u001b[32m━━━━━━━━━━━━━━━━━━━━\u001b[0m\u001b[37m\u001b[0m \u001b[1m0s\u001b[0m 13ms/step - accuracy: 0.9466 - loss: 0.1370 - val_accuracy: 0.9912 - val_loss: 0.0299\n",
            "Epoch 40/2000\n",
            "\u001b[1m15/15\u001b[0m \u001b[32m━━━━━━━━━━━━━━━━━━━━\u001b[0m\u001b[37m\u001b[0m \u001b[1m0s\u001b[0m 8ms/step - accuracy: 0.9472 - loss: 0.1176 - val_accuracy: 0.9912 - val_loss: 0.0308\n",
            "Epoch 41/2000\n",
            "\u001b[1m15/15\u001b[0m \u001b[32m━━━━━━━━━━━━━━━━━━━━\u001b[0m\u001b[37m\u001b[0m \u001b[1m0s\u001b[0m 10ms/step - accuracy: 0.9604 - loss: 0.1340 - val_accuracy: 1.0000 - val_loss: 0.0302\n",
            "Epoch 42/2000\n",
            "\u001b[1m15/15\u001b[0m \u001b[32m━━━━━━━━━━━━━━━━━━━━\u001b[0m\u001b[37m\u001b[0m \u001b[1m0s\u001b[0m 16ms/step - accuracy: 0.9428 - loss: 0.1292 - val_accuracy: 1.0000 - val_loss: 0.0289\n",
            "Epoch 43/2000\n",
            "\u001b[1m15/15\u001b[0m \u001b[32m━━━━━━━━━━━━━━━━━━━━\u001b[0m\u001b[37m\u001b[0m \u001b[1m0s\u001b[0m 11ms/step - accuracy: 0.9688 - loss: 0.1058 - val_accuracy: 1.0000 - val_loss: 0.0296\n",
            "Epoch 44/2000\n",
            "\u001b[1m15/15\u001b[0m \u001b[32m━━━━━━━━━━━━━━━━━━━━\u001b[0m\u001b[37m\u001b[0m \u001b[1m0s\u001b[0m 10ms/step - accuracy: 0.9467 - loss: 0.1506 - val_accuracy: 1.0000 - val_loss: 0.0294\n",
            "Epoch 45/2000\n",
            "\u001b[1m15/15\u001b[0m \u001b[32m━━━━━━━━━━━━━━━━━━━━\u001b[0m\u001b[37m\u001b[0m \u001b[1m0s\u001b[0m 9ms/step - accuracy: 0.9610 - loss: 0.1232 - val_accuracy: 1.0000 - val_loss: 0.0294\n",
            "Epoch 46/2000\n",
            "\u001b[1m15/15\u001b[0m \u001b[32m━━━━━━━━━━━━━━━━━━━━\u001b[0m\u001b[37m\u001b[0m \u001b[1m0s\u001b[0m 10ms/step - accuracy: 0.9221 - loss: 0.1894 - val_accuracy: 1.0000 - val_loss: 0.0297\n",
            "Epoch 47/2000\n",
            "\u001b[1m15/15\u001b[0m \u001b[32m━━━━━━━━━━━━━━━━━━━━\u001b[0m\u001b[37m\u001b[0m \u001b[1m0s\u001b[0m 5ms/step - accuracy: 0.9467 - loss: 0.1753 - val_accuracy: 1.0000 - val_loss: 0.0306\n",
            "Epoch 48/2000\n",
            "\u001b[1m15/15\u001b[0m \u001b[32m━━━━━━━━━━━━━━━━━━━━\u001b[0m\u001b[37m\u001b[0m \u001b[1m0s\u001b[0m 6ms/step - accuracy: 0.9776 - loss: 0.1055 - val_accuracy: 1.0000 - val_loss: 0.0302\n",
            "Epoch 49/2000\n",
            "\u001b[1m15/15\u001b[0m \u001b[32m━━━━━━━━━━━━━━━━━━━━\u001b[0m\u001b[37m\u001b[0m \u001b[1m0s\u001b[0m 6ms/step - accuracy: 0.9469 - loss: 0.1451 - val_accuracy: 0.9912 - val_loss: 0.0304\n",
            "Epoch 50/2000\n",
            "\u001b[1m15/15\u001b[0m \u001b[32m━━━━━━━━━━━━━━━━━━━━\u001b[0m\u001b[37m\u001b[0m \u001b[1m0s\u001b[0m 6ms/step - accuracy: 0.9391 - loss: 0.1354 - val_accuracy: 0.9912 - val_loss: 0.0296\n",
            "Epoch 51/2000\n",
            "\u001b[1m15/15\u001b[0m \u001b[32m━━━━━━━━━━━━━━━━━━━━\u001b[0m\u001b[37m\u001b[0m \u001b[1m0s\u001b[0m 7ms/step - accuracy: 0.9422 - loss: 0.1388 - val_accuracy: 0.9912 - val_loss: 0.0293\n",
            "Epoch 52/2000\n",
            "\u001b[1m15/15\u001b[0m \u001b[32m━━━━━━━━━━━━━━━━━━━━\u001b[0m\u001b[37m\u001b[0m \u001b[1m0s\u001b[0m 6ms/step - accuracy: 0.9666 - loss: 0.0926 - val_accuracy: 0.9912 - val_loss: 0.0290\n",
            "Epoch 52: early stopping\n",
            "Restoring model weights from the end of the best epoch: 42.\n"
          ]
        }
      ],
      "source": [
        "# 여기에 답안코드를 작성하세요\n",
        "\n",
        "\n",
        "model = Sequential()\n",
        "model.add(Dense(64, activation='swish', input_shape=(x_train.shape[-1],)))\n",
        "model.add(BatchNormalization())\n",
        "model.add(Dropout(0.4))\n",
        "model.add(Dense(32, activation='swish'))\n",
        "model.add(BatchNormalization())\n",
        "model.add(Dropout(0.4))\n",
        "model.add(Dense(32, activation='swish'))\n",
        "model.add(BatchNormalization())\n",
        "model.add(Dropout(0.4))\n",
        "model.add(Dense(1, activation='sigmoid'))\n",
        "\n",
        "model.compile(optimizer='adam',\n",
        "              loss='binary_crossentropy',\n",
        "              metrics=['accuracy'])\n",
        "\n",
        "es = EarlyStopping(monitor='val_loss',  patience=10, verbose=1, restore_best_weights=True)\n",
        "mc = ModelCheckpoint('best_model.keras', monitor='val_loss', mode='min', save_best_only=True)\n",
        "history = model.fit(x_train_sc, y_train, epochs=2000, batch_size=32,\n",
        "                    verbose=1,validation_data=(x_test_sc, y_test),callbacks=[es, mc])"
      ]
    },
    {
      "cell_type": "markdown",
      "metadata": {
        "id": "xL_RAl1lg0nK"
      },
      "source": [
        "### **Q15. 위의 저장된 DNN 모델로 시물레이션 하기**\n",
        "* **\n",
        "- load_model을 활용하여저장된 'best_model.keras' 모델을 불러옵니다.\n",
        "- 아래 시뮬레이션 데이터를 입력받아 결과를 예측하세요.\n",
        "---"
      ]
    },
    {
      "cell_type": "markdown",
      "metadata": {
        "id": "ajMz1gryQwQ7"
      },
      "source": [
        "> **<span style=\"color:red\">DNN 입력으로 사용할 시뮬레이션 데이터**\n",
        ">"
      ]
    },
    {
      "cell_type": "code",
      "execution_count": null,
      "metadata": {
        "id": "7RU5jBz3QwQ7"
      },
      "outputs": [],
      "source": [
        "simul = np.array( [ [ 1.63838833,  0.54674756,  1.62146672,  1.63050328,  0.08789968,\n",
        "        0.52846353,  1.22476728,  1.59619502, -0.80520827,  0.92630882,\n",
        "        1.93334623,  1.34228719,  0.82703341, -0.75400678,  0.42898083,\n",
        "        1.04235095,  2.0665649 , -0.18077013,  1.38073123,  1.43468479,\n",
        "        1.54227457,  1.21760637, -0.48248057,  0.5482635 ,  0.92616064,\n",
        "        1.67430567,  1.779817  , -0.26718346] ] )"
      ]
    },
    {
      "cell_type": "code",
      "execution_count": null,
      "metadata": {
        "colab": {
          "base_uri": "https://localhost:8080/"
        },
        "id": "jNYCK-iFg0nL",
        "outputId": "b119a1c2-c2b2-4203-c2dd-a2d4a508a3da"
      },
      "outputs": [
        {
          "name": "stdout",
          "output_type": "stream",
          "text": [
            "\u001b[1m1/1\u001b[0m \u001b[32m━━━━━━━━━━━━━━━━━━━━\u001b[0m\u001b[37m\u001b[0m \u001b[1m0s\u001b[0m 127ms/step\n"
          ]
        },
        {
          "data": {
            "text/plain": [
              "array([[0.00023627]], dtype=float32)"
            ]
          },
          "execution_count": 40,
          "metadata": {},
          "output_type": "execute_result"
        }
      ],
      "source": [
        "# 여기에 답안코드를 작성하세요\n",
        "\n",
        "best_model = load_model('best_model.keras')\n",
        "best_model.predict(simul)\n"
      ]
    },
    {
      "cell_type": "code",
      "execution_count": null,
      "metadata": {
        "id": "JW9eJ5_-VytP"
      },
      "outputs": [],
      "source": []
    }
  ],
  "metadata": {
    "colab": {
      "provenance": [],
      "include_colab_link": true
    },
    "kernelspec": {
      "display_name": "Python 3 (ipykernel)",
      "language": "python",
      "name": "python3"
    },
    "language_info": {
      "codemirror_mode": {
        "name": "ipython",
        "version": 3
      },
      "file_extension": ".py",
      "mimetype": "text/x-python",
      "name": "python",
      "nbconvert_exporter": "python",
      "pygments_lexer": "ipython3",
      "version": "3.12.4"
    }
  },
  "nbformat": 4,
  "nbformat_minor": 0
}