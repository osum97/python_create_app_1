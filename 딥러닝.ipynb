{
  "cells": [
    {
      "cell_type": "markdown",
      "metadata": {
        "id": "view-in-github",
        "colab_type": "text"
      },
      "source": [
        "<a href=\"https://colab.research.google.com/github/osum97/python_create_app_1/blob/master/%EB%94%A5%EB%9F%AC%EB%8B%9D.ipynb\" target=\"_parent\"><img src=\"https://colab.research.google.com/assets/colab-badge.svg\" alt=\"Open In Colab\"/></a>"
      ]
    },
    {
      "cell_type": "markdown",
      "metadata": {
        "id": "-8SbOMdy0FT4"
      },
      "source": [
        "# [실습-정답] Python을 활용한 AI 모델링 - 머신러닝 파트\n",
        "+ 이번시간에는 Python을 활용한 AI 모델링에서 머신러닝에 대해 실습해 보겠습니다.\n",
        "+ 머신러닝 모델에는 아래와 같이 모델들이 있습니다.\n",
        " + 단일 분류예측 모델 : LogisticRegression, KNN, DecisionTree\n",
        " + 앙상블(Ensemble) 모델 : RandomForest, XGBoost, LGBM\n",
        "+ 솔직히, 머신러닝이 딥러닝보다 코딩하기 쉽습니다. 4줄 템플릿에 맞쳐 코딩하면 되기 때문입니다.\n",
        "+ 한가지 당부 드리고 싶은 말은 \"백문이불여일타\" 입니다.\n",
        "+ 이론보다 실습이 더 많은 시간과 노력이 투자 되어야 합니다."
      ]
    },
    {
      "cell_type": "markdown",
      "metadata": {
        "id": "CB9Zcdvv0FT9"
      },
      "source": [
        "## 학습목차\n",
        "1. 머신러닝 모델 프로세스\n",
        " - 데이터 가져오기\n",
        " - 데이터 전처리\n",
        " - Train, Test 데이터셋 분할\n",
        " - 데이터 정규화\n",
        " - 단일 분류예측 모델 : LogisticRegression, KNN, DecisionTree\n",
        " - 앙상블(Ensemble) 모델 : RandomForest, XGBoost, LGBM\n",
        "2. 재현율 성능이 너무 안나온다. 어떻게 해결할수 있을까?\n"
      ]
    },
    {
      "cell_type": "markdown",
      "metadata": {
        "id": "V085LH_00FT-"
      },
      "source": [
        "#  \n",
        "# 1. 머신러닝 모델 프로세스\n",
        "① 라이브러리 임포트(import)  \n",
        "② 데이터 가져오기(Loading the data)  \n",
        "③ 탐색적 데이터 분석(Exploratory Data Analysis)  \n",
        "④ 데이터 전처리(Data PreProcessing) : 데이터타입 변환, Null 데이터 처리, 누락데이터 처리,\n",
        "더미특성 생성, 특성 추출 (feature engineering) 등  \n",
        "⑤ Train, Test  데이터셋 분할  \n",
        "⑥ 데이터 정규화(Normalizing the Data)  \n",
        "⑦ 모델 개발(Creating the Model)  \n",
        "⑧ 모델 성능 평가\n"
      ]
    },
    {
      "cell_type": "markdown",
      "metadata": {
        "id": "AY9RWMZE0FT_"
      },
      "source": [
        "## ① 라이브러리 임포트"
      ]
    },
    {
      "cell_type": "markdown",
      "metadata": {
        "id": "ZARhtnLw0FUA"
      },
      "source": [
        "##### 필요 라이브러리 임포트"
      ]
    },
    {
      "cell_type": "code",
      "execution_count": null,
      "metadata": {
        "id": "VY4TxgQj0FUA"
      },
      "outputs": [],
      "source": [
        "import numpy as np\n",
        "import pandas as pd\n",
        "import matplotlib.pyplot as plt"
      ]
    },
    {
      "cell_type": "markdown",
      "metadata": {
        "id": "WLHB9VMx0FUC"
      },
      "source": [
        "## ② 데이터 로드"
      ]
    },
    {
      "cell_type": "markdown",
      "metadata": {
        "id": "UVuC6FaG0FUD"
      },
      "source": [
        "#### data_v1_save.csv 파일 읽어오기"
      ]
    },
    {
      "cell_type": "code",
      "execution_count": null,
      "metadata": {
        "id": "HvNm0L830FUD"
      },
      "outputs": [],
      "source": [
        "# 앞쪽 전처리에서 저장한 cust_data.csv 파일 읽기\n",
        "df = pd.read_csv('data_v1_save.csv')"
      ]
    },
    {
      "cell_type": "markdown",
      "metadata": {
        "id": "4V5lNvqe0FUE"
      },
      "source": [
        "## ③ 데이터 분석"
      ]
    },
    {
      "cell_type": "code",
      "execution_count": null,
      "metadata": {
        "colab": {
          "base_uri": "https://localhost:8080/"
        },
        "id": "_6v_Ai8e0FUF",
        "outputId": "58e1db24-7443-4681-917a-9ed09c5e3761"
      },
      "outputs": [
        {
          "output_type": "stream",
          "name": "stdout",
          "text": [
            "<class 'pandas.core.frame.DataFrame'>\n",
            "RangeIndex: 7028 entries, 0 to 7027\n",
            "Data columns (total 17 columns):\n",
            " #   Column            Non-Null Count  Dtype  \n",
            "---  ------            --------------  -----  \n",
            " 0   gender            7028 non-null   object \n",
            " 1   Partner           7028 non-null   object \n",
            " 2   Dependents        7028 non-null   object \n",
            " 3   tenure            7028 non-null   int64  \n",
            " 4   MultipleLines     7028 non-null   object \n",
            " 5   InternetService   7028 non-null   object \n",
            " 6   OnlineSecurity    7028 non-null   object \n",
            " 7   OnlineBackup      7028 non-null   object \n",
            " 8   TechSupport       7028 non-null   object \n",
            " 9   StreamingTV       7028 non-null   object \n",
            " 10  StreamingMovies   7028 non-null   object \n",
            " 11  Contract          7028 non-null   object \n",
            " 12  PaperlessBilling  7028 non-null   object \n",
            " 13  PaymentMethod     7028 non-null   object \n",
            " 14  MonthlyCharges    7028 non-null   float64\n",
            " 15  TotalCharges      7028 non-null   float64\n",
            " 16  Churn             7028 non-null   int64  \n",
            "dtypes: float64(2), int64(2), object(13)\n",
            "memory usage: 933.5+ KB\n"
          ]
        }
      ],
      "source": [
        "# 17컬럼, 7,027 라인\n",
        "df.info()"
      ]
    },
    {
      "cell_type": "code",
      "execution_count": null,
      "metadata": {
        "colab": {
          "base_uri": "https://localhost:8080/",
          "height": 382
        },
        "id": "IwQH_hhO0FUG",
        "outputId": "091e66f0-9868-4d56-9311-4bff54fbf5de"
      },
      "outputs": [
        {
          "output_type": "execute_result",
          "data": {
            "text/plain": [
              "      gender Partner Dependents  tenure MultipleLines InternetService  \\\n",
              "7023  Female      No         No       4            No     Fiber optic   \n",
              "7024    Male     Yes        Yes      25           Yes              No   \n",
              "7025    Male     Yes         No       3            No             DSL   \n",
              "7026    Male     Yes        Yes       4            No             DSL   \n",
              "7027  Female      No         No       6            No             DSL   \n",
              "\n",
              "           OnlineSecurity         OnlineBackup          TechSupport  \\\n",
              "7023                   No                   No                   No   \n",
              "7024  No internet service  No internet service  No internet service   \n",
              "7025                   No                   No                  Yes   \n",
              "7026                   No                   No                  Yes   \n",
              "7027                   No                   No                  Yes   \n",
              "\n",
              "              StreamingTV      StreamingMovies        Contract  \\\n",
              "7023                   No                  Yes  Month-to-month   \n",
              "7024  No internet service  No internet service        Two year   \n",
              "7025                   No                   No  Month-to-month   \n",
              "7026                   No                  Yes  Month-to-month   \n",
              "7027                   No                   No  Month-to-month   \n",
              "\n",
              "     PaperlessBilling              PaymentMethod  MonthlyCharges  \\\n",
              "7023              Yes    Credit card (automatic)           82.85   \n",
              "7024               No    Credit card (automatic)           25.50   \n",
              "7025              Yes               Mailed check           55.80   \n",
              "7026               No    Credit card (automatic)           61.45   \n",
              "7027              Yes  Bank transfer (automatic)           50.80   \n",
              "\n",
              "      TotalCharges  Churn  \n",
              "7023        319.60      0  \n",
              "7024        630.60      0  \n",
              "7025        154.55      0  \n",
              "7026        229.55      1  \n",
              "7027        288.05      1  "
            ],
            "text/html": [
              "\n",
              "  <div id=\"df-68207057-4fbb-44da-95fa-98f074e078cc\" class=\"colab-df-container\">\n",
              "    <div>\n",
              "<style scoped>\n",
              "    .dataframe tbody tr th:only-of-type {\n",
              "        vertical-align: middle;\n",
              "    }\n",
              "\n",
              "    .dataframe tbody tr th {\n",
              "        vertical-align: top;\n",
              "    }\n",
              "\n",
              "    .dataframe thead th {\n",
              "        text-align: right;\n",
              "    }\n",
              "</style>\n",
              "<table border=\"1\" class=\"dataframe\">\n",
              "  <thead>\n",
              "    <tr style=\"text-align: right;\">\n",
              "      <th></th>\n",
              "      <th>gender</th>\n",
              "      <th>Partner</th>\n",
              "      <th>Dependents</th>\n",
              "      <th>tenure</th>\n",
              "      <th>MultipleLines</th>\n",
              "      <th>InternetService</th>\n",
              "      <th>OnlineSecurity</th>\n",
              "      <th>OnlineBackup</th>\n",
              "      <th>TechSupport</th>\n",
              "      <th>StreamingTV</th>\n",
              "      <th>StreamingMovies</th>\n",
              "      <th>Contract</th>\n",
              "      <th>PaperlessBilling</th>\n",
              "      <th>PaymentMethod</th>\n",
              "      <th>MonthlyCharges</th>\n",
              "      <th>TotalCharges</th>\n",
              "      <th>Churn</th>\n",
              "    </tr>\n",
              "  </thead>\n",
              "  <tbody>\n",
              "    <tr>\n",
              "      <th>7023</th>\n",
              "      <td>Female</td>\n",
              "      <td>No</td>\n",
              "      <td>No</td>\n",
              "      <td>4</td>\n",
              "      <td>No</td>\n",
              "      <td>Fiber optic</td>\n",
              "      <td>No</td>\n",
              "      <td>No</td>\n",
              "      <td>No</td>\n",
              "      <td>No</td>\n",
              "      <td>Yes</td>\n",
              "      <td>Month-to-month</td>\n",
              "      <td>Yes</td>\n",
              "      <td>Credit card (automatic)</td>\n",
              "      <td>82.85</td>\n",
              "      <td>319.60</td>\n",
              "      <td>0</td>\n",
              "    </tr>\n",
              "    <tr>\n",
              "      <th>7024</th>\n",
              "      <td>Male</td>\n",
              "      <td>Yes</td>\n",
              "      <td>Yes</td>\n",
              "      <td>25</td>\n",
              "      <td>Yes</td>\n",
              "      <td>No</td>\n",
              "      <td>No internet service</td>\n",
              "      <td>No internet service</td>\n",
              "      <td>No internet service</td>\n",
              "      <td>No internet service</td>\n",
              "      <td>No internet service</td>\n",
              "      <td>Two year</td>\n",
              "      <td>No</td>\n",
              "      <td>Credit card (automatic)</td>\n",
              "      <td>25.50</td>\n",
              "      <td>630.60</td>\n",
              "      <td>0</td>\n",
              "    </tr>\n",
              "    <tr>\n",
              "      <th>7025</th>\n",
              "      <td>Male</td>\n",
              "      <td>Yes</td>\n",
              "      <td>No</td>\n",
              "      <td>3</td>\n",
              "      <td>No</td>\n",
              "      <td>DSL</td>\n",
              "      <td>No</td>\n",
              "      <td>No</td>\n",
              "      <td>Yes</td>\n",
              "      <td>No</td>\n",
              "      <td>No</td>\n",
              "      <td>Month-to-month</td>\n",
              "      <td>Yes</td>\n",
              "      <td>Mailed check</td>\n",
              "      <td>55.80</td>\n",
              "      <td>154.55</td>\n",
              "      <td>0</td>\n",
              "    </tr>\n",
              "    <tr>\n",
              "      <th>7026</th>\n",
              "      <td>Male</td>\n",
              "      <td>Yes</td>\n",
              "      <td>Yes</td>\n",
              "      <td>4</td>\n",
              "      <td>No</td>\n",
              "      <td>DSL</td>\n",
              "      <td>No</td>\n",
              "      <td>No</td>\n",
              "      <td>Yes</td>\n",
              "      <td>No</td>\n",
              "      <td>Yes</td>\n",
              "      <td>Month-to-month</td>\n",
              "      <td>No</td>\n",
              "      <td>Credit card (automatic)</td>\n",
              "      <td>61.45</td>\n",
              "      <td>229.55</td>\n",
              "      <td>1</td>\n",
              "    </tr>\n",
              "    <tr>\n",
              "      <th>7027</th>\n",
              "      <td>Female</td>\n",
              "      <td>No</td>\n",
              "      <td>No</td>\n",
              "      <td>6</td>\n",
              "      <td>No</td>\n",
              "      <td>DSL</td>\n",
              "      <td>No</td>\n",
              "      <td>No</td>\n",
              "      <td>Yes</td>\n",
              "      <td>No</td>\n",
              "      <td>No</td>\n",
              "      <td>Month-to-month</td>\n",
              "      <td>Yes</td>\n",
              "      <td>Bank transfer (automatic)</td>\n",
              "      <td>50.80</td>\n",
              "      <td>288.05</td>\n",
              "      <td>1</td>\n",
              "    </tr>\n",
              "  </tbody>\n",
              "</table>\n",
              "</div>\n",
              "    <div class=\"colab-df-buttons\">\n",
              "\n",
              "  <div class=\"colab-df-container\">\n",
              "    <button class=\"colab-df-convert\" onclick=\"convertToInteractive('df-68207057-4fbb-44da-95fa-98f074e078cc')\"\n",
              "            title=\"Convert this dataframe to an interactive table.\"\n",
              "            style=\"display:none;\">\n",
              "\n",
              "  <svg xmlns=\"http://www.w3.org/2000/svg\" height=\"24px\" viewBox=\"0 -960 960 960\">\n",
              "    <path d=\"M120-120v-720h720v720H120Zm60-500h600v-160H180v160Zm220 220h160v-160H400v160Zm0 220h160v-160H400v160ZM180-400h160v-160H180v160Zm440 0h160v-160H620v160ZM180-180h160v-160H180v160Zm440 0h160v-160H620v160Z\"/>\n",
              "  </svg>\n",
              "    </button>\n",
              "\n",
              "  <style>\n",
              "    .colab-df-container {\n",
              "      display:flex;\n",
              "      gap: 12px;\n",
              "    }\n",
              "\n",
              "    .colab-df-convert {\n",
              "      background-color: #E8F0FE;\n",
              "      border: none;\n",
              "      border-radius: 50%;\n",
              "      cursor: pointer;\n",
              "      display: none;\n",
              "      fill: #1967D2;\n",
              "      height: 32px;\n",
              "      padding: 0 0 0 0;\n",
              "      width: 32px;\n",
              "    }\n",
              "\n",
              "    .colab-df-convert:hover {\n",
              "      background-color: #E2EBFA;\n",
              "      box-shadow: 0px 1px 2px rgba(60, 64, 67, 0.3), 0px 1px 3px 1px rgba(60, 64, 67, 0.15);\n",
              "      fill: #174EA6;\n",
              "    }\n",
              "\n",
              "    .colab-df-buttons div {\n",
              "      margin-bottom: 4px;\n",
              "    }\n",
              "\n",
              "    [theme=dark] .colab-df-convert {\n",
              "      background-color: #3B4455;\n",
              "      fill: #D2E3FC;\n",
              "    }\n",
              "\n",
              "    [theme=dark] .colab-df-convert:hover {\n",
              "      background-color: #434B5C;\n",
              "      box-shadow: 0px 1px 3px 1px rgba(0, 0, 0, 0.15);\n",
              "      filter: drop-shadow(0px 1px 2px rgba(0, 0, 0, 0.3));\n",
              "      fill: #FFFFFF;\n",
              "    }\n",
              "  </style>\n",
              "\n",
              "    <script>\n",
              "      const buttonEl =\n",
              "        document.querySelector('#df-68207057-4fbb-44da-95fa-98f074e078cc button.colab-df-convert');\n",
              "      buttonEl.style.display =\n",
              "        google.colab.kernel.accessAllowed ? 'block' : 'none';\n",
              "\n",
              "      async function convertToInteractive(key) {\n",
              "        const element = document.querySelector('#df-68207057-4fbb-44da-95fa-98f074e078cc');\n",
              "        const dataTable =\n",
              "          await google.colab.kernel.invokeFunction('convertToInteractive',\n",
              "                                                    [key], {});\n",
              "        if (!dataTable) return;\n",
              "\n",
              "        const docLinkHtml = 'Like what you see? Visit the ' +\n",
              "          '<a target=\"_blank\" href=https://colab.research.google.com/notebooks/data_table.ipynb>data table notebook</a>'\n",
              "          + ' to learn more about interactive tables.';\n",
              "        element.innerHTML = '';\n",
              "        dataTable['output_type'] = 'display_data';\n",
              "        await google.colab.output.renderOutput(dataTable, element);\n",
              "        const docLink = document.createElement('div');\n",
              "        docLink.innerHTML = docLinkHtml;\n",
              "        element.appendChild(docLink);\n",
              "      }\n",
              "    </script>\n",
              "  </div>\n",
              "\n",
              "\n",
              "<div id=\"df-7f3f1dba-c31f-4d7c-b79b-db55962f1812\">\n",
              "  <button class=\"colab-df-quickchart\" onclick=\"quickchart('df-7f3f1dba-c31f-4d7c-b79b-db55962f1812')\"\n",
              "            title=\"Suggest charts\"\n",
              "            style=\"display:none;\">\n",
              "\n",
              "<svg xmlns=\"http://www.w3.org/2000/svg\" height=\"24px\"viewBox=\"0 0 24 24\"\n",
              "     width=\"24px\">\n",
              "    <g>\n",
              "        <path d=\"M19 3H5c-1.1 0-2 .9-2 2v14c0 1.1.9 2 2 2h14c1.1 0 2-.9 2-2V5c0-1.1-.9-2-2-2zM9 17H7v-7h2v7zm4 0h-2V7h2v10zm4 0h-2v-4h2v4z\"/>\n",
              "    </g>\n",
              "</svg>\n",
              "  </button>\n",
              "\n",
              "<style>\n",
              "  .colab-df-quickchart {\n",
              "      --bg-color: #E8F0FE;\n",
              "      --fill-color: #1967D2;\n",
              "      --hover-bg-color: #E2EBFA;\n",
              "      --hover-fill-color: #174EA6;\n",
              "      --disabled-fill-color: #AAA;\n",
              "      --disabled-bg-color: #DDD;\n",
              "  }\n",
              "\n",
              "  [theme=dark] .colab-df-quickchart {\n",
              "      --bg-color: #3B4455;\n",
              "      --fill-color: #D2E3FC;\n",
              "      --hover-bg-color: #434B5C;\n",
              "      --hover-fill-color: #FFFFFF;\n",
              "      --disabled-bg-color: #3B4455;\n",
              "      --disabled-fill-color: #666;\n",
              "  }\n",
              "\n",
              "  .colab-df-quickchart {\n",
              "    background-color: var(--bg-color);\n",
              "    border: none;\n",
              "    border-radius: 50%;\n",
              "    cursor: pointer;\n",
              "    display: none;\n",
              "    fill: var(--fill-color);\n",
              "    height: 32px;\n",
              "    padding: 0;\n",
              "    width: 32px;\n",
              "  }\n",
              "\n",
              "  .colab-df-quickchart:hover {\n",
              "    background-color: var(--hover-bg-color);\n",
              "    box-shadow: 0 1px 2px rgba(60, 64, 67, 0.3), 0 1px 3px 1px rgba(60, 64, 67, 0.15);\n",
              "    fill: var(--button-hover-fill-color);\n",
              "  }\n",
              "\n",
              "  .colab-df-quickchart-complete:disabled,\n",
              "  .colab-df-quickchart-complete:disabled:hover {\n",
              "    background-color: var(--disabled-bg-color);\n",
              "    fill: var(--disabled-fill-color);\n",
              "    box-shadow: none;\n",
              "  }\n",
              "\n",
              "  .colab-df-spinner {\n",
              "    border: 2px solid var(--fill-color);\n",
              "    border-color: transparent;\n",
              "    border-bottom-color: var(--fill-color);\n",
              "    animation:\n",
              "      spin 1s steps(1) infinite;\n",
              "  }\n",
              "\n",
              "  @keyframes spin {\n",
              "    0% {\n",
              "      border-color: transparent;\n",
              "      border-bottom-color: var(--fill-color);\n",
              "      border-left-color: var(--fill-color);\n",
              "    }\n",
              "    20% {\n",
              "      border-color: transparent;\n",
              "      border-left-color: var(--fill-color);\n",
              "      border-top-color: var(--fill-color);\n",
              "    }\n",
              "    30% {\n",
              "      border-color: transparent;\n",
              "      border-left-color: var(--fill-color);\n",
              "      border-top-color: var(--fill-color);\n",
              "      border-right-color: var(--fill-color);\n",
              "    }\n",
              "    40% {\n",
              "      border-color: transparent;\n",
              "      border-right-color: var(--fill-color);\n",
              "      border-top-color: var(--fill-color);\n",
              "    }\n",
              "    60% {\n",
              "      border-color: transparent;\n",
              "      border-right-color: var(--fill-color);\n",
              "    }\n",
              "    80% {\n",
              "      border-color: transparent;\n",
              "      border-right-color: var(--fill-color);\n",
              "      border-bottom-color: var(--fill-color);\n",
              "    }\n",
              "    90% {\n",
              "      border-color: transparent;\n",
              "      border-bottom-color: var(--fill-color);\n",
              "    }\n",
              "  }\n",
              "</style>\n",
              "\n",
              "  <script>\n",
              "    async function quickchart(key) {\n",
              "      const quickchartButtonEl =\n",
              "        document.querySelector('#' + key + ' button');\n",
              "      quickchartButtonEl.disabled = true;  // To prevent multiple clicks.\n",
              "      quickchartButtonEl.classList.add('colab-df-spinner');\n",
              "      try {\n",
              "        const charts = await google.colab.kernel.invokeFunction(\n",
              "            'suggestCharts', [key], {});\n",
              "      } catch (error) {\n",
              "        console.error('Error during call to suggestCharts:', error);\n",
              "      }\n",
              "      quickchartButtonEl.classList.remove('colab-df-spinner');\n",
              "      quickchartButtonEl.classList.add('colab-df-quickchart-complete');\n",
              "    }\n",
              "    (() => {\n",
              "      let quickchartButtonEl =\n",
              "        document.querySelector('#df-7f3f1dba-c31f-4d7c-b79b-db55962f1812 button');\n",
              "      quickchartButtonEl.style.display =\n",
              "        google.colab.kernel.accessAllowed ? 'block' : 'none';\n",
              "    })();\n",
              "  </script>\n",
              "</div>\n",
              "\n",
              "    </div>\n",
              "  </div>\n"
            ],
            "application/vnd.google.colaboratory.intrinsic+json": {
              "type": "dataframe",
              "summary": "{\n  \"name\": \"df\",\n  \"rows\": 5,\n  \"fields\": [\n    {\n      \"column\": \"gender\",\n      \"properties\": {\n        \"dtype\": \"category\",\n        \"num_unique_values\": 2,\n        \"samples\": [\n          \"Male\",\n          \"Female\"\n        ],\n        \"semantic_type\": \"\",\n        \"description\": \"\"\n      }\n    },\n    {\n      \"column\": \"Partner\",\n      \"properties\": {\n        \"dtype\": \"category\",\n        \"num_unique_values\": 2,\n        \"samples\": [\n          \"Yes\",\n          \"No\"\n        ],\n        \"semantic_type\": \"\",\n        \"description\": \"\"\n      }\n    },\n    {\n      \"column\": \"Dependents\",\n      \"properties\": {\n        \"dtype\": \"category\",\n        \"num_unique_values\": 2,\n        \"samples\": [\n          \"Yes\",\n          \"No\"\n        ],\n        \"semantic_type\": \"\",\n        \"description\": \"\"\n      }\n    },\n    {\n      \"column\": \"tenure\",\n      \"properties\": {\n        \"dtype\": \"number\",\n        \"std\": 9,\n        \"min\": 3,\n        \"max\": 25,\n        \"num_unique_values\": 4,\n        \"samples\": [\n          25,\n          6\n        ],\n        \"semantic_type\": \"\",\n        \"description\": \"\"\n      }\n    },\n    {\n      \"column\": \"MultipleLines\",\n      \"properties\": {\n        \"dtype\": \"category\",\n        \"num_unique_values\": 2,\n        \"samples\": [\n          \"Yes\",\n          \"No\"\n        ],\n        \"semantic_type\": \"\",\n        \"description\": \"\"\n      }\n    },\n    {\n      \"column\": \"InternetService\",\n      \"properties\": {\n        \"dtype\": \"string\",\n        \"num_unique_values\": 3,\n        \"samples\": [\n          \"Fiber optic\",\n          \"No\"\n        ],\n        \"semantic_type\": \"\",\n        \"description\": \"\"\n      }\n    },\n    {\n      \"column\": \"OnlineSecurity\",\n      \"properties\": {\n        \"dtype\": \"category\",\n        \"num_unique_values\": 2,\n        \"samples\": [\n          \"No internet service\",\n          \"No\"\n        ],\n        \"semantic_type\": \"\",\n        \"description\": \"\"\n      }\n    },\n    {\n      \"column\": \"OnlineBackup\",\n      \"properties\": {\n        \"dtype\": \"category\",\n        \"num_unique_values\": 2,\n        \"samples\": [\n          \"No internet service\",\n          \"No\"\n        ],\n        \"semantic_type\": \"\",\n        \"description\": \"\"\n      }\n    },\n    {\n      \"column\": \"TechSupport\",\n      \"properties\": {\n        \"dtype\": \"string\",\n        \"num_unique_values\": 3,\n        \"samples\": [\n          \"No\",\n          \"No internet service\"\n        ],\n        \"semantic_type\": \"\",\n        \"description\": \"\"\n      }\n    },\n    {\n      \"column\": \"StreamingTV\",\n      \"properties\": {\n        \"dtype\": \"category\",\n        \"num_unique_values\": 2,\n        \"samples\": [\n          \"No internet service\",\n          \"No\"\n        ],\n        \"semantic_type\": \"\",\n        \"description\": \"\"\n      }\n    },\n    {\n      \"column\": \"StreamingMovies\",\n      \"properties\": {\n        \"dtype\": \"string\",\n        \"num_unique_values\": 3,\n        \"samples\": [\n          \"Yes\",\n          \"No internet service\"\n        ],\n        \"semantic_type\": \"\",\n        \"description\": \"\"\n      }\n    },\n    {\n      \"column\": \"Contract\",\n      \"properties\": {\n        \"dtype\": \"category\",\n        \"num_unique_values\": 2,\n        \"samples\": [\n          \"Two year\",\n          \"Month-to-month\"\n        ],\n        \"semantic_type\": \"\",\n        \"description\": \"\"\n      }\n    },\n    {\n      \"column\": \"PaperlessBilling\",\n      \"properties\": {\n        \"dtype\": \"category\",\n        \"num_unique_values\": 2,\n        \"samples\": [\n          \"No\",\n          \"Yes\"\n        ],\n        \"semantic_type\": \"\",\n        \"description\": \"\"\n      }\n    },\n    {\n      \"column\": \"PaymentMethod\",\n      \"properties\": {\n        \"dtype\": \"string\",\n        \"num_unique_values\": 3,\n        \"samples\": [\n          \"Credit card (automatic)\",\n          \"Mailed check\"\n        ],\n        \"semantic_type\": \"\",\n        \"description\": \"\"\n      }\n    },\n    {\n      \"column\": \"MonthlyCharges\",\n      \"properties\": {\n        \"dtype\": \"number\",\n        \"std\": 20.648020486235477,\n        \"min\": 25.5,\n        \"max\": 82.85,\n        \"num_unique_values\": 5,\n        \"samples\": [\n          25.5,\n          50.8\n        ],\n        \"semantic_type\": \"\",\n        \"description\": \"\"\n      }\n    },\n    {\n      \"column\": \"TotalCharges\",\n      \"properties\": {\n        \"dtype\": \"number\",\n        \"std\": 182.31039671395595,\n        \"min\": 154.55,\n        \"max\": 630.6,\n        \"num_unique_values\": 5,\n        \"samples\": [\n          630.6,\n          288.05\n        ],\n        \"semantic_type\": \"\",\n        \"description\": \"\"\n      }\n    },\n    {\n      \"column\": \"Churn\",\n      \"properties\": {\n        \"dtype\": \"number\",\n        \"std\": 0,\n        \"min\": 0,\n        \"max\": 1,\n        \"num_unique_values\": 2,\n        \"samples\": [\n          1,\n          0\n        ],\n        \"semantic_type\": \"\",\n        \"description\": \"\"\n      }\n    }\n  ]\n}"
            }
          },
          "metadata": {},
          "execution_count": 4
        }
      ],
      "source": [
        "df.tail()"
      ]
    },
    {
      "cell_type": "code",
      "execution_count": null,
      "metadata": {
        "colab": {
          "base_uri": "https://localhost:8080/",
          "height": 462
        },
        "id": "Qp-Kap2r0FUG",
        "outputId": "08b66f71-61a3-4562-95ab-e3b46d23c67b"
      },
      "outputs": [
        {
          "output_type": "execute_result",
          "data": {
            "text/plain": [
              "<Axes: xlabel='Churn'>"
            ]
          },
          "metadata": {},
          "execution_count": 5
        },
        {
          "output_type": "display_data",
          "data": {
            "text/plain": [
              "<Figure size 640x480 with 1 Axes>"
            ],
            "image/png": "[encoded data removed]"
          },
          "metadata": {}
        }
      ],
      "source": [
        "# Churn 레이블 불균형\n",
        "df['Churn'].value_counts().plot(kind='bar')"
      ]
    },
    {
      "cell_type": "markdown",
      "metadata": {
        "id": "jIh8NmeQ0FUH"
      },
      "source": [
        "## ④ 데이터 전처리"
      ]
    },
    {
      "cell_type": "markdown",
      "metadata": {
        "id": "q-nhs1qF0FUH"
      },
      "source": [
        "+ 모든 데이터값들은 숫자형으로 되어야 한다. 즉, Ojbect 타입을 모든 숫자형 변경 필요\n",
        "+ 순서없는 범주형 데이터를 숫자형을 변환시 LabelEncoder 활용 가능\n",
        "+ Object 컬럼에 대해 Pandas get_dummies 함수 활용하여 One-Hot-Encoding"
      ]
    },
    {
      "cell_type": "markdown",
      "source": [
        "> **LabelEncoder(라벨인코딩)**"
      ],
      "metadata": {
        "id": "SJF0OrdabaFM"
      }
    },
    {
      "cell_type": "code",
      "source": [
        "# gender 컬럼 내용 앞 5개 보기\n",
        "df['gender'].head()"
      ],
      "metadata": {
        "colab": {
          "base_uri": "https://localhost:8080/"
        },
        "id": "ZByV4uD2blga",
        "outputId": "45adc32f-d38d-492e-c88e-6f8fab85a752"
      },
      "execution_count": null,
      "outputs": [
        {
          "output_type": "execute_result",
          "data": {
            "text/plain": [
              "0    Female\n",
              "1      Male\n",
              "2      Male\n",
              "3      Male\n",
              "4      Male\n",
              "Name: gender, dtype: object"
            ]
          },
          "metadata": {},
          "execution_count": 6
        }
      ]
    },
    {
      "cell_type": "code",
      "source": [
        "# LabelEncoder 활용하여 Female -> 0, Male -> 1 (알파벳 순으로) 변경하기\n",
        "from sklearn.preprocessing import LabelEncoder\n",
        "\n",
        "le = LabelEncoder()\n",
        "le.fit(df['gender'])\n",
        "df['gender'] = le.transform(df['gender'])"
      ],
      "metadata": {
        "id": "C1W5dwzPbpcZ"
      },
      "execution_count": null,
      "outputs": []
    },
    {
      "cell_type": "code",
      "source": [
        "# gender 컬럼 내용 앞 5개 보기\n",
        "df['gender'].head()"
      ],
      "metadata": {
        "colab": {
          "base_uri": "https://localhost:8080/"
        },
        "id": "GguzOYmibpvA",
        "outputId": "c0ace3e1-4328-4953-e850-b7a5cf2dad3d"
      },
      "execution_count": null,
      "outputs": [
        {
          "output_type": "execute_result",
          "data": {
            "text/plain": [
              "0    0\n",
              "1    1\n",
              "2    1\n",
              "3    1\n",
              "4    1\n",
              "Name: gender, dtype: int64"
            ]
          },
          "metadata": {},
          "execution_count": 8
        }
      ]
    },
    {
      "cell_type": "markdown",
      "source": [
        "> **Pandas get_dummies (원핫인코딩)**"
      ],
      "metadata": {
        "id": "Gy6QhLPwcFlW"
      }
    },
    {
      "cell_type": "code",
      "execution_count": null,
      "metadata": {
        "colab": {
          "base_uri": "https://localhost:8080/",
          "height": 206
        },
        "id": "Blq556Xf0FUH",
        "outputId": "ab622b07-e5e5-48e7-8d93-0996c13e1dd4"
      },
      "outputs": [
        {
          "output_type": "execute_result",
          "data": {
            "text/plain": [
              "  MultipleLines\n",
              "0           Yes\n",
              "1           Yes\n",
              "2           Yes\n",
              "3            No\n",
              "4            No"
            ],
            "text/html": [
              "\n",
              "  <div id=\"df-c530d9bb-12df-4114-a48a-7a4c7ff350bf\" class=\"colab-df-container\">\n",
              "    <div>\n",
              "<style scoped>\n",
              "    .dataframe tbody tr th:only-of-type {\n",
              "        vertical-align: middle;\n",
              "    }\n",
              "\n",
              "    .dataframe tbody tr th {\n",
              "        vertical-align: top;\n",
              "    }\n",
              "\n",
              "    .dataframe thead th {\n",
              "        text-align: right;\n",
              "    }\n",
              "</style>\n",
              "<table border=\"1\" class=\"dataframe\">\n",
              "  <thead>\n",
              "    <tr style=\"text-align: right;\">\n",
              "      <th></th>\n",
              "      <th>MultipleLines</th>\n",
              "    </tr>\n",
              "  </thead>\n",
              "  <tbody>\n",
              "    <tr>\n",
              "      <th>0</th>\n",
              "      <td>Yes</td>\n",
              "    </tr>\n",
              "    <tr>\n",
              "      <th>1</th>\n",
              "      <td>Yes</td>\n",
              "    </tr>\n",
              "    <tr>\n",
              "      <th>2</th>\n",
              "      <td>Yes</td>\n",
              "    </tr>\n",
              "    <tr>\n",
              "      <th>3</th>\n",
              "      <td>No</td>\n",
              "    </tr>\n",
              "    <tr>\n",
              "      <th>4</th>\n",
              "      <td>No</td>\n",
              "    </tr>\n",
              "  </tbody>\n",
              "</table>\n",
              "</div>\n",
              "    <div class=\"colab-df-buttons\">\n",
              "\n",
              "  <div class=\"colab-df-container\">\n",
              "    <button class=\"colab-df-convert\" onclick=\"convertToInteractive('df-c530d9bb-12df-4114-a48a-7a4c7ff350bf')\"\n",
              "            title=\"Convert this dataframe to an interactive table.\"\n",
              "            style=\"display:none;\">\n",
              "\n",
              "  <svg xmlns=\"http://www.w3.org/2000/svg\" height=\"24px\" viewBox=\"0 -960 960 960\">\n",
              "    <path d=\"M120-120v-720h720v720H120Zm60-500h600v-160H180v160Zm220 220h160v-160H400v160Zm0 220h160v-160H400v160ZM180-400h160v-160H180v160Zm440 0h160v-160H620v160ZM180-180h160v-160H180v160Zm440 0h160v-160H620v160Z\"/>\n",
              "  </svg>\n",
              "    </button>\n",
              "\n",
              "  <style>\n",
              "    .colab-df-container {\n",
              "      display:flex;\n",
              "      gap: 12px;\n",
              "    }\n",
              "\n",
              "    .colab-df-convert {\n",
              "      background-color: #E8F0FE;\n",
              "      border: none;\n",
              "      border-radius: 50%;\n",
              "      cursor: pointer;\n",
              "      display: none;\n",
              "      fill: #1967D2;\n",
              "      height: 32px;\n",
              "      padding: 0 0 0 0;\n",
              "      width: 32px;\n",
              "    }\n",
              "\n",
              "    .colab-df-convert:hover {\n",
              "      background-color: #E2EBFA;\n",
              "      box-shadow: 0px 1px 2px rgba(60, 64, 67, 0.3), 0px 1px 3px 1px rgba(60, 64, 67, 0.15);\n",
              "      fill: #174EA6;\n",
              "    }\n",
              "\n",
              "    .colab-df-buttons div {\n",
              "      margin-bottom: 4px;\n",
              "    }\n",
              "\n",
              "    [theme=dark] .colab-df-convert {\n",
              "      background-color: #3B4455;\n",
              "      fill: #D2E3FC;\n",
              "    }\n",
              "\n",
              "    [theme=dark] .colab-df-convert:hover {\n",
              "      background-color: #434B5C;\n",
              "      box-shadow: 0px 1px 3px 1px rgba(0, 0, 0, 0.15);\n",
              "      filter: drop-shadow(0px 1px 2px rgba(0, 0, 0, 0.3));\n",
              "      fill: #FFFFFF;\n",
              "    }\n",
              "  </style>\n",
              "\n",
              "    <script>\n",
              "      const buttonEl =\n",
              "        document.querySelector('#df-c530d9bb-12df-4114-a48a-7a4c7ff350bf button.colab-df-convert');\n",
              "      buttonEl.style.display =\n",
              "        google.colab.kernel.accessAllowed ? 'block' : 'none';\n",
              "\n",
              "      async function convertToInteractive(key) {\n",
              "        const element = document.querySelector('#df-c530d9bb-12df-4114-a48a-7a4c7ff350bf');\n",
              "        const dataTable =\n",
              "          await google.colab.kernel.invokeFunction('convertToInteractive',\n",
              "                                                    [key], {});\n",
              "        if (!dataTable) return;\n",
              "\n",
              "        const docLinkHtml = 'Like what you see? Visit the ' +\n",
              "          '<a target=\"_blank\" href=https://colab.research.google.com/notebooks/data_table.ipynb>data table notebook</a>'\n",
              "          + ' to learn more about interactive tables.';\n",
              "        element.innerHTML = '';\n",
              "        dataTable['output_type'] = 'display_data';\n",
              "        await google.colab.output.renderOutput(dataTable, element);\n",
              "        const docLink = document.createElement('div');\n",
              "        docLink.innerHTML = docLinkHtml;\n",
              "        element.appendChild(docLink);\n",
              "      }\n",
              "    </script>\n",
              "  </div>\n",
              "\n",
              "\n",
              "<div id=\"df-98b72d28-9017-4eb0-b7d7-53728232afcb\">\n",
              "  <button class=\"colab-df-quickchart\" onclick=\"quickchart('df-98b72d28-9017-4eb0-b7d7-53728232afcb')\"\n",
              "            title=\"Suggest charts\"\n",
              "            style=\"display:none;\">\n",
              "\n",
              "<svg xmlns=\"http://www.w3.org/2000/svg\" height=\"24px\"viewBox=\"0 0 24 24\"\n",
              "     width=\"24px\">\n",
              "    <g>\n",
              "        <path d=\"M19 3H5c-1.1 0-2 .9-2 2v14c0 1.1.9 2 2 2h14c1.1 0 2-.9 2-2V5c0-1.1-.9-2-2-2zM9 17H7v-7h2v7zm4 0h-2V7h2v10zm4 0h-2v-4h2v4z\"/>\n",
              "    </g>\n",
              "</svg>\n",
              "  </button>\n",
              "\n",
              "<style>\n",
              "  .colab-df-quickchart {\n",
              "      --bg-color: #E8F0FE;\n",
              "      --fill-color: #1967D2;\n",
              "      --hover-bg-color: #E2EBFA;\n",
              "      --hover-fill-color: #174EA6;\n",
              "      --disabled-fill-color: #AAA;\n",
              "      --disabled-bg-color: #DDD;\n",
              "  }\n",
              "\n",
              "  [theme=dark] .colab-df-quickchart {\n",
              "      --bg-color: #3B4455;\n",
              "      --fill-color: #D2E3FC;\n",
              "      --hover-bg-color: #434B5C;\n",
              "      --hover-fill-color: #FFFFFF;\n",
              "      --disabled-bg-color: #3B4455;\n",
              "      --disabled-fill-color: #666;\n",
              "  }\n",
              "\n",
              "  .colab-df-quickchart {\n",
              "    background-color: var(--bg-color);\n",
              "    border: none;\n",
              "    border-radius: 50%;\n",
              "    cursor: pointer;\n",
              "    display: none;\n",
              "    fill: var(--fill-color);\n",
              "    height: 32px;\n",
              "    padding: 0;\n",
              "    width: 32px;\n",
              "  }\n",
              "\n",
              "  .colab-df-quickchart:hover {\n",
              "    background-color: var(--hover-bg-color);\n",
              "    box-shadow: 0 1px 2px rgba(60, 64, 67, 0.3), 0 1px 3px 1px rgba(60, 64, 67, 0.15);\n",
              "    fill: var(--button-hover-fill-color);\n",
              "  }\n",
              "\n",
              "  .colab-df-quickchart-complete:disabled,\n",
              "  .colab-df-quickchart-complete:disabled:hover {\n",
              "    background-color: var(--disabled-bg-color);\n",
              "    fill: var(--disabled-fill-color);\n",
              "    box-shadow: none;\n",
              "  }\n",
              "\n",
              "  .colab-df-spinner {\n",
              "    border: 2px solid var(--fill-color);\n",
              "    border-color: transparent;\n",
              "    border-bottom-color: var(--fill-color);\n",
              "    animation:\n",
              "      spin 1s steps(1) infinite;\n",
              "  }\n",
              "\n",
              "  @keyframes spin {\n",
              "    0% {\n",
              "      border-color: transparent;\n",
              "      border-bottom-color: var(--fill-color);\n",
              "      border-left-color: var(--fill-color);\n",
              "    }\n",
              "    20% {\n",
              "      border-color: transparent;\n",
              "      border-left-color: var(--fill-color);\n",
              "      border-top-color: var(--fill-color);\n",
              "    }\n",
              "    30% {\n",
              "      border-color: transparent;\n",
              "      border-left-color: var(--fill-color);\n",
              "      border-top-color: var(--fill-color);\n",
              "      border-right-color: var(--fill-color);\n",
              "    }\n",
              "    40% {\n",
              "      border-color: transparent;\n",
              "      border-right-color: var(--fill-color);\n",
              "      border-top-color: var(--fill-color);\n",
              "    }\n",
              "    60% {\n",
              "      border-color: transparent;\n",
              "      border-right-color: var(--fill-color);\n",
              "    }\n",
              "    80% {\n",
              "      border-color: transparent;\n",
              "      border-right-color: var(--fill-color);\n",
              "      border-bottom-color: var(--fill-color);\n",
              "    }\n",
              "    90% {\n",
              "      border-color: transparent;\n",
              "      border-bottom-color: var(--fill-color);\n",
              "    }\n",
              "  }\n",
              "</style>\n",
              "\n",
              "  <script>\n",
              "    async function quickchart(key) {\n",
              "      const quickchartButtonEl =\n",
              "        document.querySelector('#' + key + ' button');\n",
              "      quickchartButtonEl.disabled = true;  // To prevent multiple clicks.\n",
              "      quickchartButtonEl.classList.add('colab-df-spinner');\n",
              "      try {\n",
              "        const charts = await google.colab.kernel.invokeFunction(\n",
              "            'suggestCharts', [key], {});\n",
              "      } catch (error) {\n",
              "        console.error('Error during call to suggestCharts:', error);\n",
              "      }\n",
              "      quickchartButtonEl.classList.remove('colab-df-spinner');\n",
              "      quickchartButtonEl.classList.add('colab-df-quickchart-complete');\n",
              "    }\n",
              "    (() => {\n",
              "      let quickchartButtonEl =\n",
              "        document.querySelector('#df-98b72d28-9017-4eb0-b7d7-53728232afcb button');\n",
              "      quickchartButtonEl.style.display =\n",
              "        google.colab.kernel.accessAllowed ? 'block' : 'none';\n",
              "    })();\n",
              "  </script>\n",
              "</div>\n",
              "\n",
              "    </div>\n",
              "  </div>\n"
            ],
            "application/vnd.google.colaboratory.intrinsic+json": {
              "type": "dataframe",
              "summary": "{\n  \"name\": \"df[['MultipleLines']]\",\n  \"rows\": 5,\n  \"fields\": [\n    {\n      \"column\": \"MultipleLines\",\n      \"properties\": {\n        \"dtype\": \"category\",\n        \"num_unique_values\": 2,\n        \"samples\": [\n          \"No\",\n          \"Yes\"\n        ],\n        \"semantic_type\": \"\",\n        \"description\": \"\"\n      }\n    }\n  ]\n}"
            }
          },
          "metadata": {},
          "execution_count": 9
        }
      ],
      "source": [
        "# MultipleLines 컬럼 내용 보기\n",
        "df[['MultipleLines']].head()"
      ]
    },
    {
      "cell_type": "code",
      "execution_count": null,
      "metadata": {
        "colab": {
          "base_uri": "https://localhost:8080/"
        },
        "id": "dpzTPy9o0FUI",
        "outputId": "ae78e938-8584-4313-de37-a26bbabcd58e"
      },
      "outputs": [
        {
          "output_type": "execute_result",
          "data": {
            "text/plain": [
              "MultipleLines\n",
              "No                  3381\n",
              "Yes                 2966\n",
              "No phone service     681\n",
              "Name: count, dtype: int64"
            ]
          },
          "metadata": {},
          "execution_count": 10
        }
      ],
      "source": [
        "# MultipleLines 컬럼에 대한 분포 확인 : 3가지 되어 있음 확인\n",
        "df['MultipleLines'].value_counts()"
      ]
    },
    {
      "cell_type": "code",
      "execution_count": null,
      "metadata": {
        "colab": {
          "base_uri": "https://localhost:8080/",
          "height": 739
        },
        "id": "CvSKdzeQ0FUI",
        "outputId": "48704d95-5e7a-4cfb-a650-c44d517d2e3f"
      },
      "outputs": [
        {
          "output_type": "execute_result",
          "data": {
            "text/plain": [
              "      gender Partner Dependents  tenure InternetService       OnlineSecurity  \\\n",
              "0          0     Yes        Yes      69     Fiber optic                  Yes   \n",
              "1          1      No         No       3     Fiber optic                   No   \n",
              "2          1      No         No      67     Fiber optic                   No   \n",
              "3          1     Yes         No      16             DSL                  Yes   \n",
              "4          1     Yes         No      43             DSL                   No   \n",
              "...      ...     ...        ...     ...             ...                  ...   \n",
              "7023       0      No         No       4     Fiber optic                   No   \n",
              "7024       1     Yes        Yes      25              No  No internet service   \n",
              "7025       1     Yes         No       3             DSL                   No   \n",
              "7026       1     Yes        Yes       4             DSL                   No   \n",
              "7027       0      No         No       6             DSL                   No   \n",
              "\n",
              "             OnlineBackup          TechSupport          StreamingTV  \\\n",
              "0                     Yes                  Yes                  Yes   \n",
              "1                      No                   No                   No   \n",
              "2                      No                   No                   No   \n",
              "3                     Yes                   No                   No   \n",
              "4                      No                   No                  Yes   \n",
              "...                   ...                  ...                  ...   \n",
              "7023                   No                   No                   No   \n",
              "7024  No internet service  No internet service  No internet service   \n",
              "7025                   No                  Yes                   No   \n",
              "7026                   No                  Yes                   No   \n",
              "7027                   No                  Yes                   No   \n",
              "\n",
              "          StreamingMovies        Contract PaperlessBilling  \\\n",
              "0                      No        One year              Yes   \n",
              "1                      No  Month-to-month              Yes   \n",
              "2                      No  Month-to-month              Yes   \n",
              "3                      No  Month-to-month              Yes   \n",
              "4                      No        One year              Yes   \n",
              "...                   ...             ...              ...   \n",
              "7023                  Yes  Month-to-month              Yes   \n",
              "7024  No internet service        Two year               No   \n",
              "7025                   No  Month-to-month              Yes   \n",
              "7026                  Yes  Month-to-month               No   \n",
              "7027                   No  Month-to-month              Yes   \n",
              "\n",
              "                  PaymentMethod  MonthlyCharges  TotalCharges  Churn  \\\n",
              "0       Credit card (automatic)          105.10       7234.80      0   \n",
              "1              Electronic check           76.95        228.40      1   \n",
              "2                  Mailed check           75.70       5060.85      0   \n",
              "3     Bank transfer (automatic)           54.55        825.10      0   \n",
              "4                  Mailed check           56.35       2391.15      0   \n",
              "...                         ...             ...           ...    ...   \n",
              "7023    Credit card (automatic)           82.85        319.60      0   \n",
              "7024    Credit card (automatic)           25.50        630.60      0   \n",
              "7025               Mailed check           55.80        154.55      0   \n",
              "7026    Credit card (automatic)           61.45        229.55      1   \n",
              "7027  Bank transfer (automatic)           50.80        288.05      1   \n",
              "\n",
              "      MultipleLines_No  MultipleLines_No phone service  MultipleLines_Yes  \n",
              "0                False                           False               True  \n",
              "1                False                           False               True  \n",
              "2                False                           False               True  \n",
              "3                 True                           False              False  \n",
              "4                 True                           False              False  \n",
              "...                ...                             ...                ...  \n",
              "7023              True                           False              False  \n",
              "7024             False                           False               True  \n",
              "7025              True                           False              False  \n",
              "7026              True                           False              False  \n",
              "7027              True                           False              False  \n",
              "\n",
              "[7028 rows x 19 columns]"
            ],
            "text/html": [
              "\n",
              "  <div id=\"df-7e76507e-66d6-4720-86ab-1d8c3d3cbcc7\" class=\"colab-df-container\">\n",
              "    <div>\n",
              "<style scoped>\n",
              "    .dataframe tbody tr th:only-of-type {\n",
              "        vertical-align: middle;\n",
              "    }\n",
              "\n",
              "    .dataframe tbody tr th {\n",
              "        vertical-align: top;\n",
              "    }\n",
              "\n",
              "    .dataframe thead th {\n",
              "        text-align: right;\n",
              "    }\n",
              "</style>\n",
              "<table border=\"1\" class=\"dataframe\">\n",
              "  <thead>\n",
              "    <tr style=\"text-align: right;\">\n",
              "      <th></th>\n",
              "      <th>gender</th>\n",
              "      <th>Partner</th>\n",
              "      <th>Dependents</th>\n",
              "      <th>tenure</th>\n",
              "      <th>InternetService</th>\n",
              "      <th>OnlineSecurity</th>\n",
              "      <th>OnlineBackup</th>\n",
              "      <th>TechSupport</th>\n",
              "      <th>StreamingTV</th>\n",
              "      <th>StreamingMovies</th>\n",
              "      <th>Contract</th>\n",
              "      <th>PaperlessBilling</th>\n",
              "      <th>PaymentMethod</th>\n",
              "      <th>MonthlyCharges</th>\n",
              "      <th>TotalCharges</th>\n",
              "      <th>Churn</th>\n",
              "      <th>MultipleLines_No</th>\n",
              "      <th>MultipleLines_No phone service</th>\n",
              "      <th>MultipleLines_Yes</th>\n",
              "    </tr>\n",
              "  </thead>\n",
              "  <tbody>\n",
              "    <tr>\n",
              "      <th>0</th>\n",
              "      <td>0</td>\n",
              "      <td>Yes</td>\n",
              "      <td>Yes</td>\n",
              "      <td>69</td>\n",
              "      <td>Fiber optic</td>\n",
              "      <td>Yes</td>\n",
              "      <td>Yes</td>\n",
              "      <td>Yes</td>\n",
              "      <td>Yes</td>\n",
              "      <td>No</td>\n",
              "      <td>One year</td>\n",
              "      <td>Yes</td>\n",
              "      <td>Credit card (automatic)</td>\n",
              "      <td>105.10</td>\n",
              "      <td>7234.80</td>\n",
              "      <td>0</td>\n",
              "      <td>False</td>\n",
              "      <td>False</td>\n",
              "      <td>True</td>\n",
              "    </tr>\n",
              "    <tr>\n",
              "      <th>1</th>\n",
              "      <td>1</td>\n",
              "      <td>No</td>\n",
              "      <td>No</td>\n",
              "      <td>3</td>\n",
              "      <td>Fiber optic</td>\n",
              "      <td>No</td>\n",
              "      <td>No</td>\n",
              "      <td>No</td>\n",
              "      <td>No</td>\n",
              "      <td>No</td>\n",
              "      <td>Month-to-month</td>\n",
              "      <td>Yes</td>\n",
              "      <td>Electronic check</td>\n",
              "      <td>76.95</td>\n",
              "      <td>228.40</td>\n",
              "      <td>1</td>\n",
              "      <td>False</td>\n",
              "      <td>False</td>\n",
              "      <td>True</td>\n",
              "    </tr>\n",
              "    <tr>\n",
              "      <th>2</th>\n",
              "      <td>1</td>\n",
              "      <td>No</td>\n",
              "      <td>No</td>\n",
              "      <td>67</td>\n",
              "      <td>Fiber optic</td>\n",
              "      <td>No</td>\n",
              "      <td>No</td>\n",
              "      <td>No</td>\n",
              "      <td>No</td>\n",
              "      <td>No</td>\n",
              "      <td>Month-to-month</td>\n",
              "      <td>Yes</td>\n",
              "      <td>Mailed check</td>\n",
              "      <td>75.70</td>\n",
              "      <td>5060.85</td>\n",
              "      <td>0</td>\n",
              "      <td>False</td>\n",
              "      <td>False</td>\n",
              "      <td>True</td>\n",
              "    </tr>\n",
              "    <tr>\n",
              "      <th>3</th>\n",
              "      <td>1</td>\n",
              "      <td>Yes</td>\n",
              "      <td>No</td>\n",
              "      <td>16</td>\n",
              "      <td>DSL</td>\n",
              "      <td>Yes</td>\n",
              "      <td>Yes</td>\n",
              "      <td>No</td>\n",
              "      <td>No</td>\n",
              "      <td>No</td>\n",
              "      <td>Month-to-month</td>\n",
              "      <td>Yes</td>\n",
              "      <td>Bank transfer (automatic)</td>\n",
              "      <td>54.55</td>\n",
              "      <td>825.10</td>\n",
              "      <td>0</td>\n",
              "      <td>True</td>\n",
              "      <td>False</td>\n",
              "      <td>False</td>\n",
              "    </tr>\n",
              "    <tr>\n",
              "      <th>4</th>\n",
              "      <td>1</td>\n",
              "      <td>Yes</td>\n",
              "      <td>No</td>\n",
              "      <td>43</td>\n",
              "      <td>DSL</td>\n",
              "      <td>No</td>\n",
              "      <td>No</td>\n",
              "      <td>No</td>\n",
              "      <td>Yes</td>\n",
              "      <td>No</td>\n",
              "      <td>One year</td>\n",
              "      <td>Yes</td>\n",
              "      <td>Mailed check</td>\n",
              "      <td>56.35</td>\n",
              "      <td>2391.15</td>\n",
              "      <td>0</td>\n",
              "      <td>True</td>\n",
              "      <td>False</td>\n",
              "      <td>False</td>\n",
              "    </tr>\n",
              "    <tr>\n",
              "      <th>...</th>\n",
              "      <td>...</td>\n",
              "      <td>...</td>\n",
              "      <td>...</td>\n",
              "      <td>...</td>\n",
              "      <td>...</td>\n",
              "      <td>...</td>\n",
              "      <td>...</td>\n",
              "      <td>...</td>\n",
              "      <td>...</td>\n",
              "      <td>...</td>\n",
              "      <td>...</td>\n",
              "      <td>...</td>\n",
              "      <td>...</td>\n",
              "      <td>...</td>\n",
              "      <td>...</td>\n",
              "      <td>...</td>\n",
              "      <td>...</td>\n",
              "      <td>...</td>\n",
              "      <td>...</td>\n",
              "    </tr>\n",
              "    <tr>\n",
              "      <th>7023</th>\n",
              "      <td>0</td>\n",
              "      <td>No</td>\n",
              "      <td>No</td>\n",
              "      <td>4</td>\n",
              "      <td>Fiber optic</td>\n",
              "      <td>No</td>\n",
              "      <td>No</td>\n",
              "      <td>No</td>\n",
              "      <td>No</td>\n",
              "      <td>Yes</td>\n",
              "      <td>Month-to-month</td>\n",
              "      <td>Yes</td>\n",
              "      <td>Credit card (automatic)</td>\n",
              "      <td>82.85</td>\n",
              "      <td>319.60</td>\n",
              "      <td>0</td>\n",
              "      <td>True</td>\n",
              "      <td>False</td>\n",
              "      <td>False</td>\n",
              "    </tr>\n",
              "    <tr>\n",
              "      <th>7024</th>\n",
              "      <td>1</td>\n",
              "      <td>Yes</td>\n",
              "      <td>Yes</td>\n",
              "      <td>25</td>\n",
              "      <td>No</td>\n",
              "      <td>No internet service</td>\n",
              "      <td>No internet service</td>\n",
              "      <td>No internet service</td>\n",
              "      <td>No internet service</td>\n",
              "      <td>No internet service</td>\n",
              "      <td>Two year</td>\n",
              "      <td>No</td>\n",
              "      <td>Credit card (automatic)</td>\n",
              "      <td>25.50</td>\n",
              "      <td>630.60</td>\n",
              "      <td>0</td>\n",
              "      <td>False</td>\n",
              "      <td>False</td>\n",
              "      <td>True</td>\n",
              "    </tr>\n",
              "    <tr>\n",
              "      <th>7025</th>\n",
              "      <td>1</td>\n",
              "      <td>Yes</td>\n",
              "      <td>No</td>\n",
              "      <td>3</td>\n",
              "      <td>DSL</td>\n",
              "      <td>No</td>\n",
              "      <td>No</td>\n",
              "      <td>Yes</td>\n",
              "      <td>No</td>\n",
              "      <td>No</td>\n",
              "      <td>Month-to-month</td>\n",
              "      <td>Yes</td>\n",
              "      <td>Mailed check</td>\n",
              "      <td>55.80</td>\n",
              "      <td>154.55</td>\n",
              "      <td>0</td>\n",
              "      <td>True</td>\n",
              "      <td>False</td>\n",
              "      <td>False</td>\n",
              "    </tr>\n",
              "    <tr>\n",
              "      <th>7026</th>\n",
              "      <td>1</td>\n",
              "      <td>Yes</td>\n",
              "      <td>Yes</td>\n",
              "      <td>4</td>\n",
              "      <td>DSL</td>\n",
              "      <td>No</td>\n",
              "      <td>No</td>\n",
              "      <td>Yes</td>\n",
              "      <td>No</td>\n",
              "      <td>Yes</td>\n",
              "      <td>Month-to-month</td>\n",
              "      <td>No</td>\n",
              "      <td>Credit card (automatic)</td>\n",
              "      <td>61.45</td>\n",
              "      <td>229.55</td>\n",
              "      <td>1</td>\n",
              "      <td>True</td>\n",
              "      <td>False</td>\n",
              "      <td>False</td>\n",
              "    </tr>\n",
              "    <tr>\n",
              "      <th>7027</th>\n",
              "      <td>0</td>\n",
              "      <td>No</td>\n",
              "      <td>No</td>\n",
              "      <td>6</td>\n",
              "      <td>DSL</td>\n",
              "      <td>No</td>\n",
              "      <td>No</td>\n",
              "      <td>Yes</td>\n",
              "      <td>No</td>\n",
              "      <td>No</td>\n",
              "      <td>Month-to-month</td>\n",
              "      <td>Yes</td>\n",
              "      <td>Bank transfer (automatic)</td>\n",
              "      <td>50.80</td>\n",
              "      <td>288.05</td>\n",
              "      <td>1</td>\n",
              "      <td>True</td>\n",
              "      <td>False</td>\n",
              "      <td>False</td>\n",
              "    </tr>\n",
              "  </tbody>\n",
              "</table>\n",
              "<p>7028 rows × 19 columns</p>\n",
              "</div>\n",
              "    <div class=\"colab-df-buttons\">\n",
              "\n",
              "  <div class=\"colab-df-container\">\n",
              "    <button class=\"colab-df-convert\" onclick=\"convertToInteractive('df-7e76507e-66d6-4720-86ab-1d8c3d3cbcc7')\"\n",
              "            title=\"Convert this dataframe to an interactive table.\"\n",
              "            style=\"display:none;\">\n",
              "\n",
              "  <svg xmlns=\"http://www.w3.org/2000/svg\" height=\"24px\" viewBox=\"0 -960 960 960\">\n",
              "    <path d=\"M120-120v-720h720v720H120Zm60-500h600v-160H180v160Zm220 220h160v-160H400v160Zm0 220h160v-160H400v160ZM180-400h160v-160H180v160Zm440 0h160v-160H620v160ZM180-180h160v-160H180v160Zm440 0h160v-160H620v160Z\"/>\n",
              "  </svg>\n",
              "    </button>\n",
              "\n",
              "  <style>\n",
              "    .colab-df-container {\n",
              "      display:flex;\n",
              "      gap: 12px;\n",
              "    }\n",
              "\n",
              "    .colab-df-convert {\n",
              "      background-color: #E8F0FE;\n",
              "      border: none;\n",
              "      border-radius: 50%;\n",
              "      cursor: pointer;\n",
              "      display: none;\n",
              "      fill: #1967D2;\n",
              "      height: 32px;\n",
              "      padding: 0 0 0 0;\n",
              "      width: 32px;\n",
              "    }\n",
              "\n",
              "    .colab-df-convert:hover {\n",
              "      background-color: #E2EBFA;\n",
              "      box-shadow: 0px 1px 2px rgba(60, 64, 67, 0.3), 0px 1px 3px 1px rgba(60, 64, 67, 0.15);\n",
              "      fill: #174EA6;\n",
              "    }\n",
              "\n",
              "    .colab-df-buttons div {\n",
              "      margin-bottom: 4px;\n",
              "    }\n",
              "\n",
              "    [theme=dark] .colab-df-convert {\n",
              "      background-color: #3B4455;\n",
              "      fill: #D2E3FC;\n",
              "    }\n",
              "\n",
              "    [theme=dark] .colab-df-convert:hover {\n",
              "      background-color: #434B5C;\n",
              "      box-shadow: 0px 1px 3px 1px rgba(0, 0, 0, 0.15);\n",
              "      filter: drop-shadow(0px 1px 2px rgba(0, 0, 0, 0.3));\n",
              "      fill: #FFFFFF;\n",
              "    }\n",
              "  </style>\n",
              "\n",
              "    <script>\n",
              "      const buttonEl =\n",
              "        document.querySelector('#df-7e76507e-66d6-4720-86ab-1d8c3d3cbcc7 button.colab-df-convert');\n",
              "      buttonEl.style.display =\n",
              "        google.colab.kernel.accessAllowed ? 'block' : 'none';\n",
              "\n",
              "      async function convertToInteractive(key) {\n",
              "        const element = document.querySelector('#df-7e76507e-66d6-4720-86ab-1d8c3d3cbcc7');\n",
              "        const dataTable =\n",
              "          await google.colab.kernel.invokeFunction('convertToInteractive',\n",
              "                                                    [key], {});\n",
              "        if (!dataTable) return;\n",
              "\n",
              "        const docLinkHtml = 'Like what you see? Visit the ' +\n",
              "          '<a target=\"_blank\" href=https://colab.research.google.com/notebooks/data_table.ipynb>data table notebook</a>'\n",
              "          + ' to learn more about interactive tables.';\n",
              "        element.innerHTML = '';\n",
              "        dataTable['output_type'] = 'display_data';\n",
              "        await google.colab.output.renderOutput(dataTable, element);\n",
              "        const docLink = document.createElement('div');\n",
              "        docLink.innerHTML = docLinkHtml;\n",
              "        element.appendChild(docLink);\n",
              "      }\n",
              "    </script>\n",
              "  </div>\n",
              "\n",
              "\n",
              "<div id=\"df-73a35d95-a94e-4ffa-9735-af95fa75e41e\">\n",
              "  <button class=\"colab-df-quickchart\" onclick=\"quickchart('df-73a35d95-a94e-4ffa-9735-af95fa75e41e')\"\n",
              "            title=\"Suggest charts\"\n",
              "            style=\"display:none;\">\n",
              "\n",
              "<svg xmlns=\"http://www.w3.org/2000/svg\" height=\"24px\"viewBox=\"0 0 24 24\"\n",
              "     width=\"24px\">\n",
              "    <g>\n",
              "        <path d=\"M19 3H5c-1.1 0-2 .9-2 2v14c0 1.1.9 2 2 2h14c1.1 0 2-.9 2-2V5c0-1.1-.9-2-2-2zM9 17H7v-7h2v7zm4 0h-2V7h2v10zm4 0h-2v-4h2v4z\"/>\n",
              "    </g>\n",
              "</svg>\n",
              "  </button>\n",
              "\n",
              "<style>\n",
              "  .colab-df-quickchart {\n",
              "      --bg-color: #E8F0FE;\n",
              "      --fill-color: #1967D2;\n",
              "      --hover-bg-color: #E2EBFA;\n",
              "      --hover-fill-color: #174EA6;\n",
              "      --disabled-fill-color: #AAA;\n",
              "      --disabled-bg-color: #DDD;\n",
              "  }\n",
              "\n",
              "  [theme=dark] .colab-df-quickchart {\n",
              "      --bg-color: #3B4455;\n",
              "      --fill-color: #D2E3FC;\n",
              "      --hover-bg-color: #434B5C;\n",
              "      --hover-fill-color: #FFFFFF;\n",
              "      --disabled-bg-color: #3B4455;\n",
              "      --disabled-fill-color: #666;\n",
              "  }\n",
              "\n",
              "  .colab-df-quickchart {\n",
              "    background-color: var(--bg-color);\n",
              "    border: none;\n",
              "    border-radius: 50%;\n",
              "    cursor: pointer;\n",
              "    display: none;\n",
              "    fill: var(--fill-color);\n",
              "    height: 32px;\n",
              "    padding: 0;\n",
              "    width: 32px;\n",
              "  }\n",
              "\n",
              "  .colab-df-quickchart:hover {\n",
              "    background-color: var(--hover-bg-color);\n",
              "    box-shadow: 0 1px 2px rgba(60, 64, 67, 0.3), 0 1px 3px 1px rgba(60, 64, 67, 0.15);\n",
              "    fill: var(--button-hover-fill-color);\n",
              "  }\n",
              "\n",
              "  .colab-df-quickchart-complete:disabled,\n",
              "  .colab-df-quickchart-complete:disabled:hover {\n",
              "    background-color: var(--disabled-bg-color);\n",
              "    fill: var(--disabled-fill-color);\n",
              "    box-shadow: none;\n",
              "  }\n",
              "\n",
              "  .colab-df-spinner {\n",
              "    border: 2px solid var(--fill-color);\n",
              "    border-color: transparent;\n",
              "    border-bottom-color: var(--fill-color);\n",
              "    animation:\n",
              "      spin 1s steps(1) infinite;\n",
              "  }\n",
              "\n",
              "  @keyframes spin {\n",
              "    0% {\n",
              "      border-color: transparent;\n",
              "      border-bottom-color: var(--fill-color);\n",
              "      border-left-color: var(--fill-color);\n",
              "    }\n",
              "    20% {\n",
              "      border-color: transparent;\n",
              "      border-left-color: var(--fill-color);\n",
              "      border-top-color: var(--fill-color);\n",
              "    }\n",
              "    30% {\n",
              "      border-color: transparent;\n",
              "      border-left-color: var(--fill-color);\n",
              "      border-top-color: var(--fill-color);\n",
              "      border-right-color: var(--fill-color);\n",
              "    }\n",
              "    40% {\n",
              "      border-color: transparent;\n",
              "      border-right-color: var(--fill-color);\n",
              "      border-top-color: var(--fill-color);\n",
              "    }\n",
              "    60% {\n",
              "      border-color: transparent;\n",
              "      border-right-color: var(--fill-color);\n",
              "    }\n",
              "    80% {\n",
              "      border-color: transparent;\n",
              "      border-right-color: var(--fill-color);\n",
              "      border-bottom-color: var(--fill-color);\n",
              "    }\n",
              "    90% {\n",
              "      border-color: transparent;\n",
              "      border-bottom-color: var(--fill-color);\n",
              "    }\n",
              "  }\n",
              "</style>\n",
              "\n",
              "  <script>\n",
              "    async function quickchart(key) {\n",
              "      const quickchartButtonEl =\n",
              "        document.querySelector('#' + key + ' button');\n",
              "      quickchartButtonEl.disabled = true;  // To prevent multiple clicks.\n",
              "      quickchartButtonEl.classList.add('colab-df-spinner');\n",
              "      try {\n",
              "        const charts = await google.colab.kernel.invokeFunction(\n",
              "            'suggestCharts', [key], {});\n",
              "      } catch (error) {\n",
              "        console.error('Error during call to suggestCharts:', error);\n",
              "      }\n",
              "      quickchartButtonEl.classList.remove('colab-df-spinner');\n",
              "      quickchartButtonEl.classList.add('colab-df-quickchart-complete');\n",
              "    }\n",
              "    (() => {\n",
              "      let quickchartButtonEl =\n",
              "        document.querySelector('#df-73a35d95-a94e-4ffa-9735-af95fa75e41e button');\n",
              "      quickchartButtonEl.style.display =\n",
              "        google.colab.kernel.accessAllowed ? 'block' : 'none';\n",
              "    })();\n",
              "  </script>\n",
              "</div>\n",
              "\n",
              "    </div>\n",
              "  </div>\n"
            ],
            "application/vnd.google.colaboratory.intrinsic+json": {
              "type": "dataframe",
              "summary": "{\n  \"name\": \"pd\",\n  \"rows\": 7028,\n  \"fields\": [\n    {\n      \"column\": \"gender\",\n      \"properties\": {\n        \"dtype\": \"number\",\n        \"std\": 0,\n        \"min\": 0,\n        \"max\": 1,\n        \"num_unique_values\": 2,\n        \"samples\": [\n          1,\n          0\n        ],\n        \"semantic_type\": \"\",\n        \"description\": \"\"\n      }\n    },\n    {\n      \"column\": \"Partner\",\n      \"properties\": {\n        \"dtype\": \"category\",\n        \"num_unique_values\": 2,\n        \"samples\": [\n          \"No\",\n          \"Yes\"\n        ],\n        \"semantic_type\": \"\",\n        \"description\": \"\"\n      }\n    },\n    {\n      \"column\": \"Dependents\",\n      \"properties\": {\n        \"dtype\": \"category\",\n        \"num_unique_values\": 2,\n        \"samples\": [\n          \"No\",\n          \"Yes\"\n        ],\n        \"semantic_type\": \"\",\n        \"description\": \"\"\n      }\n    },\n    {\n      \"column\": \"tenure\",\n      \"properties\": {\n        \"dtype\": \"number\",\n        \"std\": 24,\n        \"min\": 0,\n        \"max\": 72,\n        \"num_unique_values\": 73,\n        \"samples\": [\n          43,\n          63\n        ],\n        \"semantic_type\": \"\",\n        \"description\": \"\"\n      }\n    },\n    {\n      \"column\": \"InternetService\",\n      \"properties\": {\n        \"dtype\": \"category\",\n        \"num_unique_values\": 3,\n        \"samples\": [\n          \"Fiber optic\",\n          \"DSL\"\n        ],\n        \"semantic_type\": \"\",\n        \"description\": \"\"\n      }\n    },\n    {\n      \"column\": \"OnlineSecurity\",\n      \"properties\": {\n        \"dtype\": \"category\",\n        \"num_unique_values\": 3,\n        \"samples\": [\n          \"Yes\",\n          \"No\"\n        ],\n        \"semantic_type\": \"\",\n        \"description\": \"\"\n      }\n    },\n    {\n      \"column\": \"OnlineBackup\",\n      \"properties\": {\n        \"dtype\": \"category\",\n        \"num_unique_values\": 3,\n        \"samples\": [\n          \"Yes\",\n          \"No\"\n        ],\n        \"semantic_type\": \"\",\n        \"description\": \"\"\n      }\n    },\n    {\n      \"column\": \"TechSupport\",\n      \"properties\": {\n        \"dtype\": \"category\",\n        \"num_unique_values\": 3,\n        \"samples\": [\n          \"Yes\",\n          \"No\"\n        ],\n        \"semantic_type\": \"\",\n        \"description\": \"\"\n      }\n    },\n    {\n      \"column\": \"StreamingTV\",\n      \"properties\": {\n        \"dtype\": \"category\",\n        \"num_unique_values\": 3,\n        \"samples\": [\n          \"Yes\",\n          \"No\"\n        ],\n        \"semantic_type\": \"\",\n        \"description\": \"\"\n      }\n    },\n    {\n      \"column\": \"StreamingMovies\",\n      \"properties\": {\n        \"dtype\": \"category\",\n        \"num_unique_values\": 3,\n        \"samples\": [\n          \"No\",\n          \"Yes\"\n        ],\n        \"semantic_type\": \"\",\n        \"description\": \"\"\n      }\n    },\n    {\n      \"column\": \"Contract\",\n      \"properties\": {\n        \"dtype\": \"category\",\n        \"num_unique_values\": 3,\n        \"samples\": [\n          \"One year\",\n          \"Month-to-month\"\n        ],\n        \"semantic_type\": \"\",\n        \"description\": \"\"\n      }\n    },\n    {\n      \"column\": \"PaperlessBilling\",\n      \"properties\": {\n        \"dtype\": \"category\",\n        \"num_unique_values\": 2,\n        \"samples\": [\n          \"No\",\n          \"Yes\"\n        ],\n        \"semantic_type\": \"\",\n        \"description\": \"\"\n      }\n    },\n    {\n      \"column\": \"PaymentMethod\",\n      \"properties\": {\n        \"dtype\": \"category\",\n        \"num_unique_values\": 4,\n        \"samples\": [\n          \"Electronic check\",\n          \"Bank transfer (automatic)\"\n        ],\n        \"semantic_type\": \"\",\n        \"description\": \"\"\n      }\n    },\n    {\n      \"column\": \"MonthlyCharges\",\n      \"properties\": {\n        \"dtype\": \"number\",\n        \"std\": 30.085385692258914,\n        \"min\": 18.25,\n        \"max\": 118.75,\n        \"num_unique_values\": 1585,\n        \"samples\": [\n          64.35,\n          101.4\n        ],\n        \"semantic_type\": \"\",\n        \"description\": \"\"\n      }\n    },\n    {\n      \"column\": \"TotalCharges\",\n      \"properties\": {\n        \"dtype\": \"number\",\n        \"std\": 2266.587659972053,\n        \"min\": 0.0,\n        \"max\": 8684.8,\n        \"num_unique_values\": 6518,\n        \"samples\": [\n          4965.0,\n          4995.35\n        ],\n        \"semantic_type\": \"\",\n        \"description\": \"\"\n      }\n    },\n    {\n      \"column\": \"Churn\",\n      \"properties\": {\n        \"dtype\": \"number\",\n        \"std\": 0,\n        \"min\": 0,\n        \"max\": 1,\n        \"num_unique_values\": 2,\n        \"samples\": [\n          1,\n          0\n        ],\n        \"semantic_type\": \"\",\n        \"description\": \"\"\n      }\n    },\n    {\n      \"column\": \"MultipleLines_No\",\n      \"properties\": {\n        \"dtype\": \"boolean\",\n        \"num_unique_values\": 2,\n        \"samples\": [\n          true,\n          false\n        ],\n        \"semantic_type\": \"\",\n        \"description\": \"\"\n      }\n    },\n    {\n      \"column\": \"MultipleLines_No phone service\",\n      \"properties\": {\n        \"dtype\": \"boolean\",\n        \"num_unique_values\": 2,\n        \"samples\": [\n          true,\n          false\n        ],\n        \"semantic_type\": \"\",\n        \"description\": \"\"\n      }\n    },\n    {\n      \"column\": \"MultipleLines_Yes\",\n      \"properties\": {\n        \"dtype\": \"boolean\",\n        \"num_unique_values\": 2,\n        \"samples\": [\n          false,\n          true\n        ],\n        \"semantic_type\": \"\",\n        \"description\": \"\"\n      }\n    }\n  ]\n}"
            }
          },
          "metadata": {},
          "execution_count": 11
        }
      ],
      "source": [
        "# MultipleLines 컬럼의 값들이 문자열로 되어 있어 숫자로 변환해야 함. 컴퓨터가 이해할수 있도록\n",
        "# Object 컬럼의 데이터를 원-핫-인코딩해서 숫자로 변경해 주는 함수 : Pandas get_dummies()\n",
        "\n",
        "pd.get_dummies(data=df, columns=['MultipleLines'])"
      ]
    },
    {
      "cell_type": "code",
      "execution_count": null,
      "metadata": {
        "colab": {
          "base_uri": "https://localhost:8080/",
          "height": 250
        },
        "id": "2I33ocSP0FUJ",
        "outputId": "b15c9dc6-cbf9-4675-a710-96e5a6f440df"
      },
      "outputs": [
        {
          "output_type": "execute_result",
          "data": {
            "text/plain": [
              "  Partner Dependents MultipleLines InternetService OnlineSecurity  \\\n",
              "0     Yes        Yes           Yes     Fiber optic            Yes   \n",
              "1      No         No           Yes     Fiber optic             No   \n",
              "2      No         No           Yes     Fiber optic             No   \n",
              "\n",
              "  OnlineBackup TechSupport StreamingTV StreamingMovies        Contract  \\\n",
              "0          Yes         Yes         Yes              No        One year   \n",
              "1           No          No          No              No  Month-to-month   \n",
              "2           No          No          No              No  Month-to-month   \n",
              "\n",
              "  PaperlessBilling            PaymentMethod  \n",
              "0              Yes  Credit card (automatic)  \n",
              "1              Yes         Electronic check  \n",
              "2              Yes             Mailed check  "
            ],
            "text/html": [
              "\n",
              "  <div id=\"df-9e6cc490-18db-45b5-b7ae-2559df43dfc1\" class=\"colab-df-container\">\n",
              "    <div>\n",
              "<style scoped>\n",
              "    .dataframe tbody tr th:only-of-type {\n",
              "        vertical-align: middle;\n",
              "    }\n",
              "\n",
              "    .dataframe tbody tr th {\n",
              "        vertical-align: top;\n",
              "    }\n",
              "\n",
              "    .dataframe thead th {\n",
              "        text-align: right;\n",
              "    }\n",
              "</style>\n",
              "<table border=\"1\" class=\"dataframe\">\n",
              "  <thead>\n",
              "    <tr style=\"text-align: right;\">\n",
              "      <th></th>\n",
              "      <th>Partner</th>\n",
              "      <th>Dependents</th>\n",
              "      <th>MultipleLines</th>\n",
              "      <th>InternetService</th>\n",
              "      <th>OnlineSecurity</th>\n",
              "      <th>OnlineBackup</th>\n",
              "      <th>TechSupport</th>\n",
              "      <th>StreamingTV</th>\n",
              "      <th>StreamingMovies</th>\n",
              "      <th>Contract</th>\n",
              "      <th>PaperlessBilling</th>\n",
              "      <th>PaymentMethod</th>\n",
              "    </tr>\n",
              "  </thead>\n",
              "  <tbody>\n",
              "    <tr>\n",
              "      <th>0</th>\n",
              "      <td>Yes</td>\n",
              "      <td>Yes</td>\n",
              "      <td>Yes</td>\n",
              "      <td>Fiber optic</td>\n",
              "      <td>Yes</td>\n",
              "      <td>Yes</td>\n",
              "      <td>Yes</td>\n",
              "      <td>Yes</td>\n",
              "      <td>No</td>\n",
              "      <td>One year</td>\n",
              "      <td>Yes</td>\n",
              "      <td>Credit card (automatic)</td>\n",
              "    </tr>\n",
              "    <tr>\n",
              "      <th>1</th>\n",
              "      <td>No</td>\n",
              "      <td>No</td>\n",
              "      <td>Yes</td>\n",
              "      <td>Fiber optic</td>\n",
              "      <td>No</td>\n",
              "      <td>No</td>\n",
              "      <td>No</td>\n",
              "      <td>No</td>\n",
              "      <td>No</td>\n",
              "      <td>Month-to-month</td>\n",
              "      <td>Yes</td>\n",
              "      <td>Electronic check</td>\n",
              "    </tr>\n",
              "    <tr>\n",
              "      <th>2</th>\n",
              "      <td>No</td>\n",
              "      <td>No</td>\n",
              "      <td>Yes</td>\n",
              "      <td>Fiber optic</td>\n",
              "      <td>No</td>\n",
              "      <td>No</td>\n",
              "      <td>No</td>\n",
              "      <td>No</td>\n",
              "      <td>No</td>\n",
              "      <td>Month-to-month</td>\n",
              "      <td>Yes</td>\n",
              "      <td>Mailed check</td>\n",
              "    </tr>\n",
              "  </tbody>\n",
              "</table>\n",
              "</div>\n",
              "    <div class=\"colab-df-buttons\">\n",
              "\n",
              "  <div class=\"colab-df-container\">\n",
              "    <button class=\"colab-df-convert\" onclick=\"convertToInteractive('df-9e6cc490-18db-45b5-b7ae-2559df43dfc1')\"\n",
              "            title=\"Convert this dataframe to an interactive table.\"\n",
              "            style=\"display:none;\">\n",
              "\n",
              "  <svg xmlns=\"http://www.w3.org/2000/svg\" height=\"24px\" viewBox=\"0 -960 960 960\">\n",
              "    <path d=\"M120-120v-720h720v720H120Zm60-500h600v-160H180v160Zm220 220h160v-160H400v160Zm0 220h160v-160H400v160ZM180-400h160v-160H180v160Zm440 0h160v-160H620v160ZM180-180h160v-160H180v160Zm440 0h160v-160H620v160Z\"/>\n",
              "  </svg>\n",
              "    </button>\n",
              "\n",
              "  <style>\n",
              "    .colab-df-container {\n",
              "      display:flex;\n",
              "      gap: 12px;\n",
              "    }\n",
              "\n",
              "    .colab-df-convert {\n",
              "      background-color: #E8F0FE;\n",
              "      border: none;\n",
              "      border-radius: 50%;\n",
              "      cursor: pointer;\n",
              "      display: none;\n",
              "      fill: #1967D2;\n",
              "      height: 32px;\n",
              "      padding: 0 0 0 0;\n",
              "      width: 32px;\n",
              "    }\n",
              "\n",
              "    .colab-df-convert:hover {\n",
              "      background-color: #E2EBFA;\n",
              "      box-shadow: 0px 1px 2px rgba(60, 64, 67, 0.3), 0px 1px 3px 1px rgba(60, 64, 67, 0.15);\n",
              "      fill: #174EA6;\n",
              "    }\n",
              "\n",
              "    .colab-df-buttons div {\n",
              "      margin-bottom: 4px;\n",
              "    }\n",
              "\n",
              "    [theme=dark] .colab-df-convert {\n",
              "      background-color: #3B4455;\n",
              "      fill: #D2E3FC;\n",
              "    }\n",
              "\n",
              "    [theme=dark] .colab-df-convert:hover {\n",
              "      background-color: #434B5C;\n",
              "      box-shadow: 0px 1px 3px 1px rgba(0, 0, 0, 0.15);\n",
              "      filter: drop-shadow(0px 1px 2px rgba(0, 0, 0, 0.3));\n",
              "      fill: #FFFFFF;\n",
              "    }\n",
              "  </style>\n",
              "\n",
              "    <script>\n",
              "      const buttonEl =\n",
              "        document.querySelector('#df-9e6cc490-18db-45b5-b7ae-2559df43dfc1 button.colab-df-convert');\n",
              "      buttonEl.style.display =\n",
              "        google.colab.kernel.accessAllowed ? 'block' : 'none';\n",
              "\n",
              "      async function convertToInteractive(key) {\n",
              "        const element = document.querySelector('#df-9e6cc490-18db-45b5-b7ae-2559df43dfc1');\n",
              "        const dataTable =\n",
              "          await google.colab.kernel.invokeFunction('convertToInteractive',\n",
              "                                                    [key], {});\n",
              "        if (!dataTable) return;\n",
              "\n",
              "        const docLinkHtml = 'Like what you see? Visit the ' +\n",
              "          '<a target=\"_blank\" href=https://colab.research.google.com/notebooks/data_table.ipynb>data table notebook</a>'\n",
              "          + ' to learn more about interactive tables.';\n",
              "        element.innerHTML = '';\n",
              "        dataTable['output_type'] = 'display_data';\n",
              "        await google.colab.output.renderOutput(dataTable, element);\n",
              "        const docLink = document.createElement('div');\n",
              "        docLink.innerHTML = docLinkHtml;\n",
              "        element.appendChild(docLink);\n",
              "      }\n",
              "    </script>\n",
              "  </div>\n",
              "\n",
              "\n",
              "<div id=\"df-48ce264e-16cf-459a-be7c-96664e396f94\">\n",
              "  <button class=\"colab-df-quickchart\" onclick=\"quickchart('df-48ce264e-16cf-459a-be7c-96664e396f94')\"\n",
              "            title=\"Suggest charts\"\n",
              "            style=\"display:none;\">\n",
              "\n",
              "<svg xmlns=\"http://www.w3.org/2000/svg\" height=\"24px\"viewBox=\"0 0 24 24\"\n",
              "     width=\"24px\">\n",
              "    <g>\n",
              "        <path d=\"M19 3H5c-1.1 0-2 .9-2 2v14c0 1.1.9 2 2 2h14c1.1 0 2-.9 2-2V5c0-1.1-.9-2-2-2zM9 17H7v-7h2v7zm4 0h-2V7h2v10zm4 0h-2v-4h2v4z\"/>\n",
              "    </g>\n",
              "</svg>\n",
              "  </button>\n",
              "\n",
              "<style>\n",
              "  .colab-df-quickchart {\n",
              "      --bg-color: #E8F0FE;\n",
              "      --fill-color: #1967D2;\n",
              "      --hover-bg-color: #E2EBFA;\n",
              "      --hover-fill-color: #174EA6;\n",
              "      --disabled-fill-color: #AAA;\n",
              "      --disabled-bg-color: #DDD;\n",
              "  }\n",
              "\n",
              "  [theme=dark] .colab-df-quickchart {\n",
              "      --bg-color: #3B4455;\n",
              "      --fill-color: #D2E3FC;\n",
              "      --hover-bg-color: #434B5C;\n",
              "      --hover-fill-color: #FFFFFF;\n",
              "      --disabled-bg-color: #3B4455;\n",
              "      --disabled-fill-color: #666;\n",
              "  }\n",
              "\n",
              "  .colab-df-quickchart {\n",
              "    background-color: var(--bg-color);\n",
              "    border: none;\n",
              "    border-radius: 50%;\n",
              "    cursor: pointer;\n",
              "    display: none;\n",
              "    fill: var(--fill-color);\n",
              "    height: 32px;\n",
              "    padding: 0;\n",
              "    width: 32px;\n",
              "  }\n",
              "\n",
              "  .colab-df-quickchart:hover {\n",
              "    background-color: var(--hover-bg-color);\n",
              "    box-shadow: 0 1px 2px rgba(60, 64, 67, 0.3), 0 1px 3px 1px rgba(60, 64, 67, 0.15);\n",
              "    fill: var(--button-hover-fill-color);\n",
              "  }\n",
              "\n",
              "  .colab-df-quickchart-complete:disabled,\n",
              "  .colab-df-quickchart-complete:disabled:hover {\n",
              "    background-color: var(--disabled-bg-color);\n",
              "    fill: var(--disabled-fill-color);\n",
              "    box-shadow: none;\n",
              "  }\n",
              "\n",
              "  .colab-df-spinner {\n",
              "    border: 2px solid var(--fill-color);\n",
              "    border-color: transparent;\n",
              "    border-bottom-color: var(--fill-color);\n",
              "    animation:\n",
              "      spin 1s steps(1) infinite;\n",
              "  }\n",
              "\n",
              "  @keyframes spin {\n",
              "    0% {\n",
              "      border-color: transparent;\n",
              "      border-bottom-color: var(--fill-color);\n",
              "      border-left-color: var(--fill-color);\n",
              "    }\n",
              "    20% {\n",
              "      border-color: transparent;\n",
              "      border-left-color: var(--fill-color);\n",
              "      border-top-color: var(--fill-color);\n",
              "    }\n",
              "    30% {\n",
              "      border-color: transparent;\n",
              "      border-left-color: var(--fill-color);\n",
              "      border-top-color: var(--fill-color);\n",
              "      border-right-color: var(--fill-color);\n",
              "    }\n",
              "    40% {\n",
              "      border-color: transparent;\n",
              "      border-right-color: var(--fill-color);\n",
              "      border-top-color: var(--fill-color);\n",
              "    }\n",
              "    60% {\n",
              "      border-color: transparent;\n",
              "      border-right-color: var(--fill-color);\n",
              "    }\n",
              "    80% {\n",
              "      border-color: transparent;\n",
              "      border-right-color: var(--fill-color);\n",
              "      border-bottom-color: var(--fill-color);\n",
              "    }\n",
              "    90% {\n",
              "      border-color: transparent;\n",
              "      border-bottom-color: var(--fill-color);\n",
              "    }\n",
              "  }\n",
              "</style>\n",
              "\n",
              "  <script>\n",
              "    async function quickchart(key) {\n",
              "      const quickchartButtonEl =\n",
              "        document.querySelector('#' + key + ' button');\n",
              "      quickchartButtonEl.disabled = true;  // To prevent multiple clicks.\n",
              "      quickchartButtonEl.classList.add('colab-df-spinner');\n",
              "      try {\n",
              "        const charts = await google.colab.kernel.invokeFunction(\n",
              "            'suggestCharts', [key], {});\n",
              "      } catch (error) {\n",
              "        console.error('Error during call to suggestCharts:', error);\n",
              "      }\n",
              "      quickchartButtonEl.classList.remove('colab-df-spinner');\n",
              "      quickchartButtonEl.classList.add('colab-df-quickchart-complete');\n",
              "    }\n",
              "    (() => {\n",
              "      let quickchartButtonEl =\n",
              "        document.querySelector('#df-48ce264e-16cf-459a-be7c-96664e396f94 button');\n",
              "      quickchartButtonEl.style.display =\n",
              "        google.colab.kernel.accessAllowed ? 'block' : 'none';\n",
              "    })();\n",
              "  </script>\n",
              "</div>\n",
              "\n",
              "    </div>\n",
              "  </div>\n"
            ],
            "application/vnd.google.colaboratory.intrinsic+json": {
              "type": "dataframe",
              "summary": "{\n  \"name\": \"df\",\n  \"rows\": 3,\n  \"fields\": [\n    {\n      \"column\": \"Partner\",\n      \"properties\": {\n        \"dtype\": \"string\",\n        \"num_unique_values\": 2,\n        \"samples\": [\n          \"No\",\n          \"Yes\"\n        ],\n        \"semantic_type\": \"\",\n        \"description\": \"\"\n      }\n    },\n    {\n      \"column\": \"Dependents\",\n      \"properties\": {\n        \"dtype\": \"string\",\n        \"num_unique_values\": 2,\n        \"samples\": [\n          \"No\",\n          \"Yes\"\n        ],\n        \"semantic_type\": \"\",\n        \"description\": \"\"\n      }\n    },\n    {\n      \"column\": \"MultipleLines\",\n      \"properties\": {\n        \"dtype\": \"category\",\n        \"num_unique_values\": 1,\n        \"samples\": [\n          \"Yes\"\n        ],\n        \"semantic_type\": \"\",\n        \"description\": \"\"\n      }\n    },\n    {\n      \"column\": \"InternetService\",\n      \"properties\": {\n        \"dtype\": \"category\",\n        \"num_unique_values\": 1,\n        \"samples\": [\n          \"Fiber optic\"\n        ],\n        \"semantic_type\": \"\",\n        \"description\": \"\"\n      }\n    },\n    {\n      \"column\": \"OnlineSecurity\",\n      \"properties\": {\n        \"dtype\": \"string\",\n        \"num_unique_values\": 2,\n        \"samples\": [\n          \"No\"\n        ],\n        \"semantic_type\": \"\",\n        \"description\": \"\"\n      }\n    },\n    {\n      \"column\": \"OnlineBackup\",\n      \"properties\": {\n        \"dtype\": \"string\",\n        \"num_unique_values\": 2,\n        \"samples\": [\n          \"No\"\n        ],\n        \"semantic_type\": \"\",\n        \"description\": \"\"\n      }\n    },\n    {\n      \"column\": \"TechSupport\",\n      \"properties\": {\n        \"dtype\": \"string\",\n        \"num_unique_values\": 2,\n        \"samples\": [\n          \"No\"\n        ],\n        \"semantic_type\": \"\",\n        \"description\": \"\"\n      }\n    },\n    {\n      \"column\": \"StreamingTV\",\n      \"properties\": {\n        \"dtype\": \"string\",\n        \"num_unique_values\": 2,\n        \"samples\": [\n          \"No\"\n        ],\n        \"semantic_type\": \"\",\n        \"description\": \"\"\n      }\n    },\n    {\n      \"column\": \"StreamingMovies\",\n      \"properties\": {\n        \"dtype\": \"category\",\n        \"num_unique_values\": 1,\n        \"samples\": [\n          \"No\"\n        ],\n        \"semantic_type\": \"\",\n        \"description\": \"\"\n      }\n    },\n    {\n      \"column\": \"Contract\",\n      \"properties\": {\n        \"dtype\": \"string\",\n        \"num_unique_values\": 2,\n        \"samples\": [\n          \"Month-to-month\"\n        ],\n        \"semantic_type\": \"\",\n        \"description\": \"\"\n      }\n    },\n    {\n      \"column\": \"PaperlessBilling\",\n      \"properties\": {\n        \"dtype\": \"category\",\n        \"num_unique_values\": 1,\n        \"samples\": [\n          \"Yes\"\n        ],\n        \"semantic_type\": \"\",\n        \"description\": \"\"\n      }\n    },\n    {\n      \"column\": \"PaymentMethod\",\n      \"properties\": {\n        \"dtype\": \"string\",\n        \"num_unique_values\": 3,\n        \"samples\": [\n          \"Credit card (automatic)\"\n        ],\n        \"semantic_type\": \"\",\n        \"description\": \"\"\n      }\n    }\n  ]\n}"
            }
          },
          "metadata": {},
          "execution_count": 12
        }
      ],
      "source": [
        "# Object 컬럼 확인\n",
        "df.select_dtypes('object').head(3)"
      ]
    },
    {
      "cell_type": "code",
      "execution_count": null,
      "metadata": {
        "colab": {
          "base_uri": "https://localhost:8080/"
        },
        "id": "fRuWYDVt0FUJ",
        "outputId": "9ae0c050-a826-463b-d505-4541b5c275cf"
      },
      "outputs": [
        {
          "output_type": "execute_result",
          "data": {
            "text/plain": [
              "array(['Partner', 'Dependents', 'MultipleLines', 'InternetService',\n",
              "       'OnlineSecurity', 'OnlineBackup', 'TechSupport', 'StreamingTV',\n",
              "       'StreamingMovies', 'Contract', 'PaperlessBilling', 'PaymentMethod'],\n",
              "      dtype=object)"
            ]
          },
          "metadata": {},
          "execution_count": 13
        }
      ],
      "source": [
        "# Object 컬럼명 수집\n",
        "\n",
        "cal_cols = df.select_dtypes('object').columns.values\n",
        "cal_cols"
      ]
    },
    {
      "cell_type": "markdown",
      "metadata": {
        "id": "J4ZK1acm0FUK"
      },
      "source": [
        "##### <font color=blue> **[문제] Object 컬럼에 대해 One-Hot-Encoding 수행하고 그 결과를 df1 변수에 저장하세요.** </font>"
      ]
    },
    {
      "cell_type": "code",
      "execution_count": null,
      "metadata": {
        "id": "nrO_PFhQ0FUK"
      },
      "outputs": [],
      "source": [
        "# Pandas get_dummies() 함수 이용\n",
        "# 원-핫-인코딩 결과를 df1 저장\n",
        "\n",
        "\n",
        "df1 = pd.get_dummies(data=df, columns=cal_cols)"
      ]
    },
    {
      "cell_type": "code",
      "execution_count": null,
      "metadata": {
        "colab": {
          "base_uri": "https://localhost:8080/"
        },
        "id": "LKHLRV220FUK",
        "outputId": "d5f87040-e0ef-447b-9b70-d1e24c78ab26"
      },
      "outputs": [
        {
          "output_type": "stream",
          "name": "stdout",
          "text": [
            "<class 'pandas.core.frame.DataFrame'>\n",
            "RangeIndex: 7028 entries, 0 to 7027\n",
            "Data columns (total 39 columns):\n",
            " #   Column                                   Non-Null Count  Dtype  \n",
            "---  ------                                   --------------  -----  \n",
            " 0   gender                                   7028 non-null   int64  \n",
            " 1   tenure                                   7028 non-null   int64  \n",
            " 2   MonthlyCharges                           7028 non-null   float64\n",
            " 3   TotalCharges                             7028 non-null   float64\n",
            " 4   Churn                                    7028 non-null   int64  \n",
            " 5   Partner_No                               7028 non-null   bool   \n",
            " 6   Partner_Yes                              7028 non-null   bool   \n",
            " 7   Dependents_No                            7028 non-null   bool   \n",
            " 8   Dependents_Yes                           7028 non-null   bool   \n",
            " 9   MultipleLines_No                         7028 non-null   bool   \n",
            " 10  MultipleLines_No phone service           7028 non-null   bool   \n",
            " 11  MultipleLines_Yes                        7028 non-null   bool   \n",
            " 12  InternetService_DSL                      7028 non-null   bool   \n",
            " 13  InternetService_Fiber optic              7028 non-null   bool   \n",
            " 14  InternetService_No                       7028 non-null   bool   \n",
            " 15  OnlineSecurity_No                        7028 non-null   bool   \n",
            " 16  OnlineSecurity_No internet service       7028 non-null   bool   \n",
            " 17  OnlineSecurity_Yes                       7028 non-null   bool   \n",
            " 18  OnlineBackup_No                          7028 non-null   bool   \n",
            " 19  OnlineBackup_No internet service         7028 non-null   bool   \n",
            " 20  OnlineBackup_Yes                         7028 non-null   bool   \n",
            " 21  TechSupport_No                           7028 non-null   bool   \n",
            " 22  TechSupport_No internet service          7028 non-null   bool   \n",
            " 23  TechSupport_Yes                          7028 non-null   bool   \n",
            " 24  StreamingTV_No                           7028 non-null   bool   \n",
            " 25  StreamingTV_No internet service          7028 non-null   bool   \n",
            " 26  StreamingTV_Yes                          7028 non-null   bool   \n",
            " 27  StreamingMovies_No                       7028 non-null   bool   \n",
            " 28  StreamingMovies_No internet service      7028 non-null   bool   \n",
            " 29  StreamingMovies_Yes                      7028 non-null   bool   \n",
            " 30  Contract_Month-to-month                  7028 non-null   bool   \n",
            " 31  Contract_One year                        7028 non-null   bool   \n",
            " 32  Contract_Two year                        7028 non-null   bool   \n",
            " 33  PaperlessBilling_No                      7028 non-null   bool   \n",
            " 34  PaperlessBilling_Yes                     7028 non-null   bool   \n",
            " 35  PaymentMethod_Bank transfer (automatic)  7028 non-null   bool   \n",
            " 36  PaymentMethod_Credit card (automatic)    7028 non-null   bool   \n",
            " 37  PaymentMethod_Electronic check           7028 non-null   bool   \n",
            " 38  PaymentMethod_Mailed check               7028 non-null   bool   \n",
            "dtypes: bool(34), float64(2), int64(3)\n",
            "memory usage: 508.0 KB\n"
          ]
        }
      ],
      "source": [
        "# 모든 컬럼 데이터가 숫자되어 있음을 확인\n",
        "# 40컬럼, 7,027 라인\n",
        "\n",
        "df1.info()"
      ]
    },
    {
      "cell_type": "code",
      "execution_count": null,
      "metadata": {
        "colab": {
          "base_uri": "https://localhost:8080/",
          "height": 227
        },
        "id": "jQV1XuM50FUL",
        "outputId": "3eefcd12-3e38-414d-9c89-501b7edf2371"
      },
      "outputs": [
        {
          "output_type": "execute_result",
          "data": {
            "text/plain": [
              "   gender  tenure  MonthlyCharges  TotalCharges  Churn  Partner_No  \\\n",
              "0       0      69          105.10       7234.80      0       False   \n",
              "1       1       3           76.95        228.40      1        True   \n",
              "2       1      67           75.70       5060.85      0        True   \n",
              "\n",
              "   Partner_Yes  Dependents_No  Dependents_Yes  MultipleLines_No  ...  \\\n",
              "0         True          False            True             False  ...   \n",
              "1        False           True           False             False  ...   \n",
              "2        False           True           False             False  ...   \n",
              "\n",
              "   StreamingMovies_Yes  Contract_Month-to-month  Contract_One year  \\\n",
              "0                False                    False               True   \n",
              "1                False                     True              False   \n",
              "2                False                     True              False   \n",
              "\n",
              "   Contract_Two year  PaperlessBilling_No  PaperlessBilling_Yes  \\\n",
              "0              False                False                  True   \n",
              "1              False                False                  True   \n",
              "2              False                False                  True   \n",
              "\n",
              "   PaymentMethod_Bank transfer (automatic)  \\\n",
              "0                                    False   \n",
              "1                                    False   \n",
              "2                                    False   \n",
              "\n",
              "   PaymentMethod_Credit card (automatic)  PaymentMethod_Electronic check  \\\n",
              "0                                   True                           False   \n",
              "1                                  False                            True   \n",
              "2                                  False                           False   \n",
              "\n",
              "   PaymentMethod_Mailed check  \n",
              "0                       False  \n",
              "1                       False  \n",
              "2                        True  \n",
              "\n",
              "[3 rows x 39 columns]"
            ],
            "text/html": [
              "\n",
              "  <div id=\"df-8058c12c-3313-45b5-a0ef-91240198c083\" class=\"colab-df-container\">\n",
              "    <div>\n",
              "<style scoped>\n",
              "    .dataframe tbody tr th:only-of-type {\n",
              "        vertical-align: middle;\n",
              "    }\n",
              "\n",
              "    .dataframe tbody tr th {\n",
              "        vertical-align: top;\n",
              "    }\n",
              "\n",
              "    .dataframe thead th {\n",
              "        text-align: right;\n",
              "    }\n",
              "</style>\n",
              "<table border=\"1\" class=\"dataframe\">\n",
              "  <thead>\n",
              "    <tr style=\"text-align: right;\">\n",
              "      <th></th>\n",
              "      <th>gender</th>\n",
              "      <th>tenure</th>\n",
              "      <th>MonthlyCharges</th>\n",
              "      <th>TotalCharges</th>\n",
              "      <th>Churn</th>\n",
              "      <th>Partner_No</th>\n",
              "      <th>Partner_Yes</th>\n",
              "      <th>Dependents_No</th>\n",
              "      <th>Dependents_Yes</th>\n",
              "      <th>MultipleLines_No</th>\n",
              "      <th>...</th>\n",
              "      <th>StreamingMovies_Yes</th>\n",
              "      <th>Contract_Month-to-month</th>\n",
              "      <th>Contract_One year</th>\n",
              "      <th>Contract_Two year</th>\n",
              "      <th>PaperlessBilling_No</th>\n",
              "      <th>PaperlessBilling_Yes</th>\n",
              "      <th>PaymentMethod_Bank transfer (automatic)</th>\n",
              "      <th>PaymentMethod_Credit card (automatic)</th>\n",
              "      <th>PaymentMethod_Electronic check</th>\n",
              "      <th>PaymentMethod_Mailed check</th>\n",
              "    </tr>\n",
              "  </thead>\n",
              "  <tbody>\n",
              "    <tr>\n",
              "      <th>0</th>\n",
              "      <td>0</td>\n",
              "      <td>69</td>\n",
              "      <td>105.10</td>\n",
              "      <td>7234.80</td>\n",
              "      <td>0</td>\n",
              "      <td>False</td>\n",
              "      <td>True</td>\n",
              "      <td>False</td>\n",
              "      <td>True</td>\n",
              "      <td>False</td>\n",
              "      <td>...</td>\n",
              "      <td>False</td>\n",
              "      <td>False</td>\n",
              "      <td>True</td>\n",
              "      <td>False</td>\n",
              "      <td>False</td>\n",
              "      <td>True</td>\n",
              "      <td>False</td>\n",
              "      <td>True</td>\n",
              "      <td>False</td>\n",
              "      <td>False</td>\n",
              "    </tr>\n",
              "    <tr>\n",
              "      <th>1</th>\n",
              "      <td>1</td>\n",
              "      <td>3</td>\n",
              "      <td>76.95</td>\n",
              "      <td>228.40</td>\n",
              "      <td>1</td>\n",
              "      <td>True</td>\n",
              "      <td>False</td>\n",
              "      <td>True</td>\n",
              "      <td>False</td>\n",
              "      <td>False</td>\n",
              "      <td>...</td>\n",
              "      <td>False</td>\n",
              "      <td>True</td>\n",
              "      <td>False</td>\n",
              "      <td>False</td>\n",
              "      <td>False</td>\n",
              "      <td>True</td>\n",
              "      <td>False</td>\n",
              "      <td>False</td>\n",
              "      <td>True</td>\n",
              "      <td>False</td>\n",
              "    </tr>\n",
              "    <tr>\n",
              "      <th>2</th>\n",
              "      <td>1</td>\n",
              "      <td>67</td>\n",
              "      <td>75.70</td>\n",
              "      <td>5060.85</td>\n",
              "      <td>0</td>\n",
              "      <td>True</td>\n",
              "      <td>False</td>\n",
              "      <td>True</td>\n",
              "      <td>False</td>\n",
              "      <td>False</td>\n",
              "      <td>...</td>\n",
              "      <td>False</td>\n",
              "      <td>True</td>\n",
              "      <td>False</td>\n",
              "      <td>False</td>\n",
              "      <td>False</td>\n",
              "      <td>True</td>\n",
              "      <td>False</td>\n",
              "      <td>False</td>\n",
              "      <td>False</td>\n",
              "      <td>True</td>\n",
              "    </tr>\n",
              "  </tbody>\n",
              "</table>\n",
              "<p>3 rows × 39 columns</p>\n",
              "</div>\n",
              "    <div class=\"colab-df-buttons\">\n",
              "\n",
              "  <div class=\"colab-df-container\">\n",
              "    <button class=\"colab-df-convert\" onclick=\"convertToInteractive('df-8058c12c-3313-45b5-a0ef-91240198c083')\"\n",
              "            title=\"Convert this dataframe to an interactive table.\"\n",
              "            style=\"display:none;\">\n",
              "\n",
              "  <svg xmlns=\"http://www.w3.org/2000/svg\" height=\"24px\" viewBox=\"0 -960 960 960\">\n",
              "    <path d=\"M120-120v-720h720v720H120Zm60-500h600v-160H180v160Zm220 220h160v-160H400v160Zm0 220h160v-160H400v160ZM180-400h160v-160H180v160Zm440 0h160v-160H620v160ZM180-180h160v-160H180v160Zm440 0h160v-160H620v160Z\"/>\n",
              "  </svg>\n",
              "    </button>\n",
              "\n",
              "  <style>\n",
              "    .colab-df-container {\n",
              "      display:flex;\n",
              "      gap: 12px;\n",
              "    }\n",
              "\n",
              "    .colab-df-convert {\n",
              "      background-color: #E8F0FE;\n",
              "      border: none;\n",
              "      border-radius: 50%;\n",
              "      cursor: pointer;\n",
              "      display: none;\n",
              "      fill: #1967D2;\n",
              "      height: 32px;\n",
              "      padding: 0 0 0 0;\n",
              "      width: 32px;\n",
              "    }\n",
              "\n",
              "    .colab-df-convert:hover {\n",
              "      background-color: #E2EBFA;\n",
              "      box-shadow: 0px 1px 2px rgba(60, 64, 67, 0.3), 0px 1px 3px 1px rgba(60, 64, 67, 0.15);\n",
              "      fill: #174EA6;\n",
              "    }\n",
              "\n",
              "    .colab-df-buttons div {\n",
              "      margin-bottom: 4px;\n",
              "    }\n",
              "\n",
              "    [theme=dark] .colab-df-convert {\n",
              "      background-color: #3B4455;\n",
              "      fill: #D2E3FC;\n",
              "    }\n",
              "\n",
              "    [theme=dark] .colab-df-convert:hover {\n",
              "      background-color: #434B5C;\n",
              "      box-shadow: 0px 1px 3px 1px rgba(0, 0, 0, 0.15);\n",
              "      filter: drop-shadow(0px 1px 2px rgba(0, 0, 0, 0.3));\n",
              "      fill: #FFFFFF;\n",
              "    }\n",
              "  </style>\n",
              "\n",
              "    <script>\n",
              "      const buttonEl =\n",
              "        document.querySelector('#df-8058c12c-3313-45b5-a0ef-91240198c083 button.colab-df-convert');\n",
              "      buttonEl.style.display =\n",
              "        google.colab.kernel.accessAllowed ? 'block' : 'none';\n",
              "\n",
              "      async function convertToInteractive(key) {\n",
              "        const element = document.querySelector('#df-8058c12c-3313-45b5-a0ef-91240198c083');\n",
              "        const dataTable =\n",
              "          await google.colab.kernel.invokeFunction('convertToInteractive',\n",
              "                                                    [key], {});\n",
              "        if (!dataTable) return;\n",
              "\n",
              "        const docLinkHtml = 'Like what you see? Visit the ' +\n",
              "          '<a target=\"_blank\" href=https://colab.research.google.com/notebooks/data_table.ipynb>data table notebook</a>'\n",
              "          + ' to learn more about interactive tables.';\n",
              "        element.innerHTML = '';\n",
              "        dataTable['output_type'] = 'display_data';\n",
              "        await google.colab.output.renderOutput(dataTable, element);\n",
              "        const docLink = document.createElement('div');\n",
              "        docLink.innerHTML = docLinkHtml;\n",
              "        element.appendChild(docLink);\n",
              "      }\n",
              "    </script>\n",
              "  </div>\n",
              "\n",
              "\n",
              "<div id=\"df-76a01b79-e28b-4c9d-9457-f073d61a8da4\">\n",
              "  <button class=\"colab-df-quickchart\" onclick=\"quickchart('df-76a01b79-e28b-4c9d-9457-f073d61a8da4')\"\n",
              "            title=\"Suggest charts\"\n",
              "            style=\"display:none;\">\n",
              "\n",
              "<svg xmlns=\"http://www.w3.org/2000/svg\" height=\"24px\"viewBox=\"0 0 24 24\"\n",
              "     width=\"24px\">\n",
              "    <g>\n",
              "        <path d=\"M19 3H5c-1.1 0-2 .9-2 2v14c0 1.1.9 2 2 2h14c1.1 0 2-.9 2-2V5c0-1.1-.9-2-2-2zM9 17H7v-7h2v7zm4 0h-2V7h2v10zm4 0h-2v-4h2v4z\"/>\n",
              "    </g>\n",
              "</svg>\n",
              "  </button>\n",
              "\n",
              "<style>\n",
              "  .colab-df-quickchart {\n",
              "      --bg-color: #E8F0FE;\n",
              "      --fill-color: #1967D2;\n",
              "      --hover-bg-color: #E2EBFA;\n",
              "      --hover-fill-color: #174EA6;\n",
              "      --disabled-fill-color: #AAA;\n",
              "      --disabled-bg-color: #DDD;\n",
              "  }\n",
              "\n",
              "  [theme=dark] .colab-df-quickchart {\n",
              "      --bg-color: #3B4455;\n",
              "      --fill-color: #D2E3FC;\n",
              "      --hover-bg-color: #434B5C;\n",
              "      --hover-fill-color: #FFFFFF;\n",
              "      --disabled-bg-color: #3B4455;\n",
              "      --disabled-fill-color: #666;\n",
              "  }\n",
              "\n",
              "  .colab-df-quickchart {\n",
              "    background-color: var(--bg-color);\n",
              "    border: none;\n",
              "    border-radius: 50%;\n",
              "    cursor: pointer;\n",
              "    display: none;\n",
              "    fill: var(--fill-color);\n",
              "    height: 32px;\n",
              "    padding: 0;\n",
              "    width: 32px;\n",
              "  }\n",
              "\n",
              "  .colab-df-quickchart:hover {\n",
              "    background-color: var(--hover-bg-color);\n",
              "    box-shadow: 0 1px 2px rgba(60, 64, 67, 0.3), 0 1px 3px 1px rgba(60, 64, 67, 0.15);\n",
              "    fill: var(--button-hover-fill-color);\n",
              "  }\n",
              "\n",
              "  .colab-df-quickchart-complete:disabled,\n",
              "  .colab-df-quickchart-complete:disabled:hover {\n",
              "    background-color: var(--disabled-bg-color);\n",
              "    fill: var(--disabled-fill-color);\n",
              "    box-shadow: none;\n",
              "  }\n",
              "\n",
              "  .colab-df-spinner {\n",
              "    border: 2px solid var(--fill-color);\n",
              "    border-color: transparent;\n",
              "    border-bottom-color: var(--fill-color);\n",
              "    animation:\n",
              "      spin 1s steps(1) infinite;\n",
              "  }\n",
              "\n",
              "  @keyframes spin {\n",
              "    0% {\n",
              "      border-color: transparent;\n",
              "      border-bottom-color: var(--fill-color);\n",
              "      border-left-color: var(--fill-color);\n",
              "    }\n",
              "    20% {\n",
              "      border-color: transparent;\n",
              "      border-left-color: var(--fill-color);\n",
              "      border-top-color: var(--fill-color);\n",
              "    }\n",
              "    30% {\n",
              "      border-color: transparent;\n",
              "      border-left-color: var(--fill-color);\n",
              "      border-top-color: var(--fill-color);\n",
              "      border-right-color: var(--fill-color);\n",
              "    }\n",
              "    40% {\n",
              "      border-color: transparent;\n",
              "      border-right-color: var(--fill-color);\n",
              "      border-top-color: var(--fill-color);\n",
              "    }\n",
              "    60% {\n",
              "      border-color: transparent;\n",
              "      border-right-color: var(--fill-color);\n",
              "    }\n",
              "    80% {\n",
              "      border-color: transparent;\n",
              "      border-right-color: var(--fill-color);\n",
              "      border-bottom-color: var(--fill-color);\n",
              "    }\n",
              "    90% {\n",
              "      border-color: transparent;\n",
              "      border-bottom-color: var(--fill-color);\n",
              "    }\n",
              "  }\n",
              "</style>\n",
              "\n",
              "  <script>\n",
              "    async function quickchart(key) {\n",
              "      const quickchartButtonEl =\n",
              "        document.querySelector('#' + key + ' button');\n",
              "      quickchartButtonEl.disabled = true;  // To prevent multiple clicks.\n",
              "      quickchartButtonEl.classList.add('colab-df-spinner');\n",
              "      try {\n",
              "        const charts = await google.colab.kernel.invokeFunction(\n",
              "            'suggestCharts', [key], {});\n",
              "      } catch (error) {\n",
              "        console.error('Error during call to suggestCharts:', error);\n",
              "      }\n",
              "      quickchartButtonEl.classList.remove('colab-df-spinner');\n",
              "      quickchartButtonEl.classList.add('colab-df-quickchart-complete');\n",
              "    }\n",
              "    (() => {\n",
              "      let quickchartButtonEl =\n",
              "        document.querySelector('#df-76a01b79-e28b-4c9d-9457-f073d61a8da4 button');\n",
              "      quickchartButtonEl.style.display =\n",
              "        google.colab.kernel.accessAllowed ? 'block' : 'none';\n",
              "    })();\n",
              "  </script>\n",
              "</div>\n",
              "\n",
              "    </div>\n",
              "  </div>\n"
            ],
            "application/vnd.google.colaboratory.intrinsic+json": {
              "type": "dataframe",
              "variable_name": "df1"
            }
          },
          "metadata": {},
          "execution_count": 16
        }
      ],
      "source": [
        "df1.head(3)"
      ]
    },
    {
      "cell_type": "markdown",
      "metadata": {
        "id": "S_vS5S6s0FUL"
      },
      "source": [
        "## ⑤ Train, Test  데이터셋 분할"
      ]
    },
    {
      "cell_type": "markdown",
      "metadata": {
        "id": "6-OtRis00FUL"
      },
      "source": [
        "#### 입력(X)과 레이블(y) 나누기"
      ]
    },
    {
      "cell_type": "markdown",
      "metadata": {
        "id": "E3uUWsZA0FUM"
      },
      "source": [
        "##### <font color=blue> **[문제] df1 DataFrame에서 'Churn' 컬럼을 제외한 나머지 정보를 X에 저장하세요.** </font>"
      ]
    },
    {
      "cell_type": "code",
      "execution_count": null,
      "metadata": {
        "id": "sOUAhknI0FUM"
      },
      "outputs": [],
      "source": [
        "# DataFrame drop 함수 활용\n",
        "# df1 데이터프레임에서 'Churn' 컬럼 삭제\n",
        "\n",
        "\n",
        "\n",
        "X = df1.drop('Churn', axis=1)"
      ]
    },
    {
      "cell_type": "markdown",
      "metadata": {
        "id": "ZaSeXul50FUM"
      },
      "source": [
        "##### <font color=blue> **[문제] df DataFrame에서 'Churn' 컬럼을 y로 저장하세요.** </font>"
      ]
    },
    {
      "cell_type": "code",
      "execution_count": null,
      "metadata": {
        "id": "VHOezJtl0FUM"
      },
      "outputs": [],
      "source": [
        "# DataFrame 'Churn' 컬럼 사용하여 y에 저장\n",
        "\n",
        "\n",
        "\n",
        "y = df1['Churn']"
      ]
    },
    {
      "cell_type": "code",
      "execution_count": null,
      "metadata": {
        "colab": {
          "base_uri": "https://localhost:8080/"
        },
        "id": "YjmW-mzK0FUM",
        "outputId": "bfcd5f20-01af-46bc-9eb5-71773dace5cd"
      },
      "outputs": [
        {
          "output_type": "execute_result",
          "data": {
            "text/plain": [
              "((7028, 38), (7028,))"
            ]
          },
          "metadata": {},
          "execution_count": 19
        }
      ],
      "source": [
        "X.shape, y.shape"
      ]
    },
    {
      "cell_type": "markdown",
      "source": [
        "#### **PCA (Principle Component Analysis) : 주성분 분석**\n",
        "\n",
        "- PCA는 데이터의 상관관계를 이용하고 최대한 특징을 유지하면서 차원을 줄이는 분석 기법이다.\n",
        "- 핵심 원리는 데이터의 분산을 최대화하는 주성분을 찾는 것이다."
      ],
      "metadata": {
        "id": "QV8Zb_jWaXqH"
      }
    },
    {
      "cell_type": "markdown",
      "source": [
        "##### <font color=blue> **[문제] X 데이터에 대해 PCA 분석해서 몇개의 주성분으로 80% 이상 설명할수 있는지 확인하세요.** </font>"
      ],
      "metadata": {
        "id": "r_P1DSN2f3S5"
      }
    },
    {
      "cell_type": "code",
      "source": [
        "# PCA 임포트 및 PCA 수행\n",
        "# PCA 정의시 주성분갯수 n_components=38 주어, 38개의 주성분을 만들게 하며\n",
        "# 몇개의 주성분으로도 X데이터의 분산 80% 이상을 설명할수 있는지 확인해 보자.\n",
        "\n",
        "from sklearn.decomposition import PCA\n",
        "\n",
        "pca = PCA(n_components=38)\n",
        "pca_components = pca.fit_transform( X )"
      ],
      "metadata": {
        "id": "I0yczVa6afDJ"
      },
      "execution_count": null,
      "outputs": []
    },
    {
      "cell_type": "code",
      "source": [
        "# PCA의 explained_variance_ratio_ (설명된 분산 비율) 확인\n",
        "# 첫번째 주성분만으로도 X 데이터의 99% 분산을 설명할수 있다!! (타겟변수가 심각한 불균형인지 확인 필요)\n",
        "\n",
        "pca.explained_variance_ratio_"
      ],
      "metadata": {
        "id": "h0f7C6tcae__",
        "colab": {
          "base_uri": "https://localhost:8080/"
        },
        "outputId": "c585a3b5-4b99-4a8e-9b60-ed6bfe5f1114"
      },
      "execution_count": null,
      "outputs": [
        {
          "output_type": "execute_result",
          "data": {
            "text/plain": [
              "array([9.99859985e-01, 1.22231226e-04, 1.67156921e-05, 1.80066971e-07,\n",
              "       1.21533353e-07, 9.84273735e-08, 7.93099298e-08, 6.84603163e-08,\n",
              "       6.44556139e-08, 5.86494138e-08, 5.02426430e-08, 4.86659253e-08,\n",
              "       4.55306232e-08, 4.45002354e-08, 4.29402692e-08, 4.27224462e-08,\n",
              "       4.13658004e-08, 3.51385065e-08, 2.55586308e-08, 1.93522876e-08,\n",
              "       7.88689911e-10, 6.95742279e-33, 6.95742279e-33, 6.95742279e-33,\n",
              "       6.95742279e-33, 6.95742279e-33, 6.95742279e-33, 6.95742279e-33,\n",
              "       6.95742279e-33, 6.95742279e-33, 6.95742279e-33, 6.95742279e-33,\n",
              "       6.95742279e-33, 6.95742279e-33, 6.95742279e-33, 6.95742279e-33,\n",
              "       6.95742279e-33, 6.95742221e-33])"
            ]
          },
          "metadata": {},
          "execution_count": 21
        }
      ]
    },
    {
      "cell_type": "markdown",
      "metadata": {
        "id": "rfmrbAUZ0FUN"
      },
      "source": [
        "#### Train , Test dataset 나누기"
      ]
    },
    {
      "cell_type": "code",
      "execution_count": null,
      "metadata": {
        "id": "IzvqcVmx0FUN"
      },
      "outputs": [],
      "source": [
        "from sklearn.model_selection import train_test_split"
      ]
    },
    {
      "cell_type": "markdown",
      "metadata": {
        "id": "5-pMRPi50FUN"
      },
      "source": [
        "##### <font color=blue> **[문제] Train dataset, Test dataset 나누세요.** </font>"
      ]
    },
    {
      "cell_type": "code",
      "execution_count": null,
      "metadata": {
        "id": "J9Tpju4m0FUN"
      },
      "outputs": [],
      "source": [
        "# Train dataset, Test dataset 나누기 : train_test_split 함수 사용\n",
        "# 입력 : X, y\n",
        "# Train : Test 비율 = 7: 3  --> test_size=0.3\n",
        "# y Class 비율에 맞게 나누기 : stratify=y\n",
        "# 여러번 수행해도 같은 결과 나오게 고정하기 : random_state=42\n",
        "# 결과 : X_train, X_test, y_train, y_test\n",
        "\n",
        "\n",
        "X_train, X_test, y_train, y_test = train_test_split(X, y,\n",
        "                                                    test_size=0.3,\n",
        "                                                    stratify=y,\n",
        "                                                    random_state=42)"
      ]
    },
    {
      "cell_type": "code",
      "execution_count": null,
      "metadata": {
        "colab": {
          "base_uri": "https://localhost:8080/"
        },
        "id": "8ylQ-3700FUO",
        "outputId": "7b8e9431-f75d-411a-bfb8-1ca2d8ff1dc1"
      },
      "outputs": [
        {
          "output_type": "execute_result",
          "data": {
            "text/plain": [
              "(4919, 38)"
            ]
          },
          "metadata": {},
          "execution_count": 24
        }
      ],
      "source": [
        "X_train.shape"
      ]
    },
    {
      "cell_type": "code",
      "execution_count": null,
      "metadata": {
        "colab": {
          "base_uri": "https://localhost:8080/"
        },
        "id": "rg0_4PEk0FUO",
        "outputId": "4cfec847-a941-418a-ca34-5f0ac730b574"
      },
      "outputs": [
        {
          "output_type": "execute_result",
          "data": {
            "text/plain": [
              "(4919,)"
            ]
          },
          "metadata": {},
          "execution_count": 25
        }
      ],
      "source": [
        "y_train.shape"
      ]
    },
    {
      "cell_type": "markdown",
      "metadata": {
        "id": "6dcPNr_E0FUO"
      },
      "source": [
        "## ⑥ 데이터 정규화/스케일링(Normalizing/Scaling)"
      ]
    },
    {
      "cell_type": "code",
      "execution_count": null,
      "metadata": {
        "colab": {
          "base_uri": "https://localhost:8080/",
          "height": 290
        },
        "id": "mHLW-CRf0FUP",
        "outputId": "fc0f5a98-d9ef-4fbe-c12f-ba3645523775"
      },
      "outputs": [
        {
          "output_type": "execute_result",
          "data": {
            "text/plain": [
              "      gender  tenure  MonthlyCharges  TotalCharges  Churn  Partner_No  \\\n",
              "7023       0       4           82.85        319.60      0        True   \n",
              "7024       1      25           25.50        630.60      0       False   \n",
              "7025       1       3           55.80        154.55      0       False   \n",
              "7026       1       4           61.45        229.55      1       False   \n",
              "7027       0       6           50.80        288.05      1        True   \n",
              "\n",
              "      Partner_Yes  Dependents_No  Dependents_Yes  MultipleLines_No  ...  \\\n",
              "7023        False           True           False              True  ...   \n",
              "7024         True          False            True             False  ...   \n",
              "7025         True           True           False              True  ...   \n",
              "7026         True          False            True              True  ...   \n",
              "7027        False           True           False              True  ...   \n",
              "\n",
              "      StreamingMovies_Yes  Contract_Month-to-month  Contract_One year  \\\n",
              "7023                 True                     True              False   \n",
              "7024                False                    False              False   \n",
              "7025                False                     True              False   \n",
              "7026                 True                     True              False   \n",
              "7027                False                     True              False   \n",
              "\n",
              "      Contract_Two year  PaperlessBilling_No  PaperlessBilling_Yes  \\\n",
              "7023              False                False                  True   \n",
              "7024               True                 True                 False   \n",
              "7025              False                False                  True   \n",
              "7026              False                 True                 False   \n",
              "7027              False                False                  True   \n",
              "\n",
              "      PaymentMethod_Bank transfer (automatic)  \\\n",
              "7023                                    False   \n",
              "7024                                    False   \n",
              "7025                                    False   \n",
              "7026                                    False   \n",
              "7027                                     True   \n",
              "\n",
              "      PaymentMethod_Credit card (automatic)  PaymentMethod_Electronic check  \\\n",
              "7023                                   True                           False   \n",
              "7024                                   True                           False   \n",
              "7025                                  False                           False   \n",
              "7026                                   True                           False   \n",
              "7027                                  False                           False   \n",
              "\n",
              "      PaymentMethod_Mailed check  \n",
              "7023                       False  \n",
              "7024                       False  \n",
              "7025                        True  \n",
              "7026                       False  \n",
              "7027                       False  \n",
              "\n",
              "[5 rows x 39 columns]"
            ],
            "text/html": [
              "\n",
              "  <div id=\"df-e3c97ee3-f680-4f6d-9915-61ee9d60545c\" class=\"colab-df-container\">\n",
              "    <div>\n",
              "<style scoped>\n",
              "    .dataframe tbody tr th:only-of-type {\n",
              "        vertical-align: middle;\n",
              "    }\n",
              "\n",
              "    .dataframe tbody tr th {\n",
              "        vertical-align: top;\n",
              "    }\n",
              "\n",
              "    .dataframe thead th {\n",
              "        text-align: right;\n",
              "    }\n",
              "</style>\n",
              "<table border=\"1\" class=\"dataframe\">\n",
              "  <thead>\n",
              "    <tr style=\"text-align: right;\">\n",
              "      <th></th>\n",
              "      <th>gender</th>\n",
              "      <th>tenure</th>\n",
              "      <th>MonthlyCharges</th>\n",
              "      <th>TotalCharges</th>\n",
              "      <th>Churn</th>\n",
              "      <th>Partner_No</th>\n",
              "      <th>Partner_Yes</th>\n",
              "      <th>Dependents_No</th>\n",
              "      <th>Dependents_Yes</th>\n",
              "      <th>MultipleLines_No</th>\n",
              "      <th>...</th>\n",
              "      <th>StreamingMovies_Yes</th>\n",
              "      <th>Contract_Month-to-month</th>\n",
              "      <th>Contract_One year</th>\n",
              "      <th>Contract_Two year</th>\n",
              "      <th>PaperlessBilling_No</th>\n",
              "      <th>PaperlessBilling_Yes</th>\n",
              "      <th>PaymentMethod_Bank transfer (automatic)</th>\n",
              "      <th>PaymentMethod_Credit card (automatic)</th>\n",
              "      <th>PaymentMethod_Electronic check</th>\n",
              "      <th>PaymentMethod_Mailed check</th>\n",
              "    </tr>\n",
              "  </thead>\n",
              "  <tbody>\n",
              "    <tr>\n",
              "      <th>7023</th>\n",
              "      <td>0</td>\n",
              "      <td>4</td>\n",
              "      <td>82.85</td>\n",
              "      <td>319.60</td>\n",
              "      <td>0</td>\n",
              "      <td>True</td>\n",
              "      <td>False</td>\n",
              "      <td>True</td>\n",
              "      <td>False</td>\n",
              "      <td>True</td>\n",
              "      <td>...</td>\n",
              "      <td>True</td>\n",
              "      <td>True</td>\n",
              "      <td>False</td>\n",
              "      <td>False</td>\n",
              "      <td>False</td>\n",
              "      <td>True</td>\n",
              "      <td>False</td>\n",
              "      <td>True</td>\n",
              "      <td>False</td>\n",
              "      <td>False</td>\n",
              "    </tr>\n",
              "    <tr>\n",
              "      <th>7024</th>\n",
              "      <td>1</td>\n",
              "      <td>25</td>\n",
              "      <td>25.50</td>\n",
              "      <td>630.60</td>\n",
              "      <td>0</td>\n",
              "      <td>False</td>\n",
              "      <td>True</td>\n",
              "      <td>False</td>\n",
              "      <td>True</td>\n",
              "      <td>False</td>\n",
              "      <td>...</td>\n",
              "      <td>False</td>\n",
              "      <td>False</td>\n",
              "      <td>False</td>\n",
              "      <td>True</td>\n",
              "      <td>True</td>\n",
              "      <td>False</td>\n",
              "      <td>False</td>\n",
              "      <td>True</td>\n",
              "      <td>False</td>\n",
              "      <td>False</td>\n",
              "    </tr>\n",
              "    <tr>\n",
              "      <th>7025</th>\n",
              "      <td>1</td>\n",
              "      <td>3</td>\n",
              "      <td>55.80</td>\n",
              "      <td>154.55</td>\n",
              "      <td>0</td>\n",
              "      <td>False</td>\n",
              "      <td>True</td>\n",
              "      <td>True</td>\n",
              "      <td>False</td>\n",
              "      <td>True</td>\n",
              "      <td>...</td>\n",
              "      <td>False</td>\n",
              "      <td>True</td>\n",
              "      <td>False</td>\n",
              "      <td>False</td>\n",
              "      <td>False</td>\n",
              "      <td>True</td>\n",
              "      <td>False</td>\n",
              "      <td>False</td>\n",
              "      <td>False</td>\n",
              "      <td>True</td>\n",
              "    </tr>\n",
              "    <tr>\n",
              "      <th>7026</th>\n",
              "      <td>1</td>\n",
              "      <td>4</td>\n",
              "      <td>61.45</td>\n",
              "      <td>229.55</td>\n",
              "      <td>1</td>\n",
              "      <td>False</td>\n",
              "      <td>True</td>\n",
              "      <td>False</td>\n",
              "      <td>True</td>\n",
              "      <td>True</td>\n",
              "      <td>...</td>\n",
              "      <td>True</td>\n",
              "      <td>True</td>\n",
              "      <td>False</td>\n",
              "      <td>False</td>\n",
              "      <td>True</td>\n",
              "      <td>False</td>\n",
              "      <td>False</td>\n",
              "      <td>True</td>\n",
              "      <td>False</td>\n",
              "      <td>False</td>\n",
              "    </tr>\n",
              "    <tr>\n",
              "      <th>7027</th>\n",
              "      <td>0</td>\n",
              "      <td>6</td>\n",
              "      <td>50.80</td>\n",
              "      <td>288.05</td>\n",
              "      <td>1</td>\n",
              "      <td>True</td>\n",
              "      <td>False</td>\n",
              "      <td>True</td>\n",
              "      <td>False</td>\n",
              "      <td>True</td>\n",
              "      <td>...</td>\n",
              "      <td>False</td>\n",
              "      <td>True</td>\n",
              "      <td>False</td>\n",
              "      <td>False</td>\n",
              "      <td>False</td>\n",
              "      <td>True</td>\n",
              "      <td>True</td>\n",
              "      <td>False</td>\n",
              "      <td>False</td>\n",
              "      <td>False</td>\n",
              "    </tr>\n",
              "  </tbody>\n",
              "</table>\n",
              "<p>5 rows × 39 columns</p>\n",
              "</div>\n",
              "    <div class=\"colab-df-buttons\">\n",
              "\n",
              "  <div class=\"colab-df-container\">\n",
              "    <button class=\"colab-df-convert\" onclick=\"convertToInteractive('df-e3c97ee3-f680-4f6d-9915-61ee9d60545c')\"\n",
              "            title=\"Convert this dataframe to an interactive table.\"\n",
              "            style=\"display:none;\">\n",
              "\n",
              "  <svg xmlns=\"http://www.w3.org/2000/svg\" height=\"24px\" viewBox=\"0 -960 960 960\">\n",
              "    <path d=\"M120-120v-720h720v720H120Zm60-500h600v-160H180v160Zm220 220h160v-160H400v160Zm0 220h160v-160H400v160ZM180-400h160v-160H180v160Zm440 0h160v-160H620v160ZM180-180h160v-160H180v160Zm440 0h160v-160H620v160Z\"/>\n",
              "  </svg>\n",
              "    </button>\n",
              "\n",
              "  <style>\n",
              "    .colab-df-container {\n",
              "      display:flex;\n",
              "      gap: 12px;\n",
              "    }\n",
              "\n",
              "    .colab-df-convert {\n",
              "      background-color: #E8F0FE;\n",
              "      border: none;\n",
              "      border-radius: 50%;\n",
              "      cursor: pointer;\n",
              "      display: none;\n",
              "      fill: #1967D2;\n",
              "      height: 32px;\n",
              "      padding: 0 0 0 0;\n",
              "      width: 32px;\n",
              "    }\n",
              "\n",
              "    .colab-df-convert:hover {\n",
              "      background-color: #E2EBFA;\n",
              "      box-shadow: 0px 1px 2px rgba(60, 64, 67, 0.3), 0px 1px 3px 1px rgba(60, 64, 67, 0.15);\n",
              "      fill: #174EA6;\n",
              "    }\n",
              "\n",
              "    .colab-df-buttons div {\n",
              "      margin-bottom: 4px;\n",
              "    }\n",
              "\n",
              "    [theme=dark] .colab-df-convert {\n",
              "      background-color: #3B4455;\n",
              "      fill: #D2E3FC;\n",
              "    }\n",
              "\n",
              "    [theme=dark] .colab-df-convert:hover {\n",
              "      background-color: #434B5C;\n",
              "      box-shadow: 0px 1px 3px 1px rgba(0, 0, 0, 0.15);\n",
              "      filter: drop-shadow(0px 1px 2px rgba(0, 0, 0, 0.3));\n",
              "      fill: #FFFFFF;\n",
              "    }\n",
              "  </style>\n",
              "\n",
              "    <script>\n",
              "      const buttonEl =\n",
              "        document.querySelector('#df-e3c97ee3-f680-4f6d-9915-61ee9d60545c button.colab-df-convert');\n",
              "      buttonEl.style.display =\n",
              "        google.colab.kernel.accessAllowed ? 'block' : 'none';\n",
              "\n",
              "      async function convertToInteractive(key) {\n",
              "        const element = document.querySelector('#df-e3c97ee3-f680-4f6d-9915-61ee9d60545c');\n",
              "        const dataTable =\n",
              "          await google.colab.kernel.invokeFunction('convertToInteractive',\n",
              "                                                    [key], {});\n",
              "        if (!dataTable) return;\n",
              "\n",
              "        const docLinkHtml = 'Like what you see? Visit the ' +\n",
              "          '<a target=\"_blank\" href=https://colab.research.google.com/notebooks/data_table.ipynb>data table notebook</a>'\n",
              "          + ' to learn more about interactive tables.';\n",
              "        element.innerHTML = '';\n",
              "        dataTable['output_type'] = 'display_data';\n",
              "        await google.colab.output.renderOutput(dataTable, element);\n",
              "        const docLink = document.createElement('div');\n",
              "        docLink.innerHTML = docLinkHtml;\n",
              "        element.appendChild(docLink);\n",
              "      }\n",
              "    </script>\n",
              "  </div>\n",
              "\n",
              "\n",
              "<div id=\"df-78a1eb6f-8ff5-4254-9639-7b69fa051d94\">\n",
              "  <button class=\"colab-df-quickchart\" onclick=\"quickchart('df-78a1eb6f-8ff5-4254-9639-7b69fa051d94')\"\n",
              "            title=\"Suggest charts\"\n",
              "            style=\"display:none;\">\n",
              "\n",
              "<svg xmlns=\"http://www.w3.org/2000/svg\" height=\"24px\"viewBox=\"0 0 24 24\"\n",
              "     width=\"24px\">\n",
              "    <g>\n",
              "        <path d=\"M19 3H5c-1.1 0-2 .9-2 2v14c0 1.1.9 2 2 2h14c1.1 0 2-.9 2-2V5c0-1.1-.9-2-2-2zM9 17H7v-7h2v7zm4 0h-2V7h2v10zm4 0h-2v-4h2v4z\"/>\n",
              "    </g>\n",
              "</svg>\n",
              "  </button>\n",
              "\n",
              "<style>\n",
              "  .colab-df-quickchart {\n",
              "      --bg-color: #E8F0FE;\n",
              "      --fill-color: #1967D2;\n",
              "      --hover-bg-color: #E2EBFA;\n",
              "      --hover-fill-color: #174EA6;\n",
              "      --disabled-fill-color: #AAA;\n",
              "      --disabled-bg-color: #DDD;\n",
              "  }\n",
              "\n",
              "  [theme=dark] .colab-df-quickchart {\n",
              "      --bg-color: #3B4455;\n",
              "      --fill-color: #D2E3FC;\n",
              "      --hover-bg-color: #434B5C;\n",
              "      --hover-fill-color: #FFFFFF;\n",
              "      --disabled-bg-color: #3B4455;\n",
              "      --disabled-fill-color: #666;\n",
              "  }\n",
              "\n",
              "  .colab-df-quickchart {\n",
              "    background-color: var(--bg-color);\n",
              "    border: none;\n",
              "    border-radius: 50%;\n",
              "    cursor: pointer;\n",
              "    display: none;\n",
              "    fill: var(--fill-color);\n",
              "    height: 32px;\n",
              "    padding: 0;\n",
              "    width: 32px;\n",
              "  }\n",
              "\n",
              "  .colab-df-quickchart:hover {\n",
              "    background-color: var(--hover-bg-color);\n",
              "    box-shadow: 0 1px 2px rgba(60, 64, 67, 0.3), 0 1px 3px 1px rgba(60, 64, 67, 0.15);\n",
              "    fill: var(--button-hover-fill-color);\n",
              "  }\n",
              "\n",
              "  .colab-df-quickchart-complete:disabled,\n",
              "  .colab-df-quickchart-complete:disabled:hover {\n",
              "    background-color: var(--disabled-bg-color);\n",
              "    fill: var(--disabled-fill-color);\n",
              "    box-shadow: none;\n",
              "  }\n",
              "\n",
              "  .colab-df-spinner {\n",
              "    border: 2px solid var(--fill-color);\n",
              "    border-color: transparent;\n",
              "    border-bottom-color: var(--fill-color);\n",
              "    animation:\n",
              "      spin 1s steps(1) infinite;\n",
              "  }\n",
              "\n",
              "  @keyframes spin {\n",
              "    0% {\n",
              "      border-color: transparent;\n",
              "      border-bottom-color: var(--fill-color);\n",
              "      border-left-color: var(--fill-color);\n",
              "    }\n",
              "    20% {\n",
              "      border-color: transparent;\n",
              "      border-left-color: var(--fill-color);\n",
              "      border-top-color: var(--fill-color);\n",
              "    }\n",
              "    30% {\n",
              "      border-color: transparent;\n",
              "      border-left-color: var(--fill-color);\n",
              "      border-top-color: var(--fill-color);\n",
              "      border-right-color: var(--fill-color);\n",
              "    }\n",
              "    40% {\n",
              "      border-color: transparent;\n",
              "      border-right-color: var(--fill-color);\n",
              "      border-top-color: var(--fill-color);\n",
              "    }\n",
              "    60% {\n",
              "      border-color: transparent;\n",
              "      border-right-color: var(--fill-color);\n",
              "    }\n",
              "    80% {\n",
              "      border-color: transparent;\n",
              "      border-right-color: var(--fill-color);\n",
              "      border-bottom-color: var(--fill-color);\n",
              "    }\n",
              "    90% {\n",
              "      border-color: transparent;\n",
              "      border-bottom-color: var(--fill-color);\n",
              "    }\n",
              "  }\n",
              "</style>\n",
              "\n",
              "  <script>\n",
              "    async function quickchart(key) {\n",
              "      const quickchartButtonEl =\n",
              "        document.querySelector('#' + key + ' button');\n",
              "      quickchartButtonEl.disabled = true;  // To prevent multiple clicks.\n",
              "      quickchartButtonEl.classList.add('colab-df-spinner');\n",
              "      try {\n",
              "        const charts = await google.colab.kernel.invokeFunction(\n",
              "            'suggestCharts', [key], {});\n",
              "      } catch (error) {\n",
              "        console.error('Error during call to suggestCharts:', error);\n",
              "      }\n",
              "      quickchartButtonEl.classList.remove('colab-df-spinner');\n",
              "      quickchartButtonEl.classList.add('colab-df-quickchart-complete');\n",
              "    }\n",
              "    (() => {\n",
              "      let quickchartButtonEl =\n",
              "        document.querySelector('#df-78a1eb6f-8ff5-4254-9639-7b69fa051d94 button');\n",
              "      quickchartButtonEl.style.display =\n",
              "        google.colab.kernel.accessAllowed ? 'block' : 'none';\n",
              "    })();\n",
              "  </script>\n",
              "</div>\n",
              "\n",
              "    </div>\n",
              "  </div>\n"
            ],
            "application/vnd.google.colaboratory.intrinsic+json": {
              "type": "dataframe"
            }
          },
          "metadata": {},
          "execution_count": 26
        }
      ],
      "source": [
        "# 숫자 분포 이루어진 컬럼 확인\n",
        "df1.tail()"
      ]
    },
    {
      "cell_type": "code",
      "execution_count": null,
      "metadata": {
        "id": "Q-orGOfi0FUP"
      },
      "outputs": [],
      "source": [
        "from sklearn.preprocessing import MinMaxScaler"
      ]
    },
    {
      "cell_type": "markdown",
      "metadata": {
        "id": "YYL7jH_z0FUP"
      },
      "source": [
        "##### <font color=blue> **[문제] MinMaxScaler 함수를 'scaler'로 정의 하세요.** </font>"
      ]
    },
    {
      "cell_type": "code",
      "execution_count": null,
      "metadata": {
        "id": "ml2_SprW0FUQ"
      },
      "outputs": [],
      "source": [
        "# 사이키런의 MinMaxScaler() 함수 활용\n",
        "# 정의할 결과를 'scaler'로 매핑\n",
        "\n",
        "\n",
        "\n",
        "scaler = MinMaxScaler()"
      ]
    },
    {
      "cell_type": "code",
      "execution_count": null,
      "metadata": {
        "id": "fPZhJv7J0FUQ"
      },
      "outputs": [],
      "source": [
        "# X_train과 X_test에 대해 MinMaxScaler 적용하기\n",
        "# X_train에 대해서는 fit_transform 해주고, X_test에 대해서는 transform 해 주자\n",
        "\n",
        "X_train = scaler.fit_transform(X_train)\n",
        "X_test = scaler.transform(X_test)"
      ]
    },
    {
      "cell_type": "code",
      "execution_count": null,
      "metadata": {
        "colab": {
          "base_uri": "https://localhost:8080/"
        },
        "id": "tiM5HomM0FUQ",
        "outputId": "559e2683-a59e-4355-a0da-2e1c91c04478"
      },
      "outputs": [
        {
          "output_type": "execute_result",
          "data": {
            "text/plain": [
              "(array([[0.        , 1.        , 0.74029851, 0.77636654, 0.        ,\n",
              "         1.        , 0.        , 1.        , 0.        , 0.        ,\n",
              "         1.        , 1.        , 0.        , 0.        , 0.        ,\n",
              "         0.        , 1.        , 0.        , 0.        , 1.        ,\n",
              "         0.        , 0.        , 1.        , 0.        , 0.        ,\n",
              "         1.        , 0.        , 0.        , 1.        , 0.        ,\n",
              "         0.        , 1.        , 1.        , 0.        , 1.        ,\n",
              "         0.        , 0.        , 0.        ],\n",
              "        [1.        , 1.        , 0.90845771, 0.91331746, 0.        ,\n",
              "         1.        , 1.        , 0.        , 0.        , 0.        ,\n",
              "         1.        , 0.        , 1.        , 0.        , 0.        ,\n",
              "         0.        , 1.        , 0.        , 0.        , 1.        ,\n",
              "         1.        , 0.        , 0.        , 0.        , 0.        ,\n",
              "         1.        , 0.        , 0.        , 1.        , 0.        ,\n",
              "         0.        , 1.        , 0.        , 1.        , 1.        ,\n",
              "         0.        , 0.        , 0.        ]]),\n",
              " 3192    0\n",
              " 6029    0\n",
              " Name: Churn, dtype: int64)"
            ]
          },
          "metadata": {},
          "execution_count": 30
        }
      ],
      "source": [
        "# 스케일 적용된 X_train, y_train 데이터 앞 2개만 보자\n",
        "X_train[:2], y_train[:2]"
      ]
    },
    {
      "cell_type": "markdown",
      "metadata": {
        "id": "v5XRNq100FUQ"
      },
      "source": [
        "## ⑦ 모델 개발"
      ]
    },
    {
      "cell_type": "markdown",
      "metadata": {
        "id": "Yt9pqvyOGW0N"
      },
      "source": [
        "#### (참고) 모델별 바차트 그려주고 성능 확인을 위한 함수"
      ]
    },
    {
      "cell_type": "code",
      "execution_count": null,
      "metadata": {
        "id": "gwA1iqfDGWkw"
      },
      "outputs": [],
      "source": [
        "# 모델별로 Recall 점수 저장\n",
        "# 모델 Recall 점수 순서대로 바차트를 그려 모델별로 성능 확인 가능\n",
        "\n",
        "from sklearn.metrics import accuracy_score\n",
        "\n",
        "my_predictions = {}\n",
        "\n",
        "colors = ['r', 'c', 'm', 'y', 'k', 'khaki', 'teal', 'orchid', 'sandybrown',\n",
        "          'greenyellow', 'dodgerblue', 'deepskyblue', 'rosybrown', 'firebrick',\n",
        "          'deeppink', 'crimson', 'salmon', 'darkred', 'olivedrab', 'olive',\n",
        "          'forestgreen', 'royalblue', 'indigo', 'navy', 'mediumpurple', 'chocolate',\n",
        "          'gold', 'darkorange', 'seagreen', 'turquoise', 'steelblue', 'slategray',\n",
        "          'peru', 'midnightblue', 'slateblue', 'dimgray', 'cadetblue', 'tomato'\n",
        "         ]\n",
        "\n",
        "# 모델명, 예측값, 실제값을 주면 위의 plot_predictions 함수 호출하여 Scatter 그래프 그리며\n",
        "# 모델별 MSE값을 Bar chart로 그려줌\n",
        "def recall_eval(name_, pred, actual):\n",
        "    global predictions\n",
        "    global colors\n",
        "\n",
        "    plt.figure(figsize=(12, 9))\n",
        "\n",
        "    #acc = accuracy_score(actual, pred)\n",
        "    acc = recall_score(actual, pred)\n",
        "    my_predictions[name_] = acc * 100\n",
        "\n",
        "    y_value = sorted(my_predictions.items(), key=lambda x: x[1], reverse=True)\n",
        "\n",
        "    df = pd.DataFrame(y_value, columns=['model', 'recall'])\n",
        "    print(df)\n",
        "\n",
        "    length = len(df)\n",
        "\n",
        "    plt.figure(figsize=(10, length))\n",
        "    ax = plt.subplot()\n",
        "    ax.set_yticks(np.arange(len(df)))\n",
        "    ax.set_yticklabels(df['model'], fontsize=15)\n",
        "    bars = ax.barh(np.arange(len(df)), df['recall'])\n",
        "\n",
        "    for i, v in enumerate(df['recall']):\n",
        "        idx = np.random.choice(len(colors))\n",
        "        bars[i].set_color(colors[idx])\n",
        "        ax.text(v + 2, i, str(round(v, 3)), color='k', fontsize=15, fontweight='bold')\n",
        "\n",
        "    plt.title('recall', fontsize=18)\n",
        "    plt.xlim(0, 100)\n",
        "\n",
        "    plt.show()"
      ]
    },
    {
      "cell_type": "markdown",
      "metadata": {
        "id": "aWIdyWeg0FUR"
      },
      "source": [
        "###  \n",
        "### 1) 로지스틱 회귀 (LogisticRegression, 분류)"
      ]
    },
    {
      "cell_type": "code",
      "execution_count": null,
      "metadata": {
        "id": "L3x-qaHh0FUR"
      },
      "outputs": [],
      "source": [
        "from sklearn.linear_model import LogisticRegression\n",
        "from sklearn.metrics import confusion_matrix\n",
        "from sklearn.metrics import accuracy_score, precision_score, recall_score, f1_score\n",
        "from sklearn.metrics import classification_report"
      ]
    },
    {
      "cell_type": "markdown",
      "metadata": {
        "id": "2shWVpg00FUS"
      },
      "source": [
        "##### <font color=blue> **[문제] LogisticRegression 모델 정의하고 학습시키세요.** </font>"
      ]
    },
    {
      "cell_type": "code",
      "execution_count": null,
      "metadata": {
        "colab": {
          "base_uri": "https://localhost:8080/",
          "height": 74
        },
        "id": "qz_VjrEf0FUS",
        "outputId": "3845feef-1df8-4ed5-c1bf-9925459fa7be"
      },
      "outputs": [
        {
          "output_type": "execute_result",
          "data": {
            "text/plain": [
              "LogisticRegression()"
            ],
            "text/html": [
              "<style>#sk-container-id-1 {color: black;background-color: white;}#sk-container-id-1 pre{padding: 0;}#sk-container-id-1 div.sk-toggleable {background-color: white;}#sk-container-id-1 label.sk-toggleable__label {cursor: pointer;display: block;width: 100%;margin-bottom: 0;padding: 0.3em;box-sizing: border-box;text-align: center;}#sk-container-id-1 label.sk-toggleable__label-arrow:before {content: \"▸\";float: left;margin-right: 0.25em;color: #696969;}#sk-container-id-1 label.sk-toggleable__label-arrow:hover:before {color: black;}#sk-container-id-1 div.sk-estimator:hover label.sk-toggleable__label-arrow:before {color: black;}#sk-container-id-1 div.sk-toggleable__content {max-height: 0;max-width: 0;overflow: hidden;text-align: left;background-color: #f0f8ff;}#sk-container-id-1 div.sk-toggleable__content pre {margin: 0.2em;color: black;border-radius: 0.25em;background-color: #f0f8ff;}#sk-container-id-1 input.sk-toggleable__control:checked~div.sk-toggleable__content {max-height: 200px;max-width: 100%;overflow: auto;}#sk-container-id-1 input.sk-toggleable__control:checked~label.sk-toggleable__label-arrow:before {content: \"▾\";}#sk-container-id-1 div.sk-estimator input.sk-toggleable__control:checked~label.sk-toggleable__label {background-color: #d4ebff;}#sk-container-id-1 div.sk-label input.sk-toggleable__control:checked~label.sk-toggleable__label {background-color: #d4ebff;}#sk-container-id-1 input.sk-hidden--visually {border: 0;clip: rect(1px 1px 1px 1px);clip: rect(1px, 1px, 1px, 1px);height: 1px;margin: -1px;overflow: hidden;padding: 0;position: absolute;width: 1px;}#sk-container-id-1 div.sk-estimator {font-family: monospace;background-color: #f0f8ff;border: 1px dotted black;border-radius: 0.25em;box-sizing: border-box;margin-bottom: 0.5em;}#sk-container-id-1 div.sk-estimator:hover {background-color: #d4ebff;}#sk-container-id-1 div.sk-parallel-item::after {content: \"\";width: 100%;border-bottom: 1px solid gray;flex-grow: 1;}#sk-container-id-1 div.sk-label:hover label.sk-toggleable__label {background-color: #d4ebff;}#sk-container-id-1 div.sk-serial::before {content: \"\";position: absolute;border-left: 1px solid gray;box-sizing: border-box;top: 0;bottom: 0;left: 50%;z-index: 0;}#sk-container-id-1 div.sk-serial {display: flex;flex-direction: column;align-items: center;background-color: white;padding-right: 0.2em;padding-left: 0.2em;position: relative;}#sk-container-id-1 div.sk-item {position: relative;z-index: 1;}#sk-container-id-1 div.sk-parallel {display: flex;align-items: stretch;justify-content: center;background-color: white;position: relative;}#sk-container-id-1 div.sk-item::before, #sk-container-id-1 div.sk-parallel-item::before {content: \"\";position: absolute;border-left: 1px solid gray;box-sizing: border-box;top: 0;bottom: 0;left: 50%;z-index: -1;}#sk-container-id-1 div.sk-parallel-item {display: flex;flex-direction: column;z-index: 1;position: relative;background-color: white;}#sk-container-id-1 div.sk-parallel-item:first-child::after {align-self: flex-end;width: 50%;}#sk-container-id-1 div.sk-parallel-item:last-child::after {align-self: flex-start;width: 50%;}#sk-container-id-1 div.sk-parallel-item:only-child::after {width: 0;}#sk-container-id-1 div.sk-dashed-wrapped {border: 1px dashed gray;margin: 0 0.4em 0.5em 0.4em;box-sizing: border-box;padding-bottom: 0.4em;background-color: white;}#sk-container-id-1 div.sk-label label {font-family: monospace;font-weight: bold;display: inline-block;line-height: 1.2em;}#sk-container-id-1 div.sk-label-container {text-align: center;}#sk-container-id-1 div.sk-container {/* jupyter's `normalize.less` sets `[hidden] { display: none; }` but bootstrap.min.css set `[hidden] { display: none !important; }` so we also need the `!important` here to be able to override the default hidden behavior on the sphinx rendered scikit-learn.org. See: https://github.com/scikit-learn/scikit-learn/issues/21755 */display: inline-block !important;position: relative;}#sk-container-id-1 div.sk-text-repr-fallback {display: none;}</style><div id=\"sk-container-id-1\" class=\"sk-top-container\"><div class=\"sk-text-repr-fallback\"><pre>LogisticRegression()</pre><b>In a Jupyter environment, please rerun this cell to show the HTML representation or trust the notebook. <br />On GitHub, the HTML representation is unable to render, please try loading this page with nbviewer.org.</b></div><div class=\"sk-container\" hidden><div class=\"sk-item\"><div class=\"sk-estimator sk-toggleable\"><input class=\"sk-toggleable__control sk-hidden--visually\" id=\"sk-estimator-id-1\" type=\"checkbox\" checked><label for=\"sk-estimator-id-1\" class=\"sk-toggleable__label sk-toggleable__label-arrow\">LogisticRegression</label><div class=\"sk-toggleable__content\"><pre>LogisticRegression()</pre></div></div></div></div></div>"
            ]
          },
          "metadata": {},
          "execution_count": 33
        }
      ],
      "source": [
        "# LogisticRegression 함수 사용 및 정의 : lg 저장\n",
        "# 정의된 LogisticRegression 학습 fit() : 입력값으로 X_train, y_train 준다.\n",
        "\n",
        "\n",
        "lg = LogisticRegression()\n",
        "lg.fit(X_train, y_train)"
      ]
    },
    {
      "cell_type": "code",
      "execution_count": null,
      "metadata": {
        "colab": {
          "base_uri": "https://localhost:8080/"
        },
        "id": "mW7KXzVL0FUS",
        "outputId": "98831f4a-02c5-43e3-86ff-140323041138"
      },
      "outputs": [
        {
          "output_type": "execute_result",
          "data": {
            "text/plain": [
              "0.8079658605974396"
            ]
          },
          "metadata": {},
          "execution_count": 34
        }
      ],
      "source": [
        "# 분류기 성능 평가(score)\n",
        "lg.score(X_test, y_test)"
      ]
    },
    {
      "cell_type": "markdown",
      "metadata": {
        "id": "WjYV0iRS0FUS"
      },
      "source": [
        "- 분류기 성능 평가 지표"
      ]
    },
    {
      "cell_type": "code",
      "execution_count": null,
      "metadata": {
        "id": "Cu1wy0Wt0FUS"
      },
      "outputs": [],
      "source": [
        "lg_pred = lg.predict(X_test)"
      ]
    },
    {
      "cell_type": "code",
      "execution_count": null,
      "metadata": {
        "colab": {
          "base_uri": "https://localhost:8080/"
        },
        "id": "2DaZFSRr0FUT",
        "outputId": "1236a3cf-932e-4995-819a-0ad10aa7cc60"
      },
      "outputs": [
        {
          "output_type": "execute_result",
          "data": {
            "text/plain": [
              "array([[1403,  146],\n",
              "       [ 259,  301]])"
            ]
          },
          "metadata": {},
          "execution_count": 36
        }
      ],
      "source": [
        "# 오차행렬\n",
        "# TN  FP\n",
        "# FN  TP\n",
        "\n",
        "confusion_matrix(y_test, lg_pred)"
      ]
    },
    {
      "cell_type": "code",
      "execution_count": null,
      "metadata": {
        "colab": {
          "base_uri": "https://localhost:8080/"
        },
        "id": "GYM_m9JA0FUT",
        "outputId": "d63de000-72bb-4777-8d3b-6a5412258d1c"
      },
      "outputs": [
        {
          "output_type": "execute_result",
          "data": {
            "text/plain": [
              "0.8079658605974396"
            ]
          },
          "metadata": {},
          "execution_count": 37
        }
      ],
      "source": [
        "# 정확도\n",
        "accuracy_score(y_test, lg_pred)"
      ]
    },
    {
      "cell_type": "code",
      "execution_count": null,
      "metadata": {
        "colab": {
          "base_uri": "https://localhost:8080/"
        },
        "id": "mNorqDIl0FUT",
        "outputId": "dfb47f5e-5f67-40ef-ab47-ce72b2a3febc"
      },
      "outputs": [
        {
          "output_type": "execute_result",
          "data": {
            "text/plain": [
              "0.6733780760626398"
            ]
          },
          "metadata": {},
          "execution_count": 38
        }
      ],
      "source": [
        "# 정밀도\n",
        "precision_score(y_test, lg_pred)"
      ]
    },
    {
      "cell_type": "code",
      "execution_count": null,
      "metadata": {
        "colab": {
          "base_uri": "https://localhost:8080/"
        },
        "id": "XQ-B-7U40FUT",
        "outputId": "2552abef-1775-4e95-86d9-e9ad3ec9dca5"
      },
      "outputs": [
        {
          "output_type": "execute_result",
          "data": {
            "text/plain": [
              "0.5375"
            ]
          },
          "metadata": {},
          "execution_count": 39
        }
      ],
      "source": [
        "# 재현율 : 낮다.\n",
        "recall_score(y_test, lg_pred)"
      ]
    },
    {
      "cell_type": "code",
      "execution_count": null,
      "metadata": {
        "colab": {
          "base_uri": "https://localhost:8080/"
        },
        "id": "KLMt1bRZ0FUU",
        "outputId": "b78bc8eb-d2da-4ceb-a5e7-89caa8806612"
      },
      "outputs": [
        {
          "output_type": "execute_result",
          "data": {
            "text/plain": [
              "0.5978152929493544"
            ]
          },
          "metadata": {},
          "execution_count": 40
        }
      ],
      "source": [
        "# 정밀도 + 재현율\n",
        "f1_score(y_test, lg_pred)"
      ]
    },
    {
      "cell_type": "code",
      "execution_count": null,
      "metadata": {
        "colab": {
          "base_uri": "https://localhost:8080/"
        },
        "id": "Nw8sNOr90FUU",
        "outputId": "a19279a4-6905-4ae9-910b-c37cc5086416"
      },
      "outputs": [
        {
          "output_type": "stream",
          "name": "stdout",
          "text": [
            "              precision    recall  f1-score   support\n",
            "\n",
            "           0       0.84      0.91      0.87      1549\n",
            "           1       0.67      0.54      0.60       560\n",
            "\n",
            "    accuracy                           0.81      2109\n",
            "   macro avg       0.76      0.72      0.74      2109\n",
            "weighted avg       0.80      0.81      0.80      2109\n",
            "\n"
          ]
        }
      ],
      "source": [
        "print(classification_report(y_test, lg_pred))"
      ]
    },
    {
      "cell_type": "code",
      "execution_count": null,
      "metadata": {
        "colab": {
          "base_uri": "https://localhost:8080/",
          "height": 198
        },
        "id": "gV4EhffS0FUU",
        "outputId": "330a7b04-80b4-4b2b-d92d-cffafe4466c1"
      },
      "outputs": [
        {
          "output_type": "stream",
          "name": "stdout",
          "text": [
            "                model  recall\n",
            "0  LogisticRegression   53.75\n"
          ]
        },
        {
          "output_type": "display_data",
          "data": {
            "text/plain": [
              "<Figure size 1200x900 with 0 Axes>"
            ]
          },
          "metadata": {}
        },
        {
          "output_type": "display_data",
          "data": {
            "text/plain": [
              "<Figure size 1000x100 with 1 Axes>"
            ],
            "image/png": "[encoded data removed]"
          },
          "metadata": {}
        }
      ],
      "source": [
        "recall_eval('LogisticRegression', lg_pred, y_test)"
      ]
    },
    {
      "cell_type": "markdown",
      "metadata": {
        "id": "sjZAmlXp0FUU"
      },
      "source": [
        "###   \n",
        "### 2) KNN (K-Nearest Neighbor)"
      ]
    },
    {
      "cell_type": "code",
      "execution_count": null,
      "metadata": {
        "id": "dTLMf6Og0FUU"
      },
      "outputs": [],
      "source": [
        "from sklearn.neighbors import KNeighborsClassifier"
      ]
    },
    {
      "cell_type": "code",
      "execution_count": null,
      "metadata": {
        "colab": {
          "base_uri": "https://localhost:8080/",
          "height": 74
        },
        "id": "JCAJy-pT0FUV",
        "outputId": "499ccbab-2e0f-42ec-cfdd-d4d951d1b410"
      },
      "outputs": [
        {
          "output_type": "execute_result",
          "data": {
            "text/plain": [
              "KNeighborsClassifier()"
            ],
            "text/html": [
              "<style>#sk-container-id-2 {color: black;background-color: white;}#sk-container-id-2 pre{padding: 0;}#sk-container-id-2 div.sk-toggleable {background-color: white;}#sk-container-id-2 label.sk-toggleable__label {cursor: pointer;display: block;width: 100%;margin-bottom: 0;padding: 0.3em;box-sizing: border-box;text-align: center;}#sk-container-id-2 label.sk-toggleable__label-arrow:before {content: \"▸\";float: left;margin-right: 0.25em;color: #696969;}#sk-container-id-2 label.sk-toggleable__label-arrow:hover:before {color: black;}#sk-container-id-2 div.sk-estimator:hover label.sk-toggleable__label-arrow:before {color: black;}#sk-container-id-2 div.sk-toggleable__content {max-height: 0;max-width: 0;overflow: hidden;text-align: left;background-color: #f0f8ff;}#sk-container-id-2 div.sk-toggleable__content pre {margin: 0.2em;color: black;border-radius: 0.25em;background-color: #f0f8ff;}#sk-container-id-2 input.sk-toggleable__control:checked~div.sk-toggleable__content {max-height: 200px;max-width: 100%;overflow: auto;}#sk-container-id-2 input.sk-toggleable__control:checked~label.sk-toggleable__label-arrow:before {content: \"▾\";}#sk-container-id-2 div.sk-estimator input.sk-toggleable__control:checked~label.sk-toggleable__label {background-color: #d4ebff;}#sk-container-id-2 div.sk-label input.sk-toggleable__control:checked~label.sk-toggleable__label {background-color: #d4ebff;}#sk-container-id-2 input.sk-hidden--visually {border: 0;clip: rect(1px 1px 1px 1px);clip: rect(1px, 1px, 1px, 1px);height: 1px;margin: -1px;overflow: hidden;padding: 0;position: absolute;width: 1px;}#sk-container-id-2 div.sk-estimator {font-family: monospace;background-color: #f0f8ff;border: 1px dotted black;border-radius: 0.25em;box-sizing: border-box;margin-bottom: 0.5em;}#sk-container-id-2 div.sk-estimator:hover {background-color: #d4ebff;}#sk-container-id-2 div.sk-parallel-item::after {content: \"\";width: 100%;border-bottom: 1px solid gray;flex-grow: 1;}#sk-container-id-2 div.sk-label:hover label.sk-toggleable__label {background-color: #d4ebff;}#sk-container-id-2 div.sk-serial::before {content: \"\";position: absolute;border-left: 1px solid gray;box-sizing: border-box;top: 0;bottom: 0;left: 50%;z-index: 0;}#sk-container-id-2 div.sk-serial {display: flex;flex-direction: column;align-items: center;background-color: white;padding-right: 0.2em;padding-left: 0.2em;position: relative;}#sk-container-id-2 div.sk-item {position: relative;z-index: 1;}#sk-container-id-2 div.sk-parallel {display: flex;align-items: stretch;justify-content: center;background-color: white;position: relative;}#sk-container-id-2 div.sk-item::before, #sk-container-id-2 div.sk-parallel-item::before {content: \"\";position: absolute;border-left: 1px solid gray;box-sizing: border-box;top: 0;bottom: 0;left: 50%;z-index: -1;}#sk-container-id-2 div.sk-parallel-item {display: flex;flex-direction: column;z-index: 1;position: relative;background-color: white;}#sk-container-id-2 div.sk-parallel-item:first-child::after {align-self: flex-end;width: 50%;}#sk-container-id-2 div.sk-parallel-item:last-child::after {align-self: flex-start;width: 50%;}#sk-container-id-2 div.sk-parallel-item:only-child::after {width: 0;}#sk-container-id-2 div.sk-dashed-wrapped {border: 1px dashed gray;margin: 0 0.4em 0.5em 0.4em;box-sizing: border-box;padding-bottom: 0.4em;background-color: white;}#sk-container-id-2 div.sk-label label {font-family: monospace;font-weight: bold;display: inline-block;line-height: 1.2em;}#sk-container-id-2 div.sk-label-container {text-align: center;}#sk-container-id-2 div.sk-container {/* jupyter's `normalize.less` sets `[hidden] { display: none; }` but bootstrap.min.css set `[hidden] { display: none !important; }` so we also need the `!important` here to be able to override the default hidden behavior on the sphinx rendered scikit-learn.org. See: https://github.com/scikit-learn/scikit-learn/issues/21755 */display: inline-block !important;position: relative;}#sk-container-id-2 div.sk-text-repr-fallback {display: none;}</style><div id=\"sk-container-id-2\" class=\"sk-top-container\"><div class=\"sk-text-repr-fallback\"><pre>KNeighborsClassifier()</pre><b>In a Jupyter environment, please rerun this cell to show the HTML representation or trust the notebook. <br />On GitHub, the HTML representation is unable to render, please try loading this page with nbviewer.org.</b></div><div class=\"sk-container\" hidden><div class=\"sk-item\"><div class=\"sk-estimator sk-toggleable\"><input class=\"sk-toggleable__control sk-hidden--visually\" id=\"sk-estimator-id-2\" type=\"checkbox\" checked><label for=\"sk-estimator-id-2\" class=\"sk-toggleable__label sk-toggleable__label-arrow\">KNeighborsClassifier</label><div class=\"sk-toggleable__content\"><pre>KNeighborsClassifier()</pre></div></div></div></div></div>"
            ]
          },
          "metadata": {},
          "execution_count": 44
        }
      ],
      "source": [
        "knn = KNeighborsClassifier(n_neighbors=5)\n",
        "knn.fit(X_train, y_train)"
      ]
    },
    {
      "cell_type": "code",
      "execution_count": null,
      "metadata": {
        "id": "RVPSryWO0FUV"
      },
      "outputs": [],
      "source": [
        "knn_pred = knn.predict(X_test)"
      ]
    },
    {
      "cell_type": "code",
      "execution_count": null,
      "metadata": {
        "colab": {
          "base_uri": "https://localhost:8080/",
          "height": 281
        },
        "id": "5LcFquWj0FUV",
        "outputId": "b64d18b5-3b8b-4865-8c0d-189bc3ba58bc"
      },
      "outputs": [
        {
          "output_type": "stream",
          "name": "stdout",
          "text": [
            "                model     recall\n",
            "0  LogisticRegression  53.750000\n",
            "1  K-Nearest Neighbor  49.642857\n"
          ]
        },
        {
          "output_type": "display_data",
          "data": {
            "text/plain": [
              "<Figure size 1200x900 with 0 Axes>"
            ]
          },
          "metadata": {}
        },
        {
          "output_type": "display_data",
          "data": {
            "text/plain": [
              "<Figure size 1000x200 with 1 Axes>"
            ],
            "image/png": "[encoded data removed]"
          },
          "metadata": {}
        }
      ],
      "source": [
        "recall_eval('K-Nearest Neighbor', knn_pred, y_test)"
      ]
    },
    {
      "cell_type": "markdown",
      "metadata": {
        "id": "GkXh4Tgu0FUV"
      },
      "source": [
        "###  \n",
        "### 3) 결정트리(DecisionTree)"
      ]
    },
    {
      "cell_type": "code",
      "execution_count": null,
      "metadata": {
        "id": "PEPkbbz80FUV"
      },
      "outputs": [],
      "source": [
        "from sklearn.tree import DecisionTreeClassifier"
      ]
    },
    {
      "cell_type": "code",
      "execution_count": null,
      "metadata": {
        "colab": {
          "base_uri": "https://localhost:8080/",
          "height": 74
        },
        "id": "AfIDKCCL0FUV",
        "outputId": "6996d269-3234-4524-c001-52db720b6652"
      },
      "outputs": [
        {
          "output_type": "execute_result",
          "data": {
            "text/plain": [
              "DecisionTreeClassifier(max_depth=10, random_state=42)"
            ],
            "text/html": [
              "<style>#sk-container-id-3 {color: black;background-color: white;}#sk-container-id-3 pre{padding: 0;}#sk-container-id-3 div.sk-toggleable {background-color: white;}#sk-container-id-3 label.sk-toggleable__label {cursor: pointer;display: block;width: 100%;margin-bottom: 0;padding: 0.3em;box-sizing: border-box;text-align: center;}#sk-container-id-3 label.sk-toggleable__label-arrow:before {content: \"▸\";float: left;margin-right: 0.25em;color: #696969;}#sk-container-id-3 label.sk-toggleable__label-arrow:hover:before {color: black;}#sk-container-id-3 div.sk-estimator:hover label.sk-toggleable__label-arrow:before {color: black;}#sk-container-id-3 div.sk-toggleable__content {max-height: 0;max-width: 0;overflow: hidden;text-align: left;background-color: #f0f8ff;}#sk-container-id-3 div.sk-toggleable__content pre {margin: 0.2em;color: black;border-radius: 0.25em;background-color: #f0f8ff;}#sk-container-id-3 input.sk-toggleable__control:checked~div.sk-toggleable__content {max-height: 200px;max-width: 100%;overflow: auto;}#sk-container-id-3 input.sk-toggleable__control:checked~label.sk-toggleable__label-arrow:before {content: \"▾\";}#sk-container-id-3 div.sk-estimator input.sk-toggleable__control:checked~label.sk-toggleable__label {background-color: #d4ebff;}#sk-container-id-3 div.sk-label input.sk-toggleable__control:checked~label.sk-toggleable__label {background-color: #d4ebff;}#sk-container-id-3 input.sk-hidden--visually {border: 0;clip: rect(1px 1px 1px 1px);clip: rect(1px, 1px, 1px, 1px);height: 1px;margin: -1px;overflow: hidden;padding: 0;position: absolute;width: 1px;}#sk-container-id-3 div.sk-estimator {font-family: monospace;background-color: #f0f8ff;border: 1px dotted black;border-radius: 0.25em;box-sizing: border-box;margin-bottom: 0.5em;}#sk-container-id-3 div.sk-estimator:hover {background-color: #d4ebff;}#sk-container-id-3 div.sk-parallel-item::after {content: \"\";width: 100%;border-bottom: 1px solid gray;flex-grow: 1;}#sk-container-id-3 div.sk-label:hover label.sk-toggleable__label {background-color: #d4ebff;}#sk-container-id-3 div.sk-serial::before {content: \"\";position: absolute;border-left: 1px solid gray;box-sizing: border-box;top: 0;bottom: 0;left: 50%;z-index: 0;}#sk-container-id-3 div.sk-serial {display: flex;flex-direction: column;align-items: center;background-color: white;padding-right: 0.2em;padding-left: 0.2em;position: relative;}#sk-container-id-3 div.sk-item {position: relative;z-index: 1;}#sk-container-id-3 div.sk-parallel {display: flex;align-items: stretch;justify-content: center;background-color: white;position: relative;}#sk-container-id-3 div.sk-item::before, #sk-container-id-3 div.sk-parallel-item::before {content: \"\";position: absolute;border-left: 1px solid gray;box-sizing: border-box;top: 0;bottom: 0;left: 50%;z-index: -1;}#sk-container-id-3 div.sk-parallel-item {display: flex;flex-direction: column;z-index: 1;position: relative;background-color: white;}#sk-container-id-3 div.sk-parallel-item:first-child::after {align-self: flex-end;width: 50%;}#sk-container-id-3 div.sk-parallel-item:last-child::after {align-self: flex-start;width: 50%;}#sk-container-id-3 div.sk-parallel-item:only-child::after {width: 0;}#sk-container-id-3 div.sk-dashed-wrapped {border: 1px dashed gray;margin: 0 0.4em 0.5em 0.4em;box-sizing: border-box;padding-bottom: 0.4em;background-color: white;}#sk-container-id-3 div.sk-label label {font-family: monospace;font-weight: bold;display: inline-block;line-height: 1.2em;}#sk-container-id-3 div.sk-label-container {text-align: center;}#sk-container-id-3 div.sk-container {/* jupyter's `normalize.less` sets `[hidden] { display: none; }` but bootstrap.min.css set `[hidden] { display: none !important; }` so we also need the `!important` here to be able to override the default hidden behavior on the sphinx rendered scikit-learn.org. See: https://github.com/scikit-learn/scikit-learn/issues/21755 */display: inline-block !important;position: relative;}#sk-container-id-3 div.sk-text-repr-fallback {display: none;}</style><div id=\"sk-container-id-3\" class=\"sk-top-container\"><div class=\"sk-text-repr-fallback\"><pre>DecisionTreeClassifier(max_depth=10, random_state=42)</pre><b>In a Jupyter environment, please rerun this cell to show the HTML representation or trust the notebook. <br />On GitHub, the HTML representation is unable to render, please try loading this page with nbviewer.org.</b></div><div class=\"sk-container\" hidden><div class=\"sk-item\"><div class=\"sk-estimator sk-toggleable\"><input class=\"sk-toggleable__control sk-hidden--visually\" id=\"sk-estimator-id-3\" type=\"checkbox\" checked><label for=\"sk-estimator-id-3\" class=\"sk-toggleable__label sk-toggleable__label-arrow\">DecisionTreeClassifier</label><div class=\"sk-toggleable__content\"><pre>DecisionTreeClassifier(max_depth=10, random_state=42)</pre></div></div></div></div></div>"
            ]
          },
          "metadata": {},
          "execution_count": 48
        }
      ],
      "source": [
        "dt = DecisionTreeClassifier(max_depth=10, random_state=42)\n",
        "dt.fit(X_train, y_train)"
      ]
    },
    {
      "cell_type": "markdown",
      "metadata": {
        "id": "0qEMaN520FUW"
      },
      "source": [
        "##### <font color=blue> **[문제] 학습된 DecisionTreeClassifier 모델로 예측해 보기** </font>"
      ]
    },
    {
      "cell_type": "code",
      "execution_count": null,
      "metadata": {
        "id": "_Csk9MqD0FUW"
      },
      "outputs": [],
      "source": [
        "# DecisionTreeClassifier 학습 모델 : dt\n",
        "# DecisionTreeClassifier 모델의 predict() 활용 : 입력값으로 X_test\n",
        "# 결과 : dt_pred 저장\n",
        "\n",
        "\n",
        "\n",
        "dt_pred = dt.predict(X_test)"
      ]
    },
    {
      "cell_type": "code",
      "execution_count": null,
      "metadata": {
        "colab": {
          "base_uri": "https://localhost:8080/",
          "height": 365
        },
        "id": "qhgIeDvs0FUW",
        "outputId": "b8a6b013-7ebd-4db7-bbbb-f84df2434f91",
        "scrolled": true
      },
      "outputs": [
        {
          "output_type": "stream",
          "name": "stdout",
          "text": [
            "                model     recall\n",
            "0  LogisticRegression  53.750000\n",
            "1        DecisionTree  51.428571\n",
            "2  K-Nearest Neighbor  49.642857\n"
          ]
        },
        {
          "output_type": "display_data",
          "data": {
            "text/plain": [
              "<Figure size 1200x900 with 0 Axes>"
            ]
          },
          "metadata": {}
        },
        {
          "output_type": "display_data",
          "data": {
            "text/plain": [
              "<Figure size 1000x300 with 1 Axes>"
            ],
            "image/png": "[encoded data removed]"
          },
          "metadata": {}
        }
      ],
      "source": [
        "recall_eval('DecisionTree', dt_pred, y_test)"
      ]
    },
    {
      "cell_type": "markdown",
      "metadata": {
        "id": "5Y_f-BWX6CCA"
      },
      "source": [
        "###  \n",
        "### **앙상블 기법의 종류**\n",
        "- 배깅 (Bagging): 여러개의 DecisionTree 활용하고 샘플 중복 생성을 통해 결과 도출. RandomForest\n",
        "- 부스팅 (Boosting): 약한 학습기를 순차적으로 학습을 하되, 이전 학습에 대하여 잘못 예측된 데이터에 가중치를 부여해 오차를 보완해 나가는 방식. XGBoost, LGBM"
      ]
    },
    {
      "cell_type": "markdown",
      "metadata": {
        "id": "dtkXJlKj0FUW"
      },
      "source": [
        "![앙상블](https://teddylee777.github.io/images/2019-12-18/image-20191217144823555.png)"
      ]
    },
    {
      "cell_type": "markdown",
      "metadata": {
        "id": "A-rwJjK90FUX"
      },
      "source": [
        "###  \n",
        "### 4) 랜덤포레스트(RandomForest)\n",
        "+ Bagging 대표적인 모델로써, 훈련셋트를 무작위로 각기 다른 서브셋으로 데이터셋을 만들고\n",
        "+ 여러개의 DecisonTree로 학습하고 다수결로 결정하는 모델"
      ]
    },
    {
      "cell_type": "markdown",
      "metadata": {
        "id": "NpOEkIoCAdFd"
      },
      "source": [
        "**주요 Hyperparameter**\n",
        "- random_state: 랜덤 시드 고정 값. 고정해두고 튜닝할 것!\n",
        "- n_jobs: CPU 사용 갯수\n",
        "- max_depth: 깊어질 수 있는 최대 깊이. 과대적합 방지용\n",
        "- n_estimators: 앙상블하는 트리의 갯수\n",
        "- max_features: 최대로 사용할 feature의 갯수. 과대적합 방지용\n",
        "- min_samples_split: 트리가 분할할 때 최소 샘플의 갯수. default=2. 과대적합 방지용"
      ]
    },
    {
      "cell_type": "code",
      "execution_count": null,
      "metadata": {
        "id": "LfzSa0N60FUX"
      },
      "outputs": [],
      "source": [
        "from sklearn.ensemble import RandomForestClassifier"
      ]
    },
    {
      "cell_type": "code",
      "execution_count": null,
      "metadata": {
        "colab": {
          "base_uri": "https://localhost:8080/",
          "height": 74
        },
        "id": "JegAZUoX0FUX",
        "outputId": "cc9f44eb-272e-4c25-c6fb-a4768da9d3fa"
      },
      "outputs": [
        {
          "output_type": "execute_result",
          "data": {
            "text/plain": [
              "RandomForestClassifier(n_estimators=3, random_state=42)"
            ],
            "text/html": [
              "<style>#sk-container-id-4 {color: black;background-color: white;}#sk-container-id-4 pre{padding: 0;}#sk-container-id-4 div.sk-toggleable {background-color: white;}#sk-container-id-4 label.sk-toggleable__label {cursor: pointer;display: block;width: 100%;margin-bottom: 0;padding: 0.3em;box-sizing: border-box;text-align: center;}#sk-container-id-4 label.sk-toggleable__label-arrow:before {content: \"▸\";float: left;margin-right: 0.25em;color: #696969;}#sk-container-id-4 label.sk-toggleable__label-arrow:hover:before {color: black;}#sk-container-id-4 div.sk-estimator:hover label.sk-toggleable__label-arrow:before {color: black;}#sk-container-id-4 div.sk-toggleable__content {max-height: 0;max-width: 0;overflow: hidden;text-align: left;background-color: #f0f8ff;}#sk-container-id-4 div.sk-toggleable__content pre {margin: 0.2em;color: black;border-radius: 0.25em;background-color: #f0f8ff;}#sk-container-id-4 input.sk-toggleable__control:checked~div.sk-toggleable__content {max-height: 200px;max-width: 100%;overflow: auto;}#sk-container-id-4 input.sk-toggleable__control:checked~label.sk-toggleable__label-arrow:before {content: \"▾\";}#sk-container-id-4 div.sk-estimator input.sk-toggleable__control:checked~label.sk-toggleable__label {background-color: #d4ebff;}#sk-container-id-4 div.sk-label input.sk-toggleable__control:checked~label.sk-toggleable__label {background-color: #d4ebff;}#sk-container-id-4 input.sk-hidden--visually {border: 0;clip: rect(1px 1px 1px 1px);clip: rect(1px, 1px, 1px, 1px);height: 1px;margin: -1px;overflow: hidden;padding: 0;position: absolute;width: 1px;}#sk-container-id-4 div.sk-estimator {font-family: monospace;background-color: #f0f8ff;border: 1px dotted black;border-radius: 0.25em;box-sizing: border-box;margin-bottom: 0.5em;}#sk-container-id-4 div.sk-estimator:hover {background-color: #d4ebff;}#sk-container-id-4 div.sk-parallel-item::after {content: \"\";width: 100%;border-bottom: 1px solid gray;flex-grow: 1;}#sk-container-id-4 div.sk-label:hover label.sk-toggleable__label {background-color: #d4ebff;}#sk-container-id-4 div.sk-serial::before {content: \"\";position: absolute;border-left: 1px solid gray;box-sizing: border-box;top: 0;bottom: 0;left: 50%;z-index: 0;}#sk-container-id-4 div.sk-serial {display: flex;flex-direction: column;align-items: center;background-color: white;padding-right: 0.2em;padding-left: 0.2em;position: relative;}#sk-container-id-4 div.sk-item {position: relative;z-index: 1;}#sk-container-id-4 div.sk-parallel {display: flex;align-items: stretch;justify-content: center;background-color: white;position: relative;}#sk-container-id-4 div.sk-item::before, #sk-container-id-4 div.sk-parallel-item::before {content: \"\";position: absolute;border-left: 1px solid gray;box-sizing: border-box;top: 0;bottom: 0;left: 50%;z-index: -1;}#sk-container-id-4 div.sk-parallel-item {display: flex;flex-direction: column;z-index: 1;position: relative;background-color: white;}#sk-container-id-4 div.sk-parallel-item:first-child::after {align-self: flex-end;width: 50%;}#sk-container-id-4 div.sk-parallel-item:last-child::after {align-self: flex-start;width: 50%;}#sk-container-id-4 div.sk-parallel-item:only-child::after {width: 0;}#sk-container-id-4 div.sk-dashed-wrapped {border: 1px dashed gray;margin: 0 0.4em 0.5em 0.4em;box-sizing: border-box;padding-bottom: 0.4em;background-color: white;}#sk-container-id-4 div.sk-label label {font-family: monospace;font-weight: bold;display: inline-block;line-height: 1.2em;}#sk-container-id-4 div.sk-label-container {text-align: center;}#sk-container-id-4 div.sk-container {/* jupyter's `normalize.less` sets `[hidden] { display: none; }` but bootstrap.min.css set `[hidden] { display: none !important; }` so we also need the `!important` here to be able to override the default hidden behavior on the sphinx rendered scikit-learn.org. See: https://github.com/scikit-learn/scikit-learn/issues/21755 */display: inline-block !important;position: relative;}#sk-container-id-4 div.sk-text-repr-fallback {display: none;}</style><div id=\"sk-container-id-4\" class=\"sk-top-container\"><div class=\"sk-text-repr-fallback\"><pre>RandomForestClassifier(n_estimators=3, random_state=42)</pre><b>In a Jupyter environment, please rerun this cell to show the HTML representation or trust the notebook. <br />On GitHub, the HTML representation is unable to render, please try loading this page with nbviewer.org.</b></div><div class=\"sk-container\" hidden><div class=\"sk-item\"><div class=\"sk-estimator sk-toggleable\"><input class=\"sk-toggleable__control sk-hidden--visually\" id=\"sk-estimator-id-4\" type=\"checkbox\" checked><label for=\"sk-estimator-id-4\" class=\"sk-toggleable__label sk-toggleable__label-arrow\">RandomForestClassifier</label><div class=\"sk-toggleable__content\"><pre>RandomForestClassifier(n_estimators=3, random_state=42)</pre></div></div></div></div></div>"
            ]
          },
          "metadata": {},
          "execution_count": 52
        }
      ],
      "source": [
        "rfc = RandomForestClassifier(n_estimators=3, random_state=42)\n",
        "rfc.fit(X_train, y_train)"
      ]
    },
    {
      "cell_type": "code",
      "execution_count": null,
      "metadata": {
        "id": "yd3AA9mFa_0n"
      },
      "outputs": [],
      "source": [
        "rfc_pred = rfc.predict(X_test)"
      ]
    },
    {
      "cell_type": "code",
      "execution_count": null,
      "metadata": {
        "colab": {
          "base_uri": "https://localhost:8080/",
          "height": 431
        },
        "id": "-RkzXSShS6ks",
        "outputId": "cf1cd4fe-cae7-47c1-ddfa-fb5ba4b31224"
      },
      "outputs": [
        {
          "output_type": "stream",
          "name": "stdout",
          "text": [
            "                   model     recall\n",
            "0     LogisticRegression  53.750000\n",
            "1           DecisionTree  51.428571\n",
            "2     K-Nearest Neighbor  49.642857\n",
            "3  RandomForest Ensemble  47.500000\n"
          ]
        },
        {
          "output_type": "display_data",
          "data": {
            "text/plain": [
              "<Figure size 1200x900 with 0 Axes>"
            ]
          },
          "metadata": {}
        },
        {
          "output_type": "display_data",
          "data": {
            "text/plain": [
              "<Figure size 1000x400 with 1 Axes>"
            ],
            "image/png": "[encoded data removed]"
          },
          "metadata": {}
        }
      ],
      "source": [
        "recall_eval('RandomForest Ensemble', rfc_pred, y_test)"
      ]
    },
    {
      "cell_type": "markdown",
      "source": [
        "**변수중요도(Feature_importances_)**"
      ],
      "metadata": {
        "id": "luuRrnVVk_Nr"
      }
    },
    {
      "cell_type": "code",
      "source": [
        "# 램덤포레스트 모델의 38개의 Feature에 대한 중요도(feature_importances_) 보기\n",
        "rfc.feature_importances_"
      ],
      "metadata": {
        "colab": {
          "base_uri": "https://localhost:8080/"
        },
        "id": "9UqnRh8ai9FT",
        "outputId": "94b9069a-9777-4ba6-e649-dbb1aff5da6e"
      },
      "execution_count": null,
      "outputs": [
        {
          "output_type": "execute_result",
          "data": {
            "text/plain": [
              "array([0.02934321, 0.17126374, 0.15817206, 0.19070794, 0.01538114,\n",
              "       0.02094945, 0.01372716, 0.00741258, 0.01341626, 0.00377826,\n",
              "       0.01469994, 0.01864873, 0.03199692, 0.        , 0.01490101,\n",
              "       0.        , 0.01332928, 0.00979736, 0.00453201, 0.0170975 ,\n",
              "       0.01534862, 0.00151439, 0.01096344, 0.01459885, 0.01713365,\n",
              "       0.01188501, 0.01294194, 0.01573211, 0.01353451, 0.0233576 ,\n",
              "       0.01231055, 0.00658289, 0.01574674, 0.02042866, 0.01181155,\n",
              "       0.01575907, 0.01851234, 0.01268354])"
            ]
          },
          "metadata": {},
          "execution_count": 55
        }
      ]
    },
    {
      "cell_type": "code",
      "source": [
        "# 램덤포레스트 모델의 변수중요도를 변수별로 중요도를 상위 7개 출력\n",
        "# Series 함수 이용 : data=rfc.feature_importances_ , index=X.columns\n",
        "# sort_values 함수 활용하여 오름차순으로 정렬\n",
        "# 상위 7개만 보기\n",
        "\n",
        "pd.Series(rfc.feature_importances_, index=X.columns).sort_values(ascending=False).head(7)"
      ],
      "metadata": {
        "colab": {
          "base_uri": "https://localhost:8080/"
        },
        "id": "OqUk7xkSi9gD",
        "outputId": "c1463eb8-b8b4-4cf8-eb7c-c1a0b8e3bfa1"
      },
      "execution_count": null,
      "outputs": [
        {
          "output_type": "execute_result",
          "data": {
            "text/plain": [
              "TotalCharges                   0.190708\n",
              "tenure                         0.171264\n",
              "MonthlyCharges                 0.158172\n",
              "InternetService_Fiber optic    0.031997\n",
              "gender                         0.029343\n",
              "Contract_Month-to-month        0.023358\n",
              "Partner_Yes                    0.020949\n",
              "dtype: float64"
            ]
          },
          "metadata": {},
          "execution_count": 56
        }
      ]
    },
    {
      "cell_type": "code",
      "source": [
        "# 램덤포레스트 모델의 변수중요도를 변수별로 중요도를 바챠트 출력\n",
        "# Series 함수 이용 : data=rfc.feature_importances_ , index=X.columns\n",
        "# sort_values 함수 활용하여 오름차순으로 정렬\n",
        "# 바챠트 그리기\n",
        "\n",
        "pd.Series(rfc.feature_importances_, index=X.columns).sort_values(ascending=False).plot(kind='bar')"
      ],
      "metadata": {
        "colab": {
          "base_uri": "https://localhost:8080/",
          "height": 739
        },
        "id": "aDjRJC6LkbCz",
        "outputId": "a827f5bb-2fc5-4951-c2a9-e150d2e54d7e"
      },
      "execution_count": null,
      "outputs": [
        {
          "output_type": "execute_result",
          "data": {
            "text/plain": [
              "<Axes: >"
            ]
          },
          "metadata": {},
          "execution_count": 57
        },
        {
          "output_type": "display_data",
          "data": {
            "text/plain": [
              "<Figure size 640x480 with 1 Axes>"
            ],
            "image/png": "[encoded data removed]"
          },
          "metadata": {}
        }
      ]
    },
    {
      "cell_type": "markdown",
      "metadata": {
        "id": "vxLwe2Qw0FUY"
      },
      "source": [
        "###  \n",
        "### 5) XGBoost\n",
        "+ 여러개의 DecisionTree를 결합하여 Strong Learner 만드는 Boosting 앙상블 기법\n",
        "+ Kaggle 대회에서 자주 사용하는 모델이다."
      ]
    },
    {
      "cell_type": "markdown",
      "metadata": {
        "id": "xw17wJya85Ms"
      },
      "source": [
        "**주요 특징**\n",
        "- scikit-learn 패키지가 아닙니다.\n",
        "- 성능이 우수함\n",
        "- GBM보다는 빠르고 성능도 향상되었습니다.\n",
        "- 여전히 학습시간이 매우 느리다"
      ]
    },
    {
      "cell_type": "markdown",
      "metadata": {
        "id": "-fAjfIX9Jpcx"
      },
      "source": [
        "**주요 Hyperparameter**\n",
        "- random_state: 랜덤 시드 고정 값. 고정해두고 튜닝할 것!\n",
        "- n_jobs: CPU 사용 갯수\n",
        "- learning_rate: 학습율. 너무 큰 학습율은 성능을 떨어뜨리고, 너무 작은 학습율은 학습이 느리다. 적절한 값을 찾아야함. n_estimators와 같이 튜닝. default=0.1\n",
        "- n_estimators: 부스팅 스테이지 수. (랜덤포레스트 트리의 갯수 설정과 비슷한 개념). default=100\n",
        "- max_depth: 트리의 깊이. 과대적합 방지용. default=3.\n",
        "- subsample: 샘플 사용 비율. 과대적합 방지용. default=1.0\n",
        "- max_features: 최대로 사용할 feature의 비율. 과대적합 방지용. default=1.0"
      ]
    },
    {
      "cell_type": "code",
      "execution_count": null,
      "metadata": {
        "colab": {
          "base_uri": "https://localhost:8080/"
        },
        "id": "ABeT1Opy0FUY",
        "outputId": "c9ec94a0-b191-44e9-98b4-484fc7e2e5d0"
      },
      "outputs": [
        {
          "output_type": "stream",
          "name": "stdout",
          "text": [
            "Requirement already satisfied: xgboost in /usr/local/lib/python3.10/dist-packages (2.0.3)\n",
            "Requirement already satisfied: numpy in /usr/local/lib/python3.10/dist-packages (from xgboost) (1.25.2)\n",
            "Requirement already satisfied: scipy in /usr/local/lib/python3.10/dist-packages (from xgboost) (1.11.4)\n"
          ]
        }
      ],
      "source": [
        "!pip install xgboost"
      ]
    },
    {
      "cell_type": "code",
      "execution_count": null,
      "metadata": {
        "id": "LH2Plwt60FUZ"
      },
      "outputs": [],
      "source": [
        "from xgboost import XGBClassifier, plot_importance"
      ]
    },
    {
      "cell_type": "code",
      "execution_count": null,
      "metadata": {
        "colab": {
          "base_uri": "https://localhost:8080/",
          "height": 248
        },
        "id": "hygo7t_j0FUZ",
        "outputId": "c970d8a2-7c92-41e6-a9ad-ff0ab6367a02"
      },
      "outputs": [
        {
          "output_type": "execute_result",
          "data": {
            "text/plain": [
              "XGBClassifier(base_score=None, booster=None, callbacks=None,\n",
              "              colsample_bylevel=None, colsample_bynode=None,\n",
              "              colsample_bytree=None, device=None, early_stopping_rounds=None,\n",
              "              enable_categorical=False, eval_metric=None, feature_types=None,\n",
              "              gamma=None, grow_policy=None, importance_type=None,\n",
              "              interaction_constraints=None, learning_rate=None, max_bin=None,\n",
              "              max_cat_threshold=None, max_cat_to_onehot=None,\n",
              "              max_delta_step=None, max_depth=None, max_leaves=None,\n",
              "              min_child_weight=None, missing=nan, monotone_constraints=None,\n",
              "              multi_strategy=None, n_estimators=3, n_jobs=None,\n",
              "              num_parallel_tree=None, random_state=42, ...)"
            ],
            "text/html": [
              "<style>#sk-container-id-5 {color: black;background-color: white;}#sk-container-id-5 pre{padding: 0;}#sk-container-id-5 div.sk-toggleable {background-color: white;}#sk-container-id-5 label.sk-toggleable__label {cursor: pointer;display: block;width: 100%;margin-bottom: 0;padding: 0.3em;box-sizing: border-box;text-align: center;}#sk-container-id-5 label.sk-toggleable__label-arrow:before {content: \"▸\";float: left;margin-right: 0.25em;color: #696969;}#sk-container-id-5 label.sk-toggleable__label-arrow:hover:before {color: black;}#sk-container-id-5 div.sk-estimator:hover label.sk-toggleable__label-arrow:before {color: black;}#sk-container-id-5 div.sk-toggleable__content {max-height: 0;max-width: 0;overflow: hidden;text-align: left;background-color: #f0f8ff;}#sk-container-id-5 div.sk-toggleable__content pre {margin: 0.2em;color: black;border-radius: 0.25em;background-color: #f0f8ff;}#sk-container-id-5 input.sk-toggleable__control:checked~div.sk-toggleable__content {max-height: 200px;max-width: 100%;overflow: auto;}#sk-container-id-5 input.sk-toggleable__control:checked~label.sk-toggleable__label-arrow:before {content: \"▾\";}#sk-container-id-5 div.sk-estimator input.sk-toggleable__control:checked~label.sk-toggleable__label {background-color: #d4ebff;}#sk-container-id-5 div.sk-label input.sk-toggleable__control:checked~label.sk-toggleable__label {background-color: #d4ebff;}#sk-container-id-5 input.sk-hidden--visually {border: 0;clip: rect(1px 1px 1px 1px);clip: rect(1px, 1px, 1px, 1px);height: 1px;margin: -1px;overflow: hidden;padding: 0;position: absolute;width: 1px;}#sk-container-id-5 div.sk-estimator {font-family: monospace;background-color: #f0f8ff;border: 1px dotted black;border-radius: 0.25em;box-sizing: border-box;margin-bottom: 0.5em;}#sk-container-id-5 div.sk-estimator:hover {background-color: #d4ebff;}#sk-container-id-5 div.sk-parallel-item::after {content: \"\";width: 100%;border-bottom: 1px solid gray;flex-grow: 1;}#sk-container-id-5 div.sk-label:hover label.sk-toggleable__label {background-color: #d4ebff;}#sk-container-id-5 div.sk-serial::before {content: \"\";position: absolute;border-left: 1px solid gray;box-sizing: border-box;top: 0;bottom: 0;left: 50%;z-index: 0;}#sk-container-id-5 div.sk-serial {display: flex;flex-direction: column;align-items: center;background-color: white;padding-right: 0.2em;padding-left: 0.2em;position: relative;}#sk-container-id-5 div.sk-item {position: relative;z-index: 1;}#sk-container-id-5 div.sk-parallel {display: flex;align-items: stretch;justify-content: center;background-color: white;position: relative;}#sk-container-id-5 div.sk-item::before, #sk-container-id-5 div.sk-parallel-item::before {content: \"\";position: absolute;border-left: 1px solid gray;box-sizing: border-box;top: 0;bottom: 0;left: 50%;z-index: -1;}#sk-container-id-5 div.sk-parallel-item {display: flex;flex-direction: column;z-index: 1;position: relative;background-color: white;}#sk-container-id-5 div.sk-parallel-item:first-child::after {align-self: flex-end;width: 50%;}#sk-container-id-5 div.sk-parallel-item:last-child::after {align-self: flex-start;width: 50%;}#sk-container-id-5 div.sk-parallel-item:only-child::after {width: 0;}#sk-container-id-5 div.sk-dashed-wrapped {border: 1px dashed gray;margin: 0 0.4em 0.5em 0.4em;box-sizing: border-box;padding-bottom: 0.4em;background-color: white;}#sk-container-id-5 div.sk-label label {font-family: monospace;font-weight: bold;display: inline-block;line-height: 1.2em;}#sk-container-id-5 div.sk-label-container {text-align: center;}#sk-container-id-5 div.sk-container {/* jupyter's `normalize.less` sets `[hidden] { display: none; }` but bootstrap.min.css set `[hidden] { display: none !important; }` so we also need the `!important` here to be able to override the default hidden behavior on the sphinx rendered scikit-learn.org. See: https://github.com/scikit-learn/scikit-learn/issues/21755 */display: inline-block !important;position: relative;}#sk-container-id-5 div.sk-text-repr-fallback {display: none;}</style><div id=\"sk-container-id-5\" class=\"sk-top-container\"><div class=\"sk-text-repr-fallback\"><pre>XGBClassifier(base_score=None, booster=None, callbacks=None,\n",
              "              colsample_bylevel=None, colsample_bynode=None,\n",
              "              colsample_bytree=None, device=None, early_stopping_rounds=None,\n",
              "              enable_categorical=False, eval_metric=None, feature_types=None,\n",
              "              gamma=None, grow_policy=None, importance_type=None,\n",
              "              interaction_constraints=None, learning_rate=None, max_bin=None,\n",
              "              max_cat_threshold=None, max_cat_to_onehot=None,\n",
              "              max_delta_step=None, max_depth=None, max_leaves=None,\n",
              "              min_child_weight=None, missing=nan, monotone_constraints=None,\n",
              "              multi_strategy=None, n_estimators=3, n_jobs=None,\n",
              "              num_parallel_tree=None, random_state=42, ...)</pre><b>In a Jupyter environment, please rerun this cell to show the HTML representation or trust the notebook. <br />On GitHub, the HTML representation is unable to render, please try loading this page with nbviewer.org.</b></div><div class=\"sk-container\" hidden><div class=\"sk-item\"><div class=\"sk-estimator sk-toggleable\"><input class=\"sk-toggleable__control sk-hidden--visually\" id=\"sk-estimator-id-5\" type=\"checkbox\" checked><label for=\"sk-estimator-id-5\" class=\"sk-toggleable__label sk-toggleable__label-arrow\">XGBClassifier</label><div class=\"sk-toggleable__content\"><pre>XGBClassifier(base_score=None, booster=None, callbacks=None,\n",
              "              colsample_bylevel=None, colsample_bynode=None,\n",
              "              colsample_bytree=None, device=None, early_stopping_rounds=None,\n",
              "              enable_categorical=False, eval_metric=None, feature_types=None,\n",
              "              gamma=None, grow_policy=None, importance_type=None,\n",
              "              interaction_constraints=None, learning_rate=None, max_bin=None,\n",
              "              max_cat_threshold=None, max_cat_to_onehot=None,\n",
              "              max_delta_step=None, max_depth=None, max_leaves=None,\n",
              "              min_child_weight=None, missing=nan, monotone_constraints=None,\n",
              "              multi_strategy=None, n_estimators=3, n_jobs=None,\n",
              "              num_parallel_tree=None, random_state=42, ...)</pre></div></div></div></div></div>"
            ]
          },
          "metadata": {},
          "execution_count": 60
        }
      ],
      "source": [
        "xgb = XGBClassifier(n_estimators=3, random_state=42)\n",
        "xgb.fit(X_train, y_train)"
      ]
    },
    {
      "cell_type": "code",
      "execution_count": null,
      "metadata": {
        "id": "YiIBtKi80FUZ"
      },
      "outputs": [],
      "source": [
        "xgb_pred = xgb.predict(X_test)"
      ]
    },
    {
      "cell_type": "code",
      "execution_count": null,
      "metadata": {
        "colab": {
          "base_uri": "https://localhost:8080/",
          "height": 511
        },
        "id": "kAKKoLLh0FUZ",
        "outputId": "2bff8a96-6da3-4769-ffe9-40971767323b"
      },
      "outputs": [
        {
          "output_type": "stream",
          "name": "stdout",
          "text": [
            "                   model     recall\n",
            "0     LogisticRegression  53.750000\n",
            "1           DecisionTree  51.428571\n",
            "2     K-Nearest Neighbor  49.642857\n",
            "3  RandomForest Ensemble  47.500000\n",
            "4                XGBoost  35.357143\n"
          ]
        },
        {
          "output_type": "display_data",
          "data": {
            "text/plain": [
              "<Figure size 1200x900 with 0 Axes>"
            ]
          },
          "metadata": {}
        },
        {
          "output_type": "display_data",
          "data": {
            "text/plain": [
              "<Figure size 1000x500 with 1 Axes>"
            ],
            "image/png": "[encoded data removed]"
          },
          "metadata": {}
        }
      ],
      "source": [
        "recall_eval('XGBoost', xgb_pred, y_test)"
      ]
    },
    {
      "cell_type": "markdown",
      "source": [
        "**변수중요도(Feature_importances_)**"
      ],
      "metadata": {
        "id": "mhTY6TLwu79L"
      }
    },
    {
      "cell_type": "code",
      "source": [
        "# XGB 모델의 38개의 Feature에 대한 중요도(feature_importances_) 보기\n",
        "xgb.feature_importances_"
      ],
      "metadata": {
        "colab": {
          "base_uri": "https://localhost:8080/"
        },
        "id": "kV2CkAQgm9Yf",
        "outputId": "b13b39cc-0ac5-4dc4-91d1-9f40375f146d"
      },
      "execution_count": null,
      "outputs": [
        {
          "output_type": "execute_result",
          "data": {
            "text/plain": [
              "array([0.0024292 , 0.02485147, 0.0079076 , 0.00530914, 0.00128671,\n",
              "       0.        , 0.00690611, 0.        , 0.01021896, 0.02797195,\n",
              "       0.00738976, 0.        , 0.14750683, 0.        , 0.0124954 ,\n",
              "       0.        , 0.        , 0.00969055, 0.        , 0.00082613,\n",
              "       0.03435532, 0.        , 0.        , 0.00435469, 0.        ,\n",
              "       0.        , 0.00637595, 0.        , 0.02393946, 0.622349  ,\n",
              "       0.02223588, 0.        , 0.00766868, 0.        , 0.        ,\n",
              "       0.00085007, 0.00785909, 0.00522195], dtype=float32)"
            ]
          },
          "metadata": {},
          "execution_count": 63
        }
      ]
    },
    {
      "cell_type": "code",
      "source": [
        "# XGB 모델에서 제공하는 변수 중요도 그래프 그리기 : plot_importance\n",
        "# f1~f3 (두번째 퓨쳐 ~ 네번째퓨쳐)가 중요한 퓨쳐임을 나타냄.\n",
        "# X.columns > ['gender', 'tenure', 'MonthlyCharges', 'TotalCharges', ....]\n",
        "\n",
        "plot_importance(xgb)"
      ],
      "metadata": {
        "colab": {
          "base_uri": "https://localhost:8080/",
          "height": 490
        },
        "id": "QopCXK4Pmw2w",
        "outputId": "13ca2675-4b26-4c1f-8156-4493ead60691"
      },
      "execution_count": null,
      "outputs": [
        {
          "output_type": "execute_result",
          "data": {
            "text/plain": [
              "<Axes: title={'center': 'Feature importance'}, xlabel='F score', ylabel='Features'>"
            ]
          },
          "metadata": {},
          "execution_count": 64
        },
        {
          "output_type": "display_data",
          "data": {
            "text/plain": [
              "<Figure size 640x480 with 1 Axes>"
            ],
            "image/png": "[encoded data removed]"
          },
          "metadata": {}
        }
      ]
    },
    {
      "cell_type": "markdown",
      "metadata": {
        "id": "QUvyyQcM0FUZ"
      },
      "source": [
        "###  \n",
        "### 6) Light GBM\n",
        "+ XGBoost와 함께 주목받는 DecisionTree 알고리즘 기반의 Boosting 앙상블 기법\n",
        "+ XGBoost에 비해 학습시간이 짧은 편이다."
      ]
    },
    {
      "cell_type": "markdown",
      "metadata": {
        "id": "Unk2_LocLD_I"
      },
      "source": [
        "**주요 특징**\n",
        "- scikit-learn 패키지가 아닙니다.\n",
        "- 성능이 우수함\n",
        "- 속도도 매우 빠릅니다."
      ]
    },
    {
      "cell_type": "markdown",
      "metadata": {
        "id": "GaKdEHJpLrm4"
      },
      "source": [
        "**주요 Hyperparameter**\n",
        "- random_state: 랜덤 시드 고정 값. 고정해두고 튜닝할 것!\n",
        "- n_jobs: CPU 사용 갯수\n",
        "- learning_rate: 학습율. 너무 큰 학습율은 성능을 떨어뜨리고, 너무 작은 학습율은 학습이 느리다. 적절한 값을 찾아야함. n_estimators와 같이 튜닝. default=0.1\n",
        "- n_estimators: 부스팅 스테이지 수. (랜덤포레스트 트리의 갯수 설정과 비슷한 개념). default=100\n",
        "- max_depth: 트리의 깊이. 과대적합 방지용. default=3.\n",
        "- colsample_bytree: 샘플 사용 비율 (max_features와 비슷한 개념). 과대적합 방지용. default=1.0"
      ]
    },
    {
      "cell_type": "code",
      "execution_count": null,
      "metadata": {
        "colab": {
          "base_uri": "https://localhost:8080/"
        },
        "id": "KeMfBOjQ0FUa",
        "outputId": "56810c2a-7ca6-473d-f6c1-14b86fce0991"
      },
      "outputs": [
        {
          "output_type": "stream",
          "name": "stdout",
          "text": [
            "Requirement already satisfied: lightgbm in /usr/local/lib/python3.10/dist-packages (4.1.0)\n",
            "Requirement already satisfied: numpy in /usr/local/lib/python3.10/dist-packages (from lightgbm) (1.25.2)\n",
            "Requirement already satisfied: scipy in /usr/local/lib/python3.10/dist-packages (from lightgbm) (1.11.4)\n"
          ]
        }
      ],
      "source": [
        "!pip install lightgbm"
      ]
    },
    {
      "cell_type": "code",
      "execution_count": null,
      "metadata": {
        "id": "190g_jQU0FUa"
      },
      "outputs": [],
      "source": [
        "from lightgbm import LGBMClassifier"
      ]
    },
    {
      "cell_type": "code",
      "execution_count": null,
      "metadata": {
        "colab": {
          "base_uri": "https://localhost:8080/",
          "height": 217
        },
        "id": "34NklLzz0FUa",
        "outputId": "6e193402-0106-4994-e438-cf79c32ae290"
      },
      "outputs": [
        {
          "output_type": "stream",
          "name": "stdout",
          "text": [
            "[LightGBM] [Info] Number of positive: 1306, number of negative: 3613\n",
            "[LightGBM] [Info] Auto-choosing row-wise multi-threading, the overhead of testing was 0.000861 seconds.\n",
            "You can set `force_row_wise=true` to remove the overhead.\n",
            "And if memory is not enough, you can set `force_col_wise=true`.\n",
            "[LightGBM] [Info] Total Bins 653\n",
            "[LightGBM] [Info] Number of data points in the train set: 4919, number of used features: 38\n",
            "[LightGBM] [Info] [binary:BoostFromScore]: pavg=0.265501 -> initscore=-1.017569\n",
            "[LightGBM] [Info] Start training from score -1.017569\n"
          ]
        },
        {
          "output_type": "execute_result",
          "data": {
            "text/plain": [
              "LGBMClassifier(n_estimators=3, random_state=42)"
            ],
            "text/html": [
              "<style>#sk-container-id-6 {color: black;background-color: white;}#sk-container-id-6 pre{padding: 0;}#sk-container-id-6 div.sk-toggleable {background-color: white;}#sk-container-id-6 label.sk-toggleable__label {cursor: pointer;display: block;width: 100%;margin-bottom: 0;padding: 0.3em;box-sizing: border-box;text-align: center;}#sk-container-id-6 label.sk-toggleable__label-arrow:before {content: \"▸\";float: left;margin-right: 0.25em;color: #696969;}#sk-container-id-6 label.sk-toggleable__label-arrow:hover:before {color: black;}#sk-container-id-6 div.sk-estimator:hover label.sk-toggleable__label-arrow:before {color: black;}#sk-container-id-6 div.sk-toggleable__content {max-height: 0;max-width: 0;overflow: hidden;text-align: left;background-color: #f0f8ff;}#sk-container-id-6 div.sk-toggleable__content pre {margin: 0.2em;color: black;border-radius: 0.25em;background-color: #f0f8ff;}#sk-container-id-6 input.sk-toggleable__control:checked~div.sk-toggleable__content {max-height: 200px;max-width: 100%;overflow: auto;}#sk-container-id-6 input.sk-toggleable__control:checked~label.sk-toggleable__label-arrow:before {content: \"▾\";}#sk-container-id-6 div.sk-estimator input.sk-toggleable__control:checked~label.sk-toggleable__label {background-color: #d4ebff;}#sk-container-id-6 div.sk-label input.sk-toggleable__control:checked~label.sk-toggleable__label {background-color: #d4ebff;}#sk-container-id-6 input.sk-hidden--visually {border: 0;clip: rect(1px 1px 1px 1px);clip: rect(1px, 1px, 1px, 1px);height: 1px;margin: -1px;overflow: hidden;padding: 0;position: absolute;width: 1px;}#sk-container-id-6 div.sk-estimator {font-family: monospace;background-color: #f0f8ff;border: 1px dotted black;border-radius: 0.25em;box-sizing: border-box;margin-bottom: 0.5em;}#sk-container-id-6 div.sk-estimator:hover {background-color: #d4ebff;}#sk-container-id-6 div.sk-parallel-item::after {content: \"\";width: 100%;border-bottom: 1px solid gray;flex-grow: 1;}#sk-container-id-6 div.sk-label:hover label.sk-toggleable__label {background-color: #d4ebff;}#sk-container-id-6 div.sk-serial::before {content: \"\";position: absolute;border-left: 1px solid gray;box-sizing: border-box;top: 0;bottom: 0;left: 50%;z-index: 0;}#sk-container-id-6 div.sk-serial {display: flex;flex-direction: column;align-items: center;background-color: white;padding-right: 0.2em;padding-left: 0.2em;position: relative;}#sk-container-id-6 div.sk-item {position: relative;z-index: 1;}#sk-container-id-6 div.sk-parallel {display: flex;align-items: stretch;justify-content: center;background-color: white;position: relative;}#sk-container-id-6 div.sk-item::before, #sk-container-id-6 div.sk-parallel-item::before {content: \"\";position: absolute;border-left: 1px solid gray;box-sizing: border-box;top: 0;bottom: 0;left: 50%;z-index: -1;}#sk-container-id-6 div.sk-parallel-item {display: flex;flex-direction: column;z-index: 1;position: relative;background-color: white;}#sk-container-id-6 div.sk-parallel-item:first-child::after {align-self: flex-end;width: 50%;}#sk-container-id-6 div.sk-parallel-item:last-child::after {align-self: flex-start;width: 50%;}#sk-container-id-6 div.sk-parallel-item:only-child::after {width: 0;}#sk-container-id-6 div.sk-dashed-wrapped {border: 1px dashed gray;margin: 0 0.4em 0.5em 0.4em;box-sizing: border-box;padding-bottom: 0.4em;background-color: white;}#sk-container-id-6 div.sk-label label {font-family: monospace;font-weight: bold;display: inline-block;line-height: 1.2em;}#sk-container-id-6 div.sk-label-container {text-align: center;}#sk-container-id-6 div.sk-container {/* jupyter's `normalize.less` sets `[hidden] { display: none; }` but bootstrap.min.css set `[hidden] { display: none !important; }` so we also need the `!important` here to be able to override the default hidden behavior on the sphinx rendered scikit-learn.org. See: https://github.com/scikit-learn/scikit-learn/issues/21755 */display: inline-block !important;position: relative;}#sk-container-id-6 div.sk-text-repr-fallback {display: none;}</style><div id=\"sk-container-id-6\" class=\"sk-top-container\"><div class=\"sk-text-repr-fallback\"><pre>LGBMClassifier(n_estimators=3, random_state=42)</pre><b>In a Jupyter environment, please rerun this cell to show the HTML representation or trust the notebook. <br />On GitHub, the HTML representation is unable to render, please try loading this page with nbviewer.org.</b></div><div class=\"sk-container\" hidden><div class=\"sk-item\"><div class=\"sk-estimator sk-toggleable\"><input class=\"sk-toggleable__control sk-hidden--visually\" id=\"sk-estimator-id-6\" type=\"checkbox\" checked><label for=\"sk-estimator-id-6\" class=\"sk-toggleable__label sk-toggleable__label-arrow\">LGBMClassifier</label><div class=\"sk-toggleable__content\"><pre>LGBMClassifier(n_estimators=3, random_state=42)</pre></div></div></div></div></div>"
            ]
          },
          "metadata": {},
          "execution_count": 67
        }
      ],
      "source": [
        "lgbm = LGBMClassifier(n_estimators=3, random_state=42)\n",
        "lgbm.fit(X_train, y_train)"
      ]
    },
    {
      "cell_type": "code",
      "execution_count": null,
      "metadata": {
        "id": "IqymXJLO0FUa"
      },
      "outputs": [],
      "source": [
        "lgbm_pred = lgbm.predict(X_test)"
      ]
    },
    {
      "cell_type": "code",
      "execution_count": null,
      "metadata": {
        "colab": {
          "base_uri": "https://localhost:8080/",
          "height": 592
        },
        "id": "wBLc6O9q0FUb",
        "outputId": "cf75f3e9-378f-4964-8d26-9ab988e1340d",
        "scrolled": false
      },
      "outputs": [
        {
          "output_type": "stream",
          "name": "stdout",
          "text": [
            "                   model     recall\n",
            "0     LogisticRegression  53.750000\n",
            "1           DecisionTree  51.428571\n",
            "2     K-Nearest Neighbor  49.642857\n",
            "3  RandomForest Ensemble  47.500000\n",
            "4                XGBoost  35.357143\n",
            "5                   LGBM   0.000000\n"
          ]
        },
        {
          "output_type": "display_data",
          "data": {
            "text/plain": [
              "<Figure size 1200x900 with 0 Axes>"
            ]
          },
          "metadata": {}
        },
        {
          "output_type": "display_data",
          "data": {
            "text/plain": [
              "<Figure size 1000x600 with 1 Axes>"
            ],
            "image/png": "[encoded data removed]"
          },
          "metadata": {}
        }
      ],
      "source": [
        "recall_eval('LGBM', lgbm_pred, y_test)"
      ]
    },
    {
      "cell_type": "code",
      "execution_count": null,
      "metadata": {
        "colab": {
          "base_uri": "https://localhost:8080/"
        },
        "id": "iEYoahG80FUb",
        "outputId": "2ec3ae56-b61c-4836-b984-e07218b61b70"
      },
      "outputs": [
        {
          "output_type": "execute_result",
          "data": {
            "text/plain": [
              "0.7344713134186819"
            ]
          },
          "metadata": {},
          "execution_count": 70
        }
      ],
      "source": [
        "# 정확도는 73% 정도 나온다.\n",
        "lgbm.score(X_test, y_test)"
      ]
    },
    {
      "cell_type": "code",
      "execution_count": null,
      "metadata": {
        "colab": {
          "base_uri": "https://localhost:8080/"
        },
        "id": "DzHQwJBf0FUb",
        "outputId": "256dd488-15f2-477a-817d-dbec814cac03"
      },
      "outputs": [
        {
          "output_type": "execute_result",
          "data": {
            "text/plain": [
              "0.0"
            ]
          },
          "metadata": {},
          "execution_count": 71
        }
      ],
      "source": [
        "# 재현율 0으로 나온다.\n",
        "recall_score(y_test, lgbm_pred)"
      ]
    },
    {
      "cell_type": "markdown",
      "source": [
        "**변수중요도(Feature_importances_)**"
      ],
      "metadata": {
        "id": "Jqe3imUMN9WK"
      }
    },
    {
      "cell_type": "code",
      "source": [
        "# Light GBM 모델의 38개의 Feature에 대한 중요도(feature_importances_) 보기\n",
        "lgbm.feature_importances_"
      ],
      "metadata": {
        "id": "zYGFYlqec_gq",
        "colab": {
          "base_uri": "https://localhost:8080/"
        },
        "outputId": "676aaad4-cfdb-4924-d99d-3482ab921af2"
      },
      "execution_count": null,
      "outputs": [
        {
          "output_type": "execute_result",
          "data": {
            "text/plain": [
              "array([ 2, 23, 17, 10,  0,  0,  1,  0,  2,  2,  0,  2,  2,  0,  3,  0,  0,\n",
              "        2,  0,  2,  4,  0,  0,  1,  0,  0,  1,  0,  1,  3,  3,  0,  3,  0,\n",
              "        0,  0,  5,  1], dtype=int32)"
            ]
          },
          "metadata": {},
          "execution_count": 72
        }
      ]
    },
    {
      "cell_type": "code",
      "source": [
        "# Light GBM 모델의 변수중요도를 변수별로 중요도를 상위 7개 출력\n",
        "\n",
        "pd.Series(lgbm.feature_importances_, index=X.columns).sort_values(ascending=False).head(7)"
      ],
      "metadata": {
        "colab": {
          "base_uri": "https://localhost:8080/"
        },
        "outputId": "872cb34b-fce8-4690-e593-95871cfcb303",
        "id": "aSrcvfBhrW0A"
      },
      "execution_count": null,
      "outputs": [
        {
          "output_type": "execute_result",
          "data": {
            "text/plain": [
              "tenure                            23\n",
              "MonthlyCharges                    17\n",
              "TotalCharges                      10\n",
              "PaymentMethod_Electronic check     5\n",
              "TechSupport_No                     4\n",
              "PaperlessBilling_No                3\n",
              "Contract_One year                  3\n",
              "dtype: int32"
            ]
          },
          "metadata": {},
          "execution_count": 73
        }
      ]
    },
    {
      "cell_type": "code",
      "source": [
        "# Light GBM 모델의 변수중요도를 변수별로 중요도를 바챠트 출력\n",
        "\n",
        "pd.Series(lgbm.feature_importances_, index=X.columns).sort_values(ascending=False).plot(kind='bar')"
      ],
      "metadata": {
        "colab": {
          "base_uri": "https://localhost:8080/",
          "height": 734
        },
        "outputId": "bc5a6558-6d72-4ba8-a5b0-80a1d5e3ca53",
        "id": "NvxHLT46rW0J"
      },
      "execution_count": null,
      "outputs": [
        {
          "output_type": "execute_result",
          "data": {
            "text/plain": [
              "<Axes: >"
            ]
          },
          "metadata": {},
          "execution_count": 74
        },
        {
          "output_type": "display_data",
          "data": {
            "text/plain": [
              "<Figure size 640x480 with 1 Axes>"
            ],
            "image/png": "[encoded data removed]"
          },
          "metadata": {}
        }
      ]
    },
    {
      "cell_type": "markdown",
      "source": [
        "###  \n",
        "### 7) GridSearchCV\n",
        "+ 입력된 하이퍼 파라미터의 값을 조합해서 각 조합마다\n",
        "+ 모델 성능을 평가, 비교하면서 최적의 하이퍼 파라미터 값을 찾는 과정\n",
        "+ 시간이 오래걸린다는 단점이 있으니 알아두세요!"
      ],
      "metadata": {
        "id": "o3iny95xdBvo"
      }
    },
    {
      "cell_type": "code",
      "source": [
        "# GridSearchCV 활용하여 xgb 모델의 최적의 하이퍼 파라미터를 찾습니다.\n",
        "# 1. 최적의 파라미터를 찾을 학습기 XGB 정의 합니다.\n",
        "# 2. 선정된 학습기에 대해 성능을 측정하고 싶은 하이퍼파라미터를 리스트를 정의 합니다.\n",
        "# 3. GridSearchCV 함수는 선정된 학습기에 조합된 하이퍼파라미터를 하나씩 대입해서 학습 및 성능 측정합니다.\n",
        "# 4. GridSearchCV 함수 수행이 완료 되면, 최적의 하이퍼파라미터을 찾을수 있게 됩니다.\n",
        "\n",
        "from sklearn.model_selection import GridSearchCV\n",
        "\n",
        "xgb = XGBClassifier(random_state=42)\n",
        "param_xgb = {\"max_depth\": [10, 15],\n",
        "             \"n_estimators\": [100,150] }\n",
        "\n",
        "grid_xgb = GridSearchCV (estimator = xgb, param_grid = param_xgb, )\n",
        "grid_xgb.fit(X_train, y_train)"
      ],
      "metadata": {
        "id": "0Bxe1sDoc_qi",
        "colab": {
          "base_uri": "https://localhost:8080/",
          "height": 117
        },
        "outputId": "89dd741c-8006-40a7-d4b7-76a6adb59514"
      },
      "execution_count": null,
      "outputs": [
        {
          "output_type": "execute_result",
          "data": {
            "text/plain": [
              "GridSearchCV(estimator=XGBClassifier(base_score=None, booster=None,\n",
              "                                     callbacks=None, colsample_bylevel=None,\n",
              "                                     colsample_bynode=None,\n",
              "                                     colsample_bytree=None, device=None,\n",
              "                                     early_stopping_rounds=None,\n",
              "                                     enable_categorical=False, eval_metric=None,\n",
              "                                     feature_types=None, gamma=None,\n",
              "                                     grow_policy=None, importance_type=None,\n",
              "                                     interaction_constraints=None,\n",
              "                                     learning_rate=None, max_bin=None,\n",
              "                                     max_cat_threshold=None,\n",
              "                                     max_cat_to_onehot=None,\n",
              "                                     max_delta_step=None, max_depth=None,\n",
              "                                     max_leaves=None, min_child_weight=None,\n",
              "                                     missing=nan, monotone_constraints=None,\n",
              "                                     multi_strategy=None, n_estimators=None,\n",
              "                                     n_jobs=None, num_parallel_tree=None,\n",
              "                                     random_state=42, ...),\n",
              "             param_grid={'max_depth': [10, 15], 'n_estimators': [100, 150]})"
            ],
            "text/html": [
              "<style>#sk-container-id-7 {color: black;background-color: white;}#sk-container-id-7 pre{padding: 0;}#sk-container-id-7 div.sk-toggleable {background-color: white;}#sk-container-id-7 label.sk-toggleable__label {cursor: pointer;display: block;width: 100%;margin-bottom: 0;padding: 0.3em;box-sizing: border-box;text-align: center;}#sk-container-id-7 label.sk-toggleable__label-arrow:before {content: \"▸\";float: left;margin-right: 0.25em;color: #696969;}#sk-container-id-7 label.sk-toggleable__label-arrow:hover:before {color: black;}#sk-container-id-7 div.sk-estimator:hover label.sk-toggleable__label-arrow:before {color: black;}#sk-container-id-7 div.sk-toggleable__content {max-height: 0;max-width: 0;overflow: hidden;text-align: left;background-color: #f0f8ff;}#sk-container-id-7 div.sk-toggleable__content pre {margin: 0.2em;color: black;border-radius: 0.25em;background-color: #f0f8ff;}#sk-container-id-7 input.sk-toggleable__control:checked~div.sk-toggleable__content {max-height: 200px;max-width: 100%;overflow: auto;}#sk-container-id-7 input.sk-toggleable__control:checked~label.sk-toggleable__label-arrow:before {content: \"▾\";}#sk-container-id-7 div.sk-estimator input.sk-toggleable__control:checked~label.sk-toggleable__label {background-color: #d4ebff;}#sk-container-id-7 div.sk-label input.sk-toggleable__control:checked~label.sk-toggleable__label {background-color: #d4ebff;}#sk-container-id-7 input.sk-hidden--visually {border: 0;clip: rect(1px 1px 1px 1px);clip: rect(1px, 1px, 1px, 1px);height: 1px;margin: -1px;overflow: hidden;padding: 0;position: absolute;width: 1px;}#sk-container-id-7 div.sk-estimator {font-family: monospace;background-color: #f0f8ff;border: 1px dotted black;border-radius: 0.25em;box-sizing: border-box;margin-bottom: 0.5em;}#sk-container-id-7 div.sk-estimator:hover {background-color: #d4ebff;}#sk-container-id-7 div.sk-parallel-item::after {content: \"\";width: 100%;border-bottom: 1px solid gray;flex-grow: 1;}#sk-container-id-7 div.sk-label:hover label.sk-toggleable__label {background-color: #d4ebff;}#sk-container-id-7 div.sk-serial::before {content: \"\";position: absolute;border-left: 1px solid gray;box-sizing: border-box;top: 0;bottom: 0;left: 50%;z-index: 0;}#sk-container-id-7 div.sk-serial {display: flex;flex-direction: column;align-items: center;background-color: white;padding-right: 0.2em;padding-left: 0.2em;position: relative;}#sk-container-id-7 div.sk-item {position: relative;z-index: 1;}#sk-container-id-7 div.sk-parallel {display: flex;align-items: stretch;justify-content: center;background-color: white;position: relative;}#sk-container-id-7 div.sk-item::before, #sk-container-id-7 div.sk-parallel-item::before {content: \"\";position: absolute;border-left: 1px solid gray;box-sizing: border-box;top: 0;bottom: 0;left: 50%;z-index: -1;}#sk-container-id-7 div.sk-parallel-item {display: flex;flex-direction: column;z-index: 1;position: relative;background-color: white;}#sk-container-id-7 div.sk-parallel-item:first-child::after {align-self: flex-end;width: 50%;}#sk-container-id-7 div.sk-parallel-item:last-child::after {align-self: flex-start;width: 50%;}#sk-container-id-7 div.sk-parallel-item:only-child::after {width: 0;}#sk-container-id-7 div.sk-dashed-wrapped {border: 1px dashed gray;margin: 0 0.4em 0.5em 0.4em;box-sizing: border-box;padding-bottom: 0.4em;background-color: white;}#sk-container-id-7 div.sk-label label {font-family: monospace;font-weight: bold;display: inline-block;line-height: 1.2em;}#sk-container-id-7 div.sk-label-container {text-align: center;}#sk-container-id-7 div.sk-container {/* jupyter's `normalize.less` sets `[hidden] { display: none; }` but bootstrap.min.css set `[hidden] { display: none !important; }` so we also need the `!important` here to be able to override the default hidden behavior on the sphinx rendered scikit-learn.org. See: https://github.com/scikit-learn/scikit-learn/issues/21755 */display: inline-block !important;position: relative;}#sk-container-id-7 div.sk-text-repr-fallback {display: none;}</style><div id=\"sk-container-id-7\" class=\"sk-top-container\"><div class=\"sk-text-repr-fallback\"><pre>GridSearchCV(estimator=XGBClassifier(base_score=None, booster=None,\n",
              "                                     callbacks=None, colsample_bylevel=None,\n",
              "                                     colsample_bynode=None,\n",
              "                                     colsample_bytree=None, device=None,\n",
              "                                     early_stopping_rounds=None,\n",
              "                                     enable_categorical=False, eval_metric=None,\n",
              "                                     feature_types=None, gamma=None,\n",
              "                                     grow_policy=None, importance_type=None,\n",
              "                                     interaction_constraints=None,\n",
              "                                     learning_rate=None, max_bin=None,\n",
              "                                     max_cat_threshold=None,\n",
              "                                     max_cat_to_onehot=None,\n",
              "                                     max_delta_step=None, max_depth=None,\n",
              "                                     max_leaves=None, min_child_weight=None,\n",
              "                                     missing=nan, monotone_constraints=None,\n",
              "                                     multi_strategy=None, n_estimators=None,\n",
              "                                     n_jobs=None, num_parallel_tree=None,\n",
              "                                     random_state=42, ...),\n",
              "             param_grid={&#x27;max_depth&#x27;: [10, 15], &#x27;n_estimators&#x27;: [100, 150]})</pre><b>In a Jupyter environment, please rerun this cell to show the HTML representation or trust the notebook. <br />On GitHub, the HTML representation is unable to render, please try loading this page with nbviewer.org.</b></div><div class=\"sk-container\" hidden><div class=\"sk-item sk-dashed-wrapped\"><div class=\"sk-label-container\"><div class=\"sk-label sk-toggleable\"><input class=\"sk-toggleable__control sk-hidden--visually\" id=\"sk-estimator-id-7\" type=\"checkbox\" ><label for=\"sk-estimator-id-7\" class=\"sk-toggleable__label sk-toggleable__label-arrow\">GridSearchCV</label><div class=\"sk-toggleable__content\"><pre>GridSearchCV(estimator=XGBClassifier(base_score=None, booster=None,\n",
              "                                     callbacks=None, colsample_bylevel=None,\n",
              "                                     colsample_bynode=None,\n",
              "                                     colsample_bytree=None, device=None,\n",
              "                                     early_stopping_rounds=None,\n",
              "                                     enable_categorical=False, eval_metric=None,\n",
              "                                     feature_types=None, gamma=None,\n",
              "                                     grow_policy=None, importance_type=None,\n",
              "                                     interaction_constraints=None,\n",
              "                                     learning_rate=None, max_bin=None,\n",
              "                                     max_cat_threshold=None,\n",
              "                                     max_cat_to_onehot=None,\n",
              "                                     max_delta_step=None, max_depth=None,\n",
              "                                     max_leaves=None, min_child_weight=None,\n",
              "                                     missing=nan, monotone_constraints=None,\n",
              "                                     multi_strategy=None, n_estimators=None,\n",
              "                                     n_jobs=None, num_parallel_tree=None,\n",
              "                                     random_state=42, ...),\n",
              "             param_grid={&#x27;max_depth&#x27;: [10, 15], &#x27;n_estimators&#x27;: [100, 150]})</pre></div></div></div><div class=\"sk-parallel\"><div class=\"sk-parallel-item\"><div class=\"sk-item\"><div class=\"sk-label-container\"><div class=\"sk-label sk-toggleable\"><input class=\"sk-toggleable__control sk-hidden--visually\" id=\"sk-estimator-id-8\" type=\"checkbox\" ><label for=\"sk-estimator-id-8\" class=\"sk-toggleable__label sk-toggleable__label-arrow\">estimator: XGBClassifier</label><div class=\"sk-toggleable__content\"><pre>XGBClassifier(base_score=None, booster=None, callbacks=None,\n",
              "              colsample_bylevel=None, colsample_bynode=None,\n",
              "              colsample_bytree=None, device=None, early_stopping_rounds=None,\n",
              "              enable_categorical=False, eval_metric=None, feature_types=None,\n",
              "              gamma=None, grow_policy=None, importance_type=None,\n",
              "              interaction_constraints=None, learning_rate=None, max_bin=None,\n",
              "              max_cat_threshold=None, max_cat_to_onehot=None,\n",
              "              max_delta_step=None, max_depth=None, max_leaves=None,\n",
              "              min_child_weight=None, missing=nan, monotone_constraints=None,\n",
              "              multi_strategy=None, n_estimators=None, n_jobs=None,\n",
              "              num_parallel_tree=None, random_state=42, ...)</pre></div></div></div><div class=\"sk-serial\"><div class=\"sk-item\"><div class=\"sk-estimator sk-toggleable\"><input class=\"sk-toggleable__control sk-hidden--visually\" id=\"sk-estimator-id-9\" type=\"checkbox\" ><label for=\"sk-estimator-id-9\" class=\"sk-toggleable__label sk-toggleable__label-arrow\">XGBClassifier</label><div class=\"sk-toggleable__content\"><pre>XGBClassifier(base_score=None, booster=None, callbacks=None,\n",
              "              colsample_bylevel=None, colsample_bynode=None,\n",
              "              colsample_bytree=None, device=None, early_stopping_rounds=None,\n",
              "              enable_categorical=False, eval_metric=None, feature_types=None,\n",
              "              gamma=None, grow_policy=None, importance_type=None,\n",
              "              interaction_constraints=None, learning_rate=None, max_bin=None,\n",
              "              max_cat_threshold=None, max_cat_to_onehot=None,\n",
              "              max_delta_step=None, max_depth=None, max_leaves=None,\n",
              "              min_child_weight=None, missing=nan, monotone_constraints=None,\n",
              "              multi_strategy=None, n_estimators=None, n_jobs=None,\n",
              "              num_parallel_tree=None, random_state=42, ...)</pre></div></div></div></div></div></div></div></div></div></div>"
            ]
          },
          "metadata": {},
          "execution_count": 75
        }
      ]
    },
    {
      "cell_type": "code",
      "source": [
        "print('XGB 최적의 하이퍼파라미터: ', grid_xgb.best_params_)\n",
        "print('XGB 예측 정확도: {:.4f}'.format(grid_xgb.best_score_))"
      ],
      "metadata": {
        "id": "FDnOqBGRc_tV",
        "colab": {
          "base_uri": "https://localhost:8080/"
        },
        "outputId": "80c41797-9a72-403e-c968-013a8fcf20c0"
      },
      "execution_count": null,
      "outputs": [
        {
          "output_type": "stream",
          "name": "stdout",
          "text": [
            "XGB 최적의 하이퍼파라미터:  {'max_depth': 10, 'n_estimators': 150}\n",
            "XGB 예측 정확도: 0.7806\n"
          ]
        }
      ]
    },
    {
      "cell_type": "code",
      "source": [
        "# 최적 파라미터의 학습기로 예측하기\n",
        "grid_pred = grid_xgb.best_estimator_.predict(X_test)"
      ],
      "metadata": {
        "id": "qLWLkqhqejmy"
      },
      "execution_count": null,
      "outputs": []
    },
    {
      "cell_type": "code",
      "source": [
        "recall_eval('Grid_XGB', grid_pred, y_test)"
      ],
      "metadata": {
        "id": "hyqSW2QCejpa",
        "colab": {
          "base_uri": "https://localhost:8080/",
          "height": 672
        },
        "outputId": "aeef522c-1f5e-4a22-8139-2f1f2de43c57"
      },
      "execution_count": null,
      "outputs": [
        {
          "output_type": "stream",
          "name": "stdout",
          "text": [
            "                   model     recall\n",
            "0     LogisticRegression  53.750000\n",
            "1           DecisionTree  51.428571\n",
            "2               Grid_XGB  50.000000\n",
            "3     K-Nearest Neighbor  49.642857\n",
            "4  RandomForest Ensemble  47.500000\n",
            "5                XGBoost  35.357143\n",
            "6                   LGBM   0.000000\n"
          ]
        },
        {
          "output_type": "display_data",
          "data": {
            "text/plain": [
              "<Figure size 1200x900 with 0 Axes>"
            ]
          },
          "metadata": {}
        },
        {
          "output_type": "display_data",
          "data": {
            "text/plain": [
              "<Figure size 1000x700 with 1 Axes>"
            ],
            "image/png": "[encoded data removed]"
          },
          "metadata": {}
        }
      ]
    },
    {
      "cell_type": "markdown",
      "metadata": {
        "id": "dwF8m19w0FUb"
      },
      "source": [
        "##  \n",
        "# <font color=red>2. 재현율 성능이 너무 안나온다. 어떻게 해결할수 있을까?</font>"
      ]
    },
    {
      "cell_type": "markdown",
      "source": [
        "<br>"
      ],
      "metadata": {
        "id": "5kE_2XH1wT38"
      }
    },
    {
      "cell_type": "markdown",
      "metadata": {
        "id": "KLSjCzg80FUc"
      },
      "source": [
        "##  \n",
        "## 배운 내용 정리\n",
        "1. 머신러닝 모델 프로세스 <br>\n",
        "① 라이브러리 임포트(import)  \n",
        "② 데이터 가져오기(Loading the data)  \n",
        "③ 탐색적 데이터 분석(Exploratory Data Analysis)  \n",
        "④ 데이터 전처리(Data PreProcessing) : 데이터타입 변환, Null 데이터 처리, 누락데이터 처리,\n",
        "더미특성 생성, 특성 추출 (feature engineering) 등  \n",
        "⑤ Train, Test  데이터셋 분할  \n",
        "⑥ 데이터 정규화(Normalizing the Data)  \n",
        "⑦ 모델 개발(Creating the Model)  \n",
        "⑧ 모델 성능 평가\n",
        "2. 평가 지표 활용 : 모델별 성능 확인을 위한 함수 (가져다 쓰면 된다)\n",
        "3. 단일 회귀예측 모델 : LogisticRegression, KNN, DecisionTree\n",
        "4. 앙상블 (Ensemble) : RandomForest, XGBoost, LGBM\n",
        "5. 재현율 성능이 너무 안나온다. 어떻게 해결할수 있을까?"
      ]
    },
    {
      "cell_type": "markdown",
      "metadata": {
        "id": "yAzbTaqgiFgX"
      },
      "source": [
        "<p>\n",
        "<p>\n",
        "<p>\n",
        "<p>\n"
      ]
    },
    {
      "cell_type": "markdown",
      "metadata": {
        "id": "vIyE-sM7ic8e"
      },
      "source": [
        "<p>\n",
        "<p>\n",
        "<p>"
      ]
    },
    {
      "cell_type": "markdown",
      "metadata": {
        "id": "xl4NCbZciiqY"
      },
      "source": [
        "<p>\n",
        "<p>\n",
        "<p>"
      ]
    },
    {
      "cell_type": "markdown",
      "metadata": {
        "id": "OE89vy1a0YH3"
      },
      "source": [
        "# [실습-정답] Python을 활용한 AI 모델링 - 딥러닝 파트\n",
        "+ 이번시간에는 Python을 활용한 AI 모델링에서 딥러닝에 대해 실습해 보겠습니다.\n",
        "+ 여기서는 딥러닝 모델 DNN에 대해 코딩하여 모델 구축해 보겠습니다.\n",
        "+ 한가지 당부 드리고 싶은 말은 \"백문이불여일타\" 입니다.\n",
        "+ 이론보다 실습이 더 많은 시간과 노력이 투자 되어야 합니다."
      ]
    },
    {
      "cell_type": "markdown",
      "metadata": {
        "id": "jiPP1idv0YH8"
      },
      "source": [
        "## 학습목차\n",
        "1. 딥러닝 심층신경망(DNN) 모델 프로세스\n",
        " - 데이터 가져오기\n",
        " - 데이터 전처리\n",
        " - Train, Test 데이터셋 분할\n",
        " - 데이터 정규화\n",
        " - DNN 딥러닝 모델\n",
        "2. 재현율 성능이 좋지 않다. 어떻게 성능향상 할수 있나?"
      ]
    },
    {
      "cell_type": "markdown",
      "metadata": {
        "id": "Zr3QI2qG0YH9"
      },
      "source": [
        "#  \n",
        "# 1. 딥러닝 심층신경망(DNN) 모델 프로세스\n",
        "① 라이브러리 임포트(import)  \n",
        "② 데이터 가져오기(Loading the data)  \n",
        "③ 탐색적 데이터 분석(Exploratory Data Analysis)  \n",
        "④ 데이터 전처리(Data PreProcessing) : 데이터타입 변환, Null 데이터 처리, 누락데이터 처리,\n",
        "더미특성 생성, 특성 추출 (feature engineering) 등  \n",
        "⑤ Train, Test  데이터셋 분할  \n",
        "⑥ 데이터 정규화(Normalizing the Data)  \n",
        "⑦ 모델 개발(Creating the Model)  \n",
        "⑧ 모델 성능 평가\n",
        "\n",
        "### <font color='red'>1 ~ 6번까지 완료한 상태</font>"
      ]
    },
    {
      "cell_type": "markdown",
      "metadata": {
        "id": "fUKskwle0YIM"
      },
      "source": [
        "## ⑦ 딥러닝 심층신경망(DNN) 모델 구현"
      ]
    },
    {
      "cell_type": "markdown",
      "metadata": {
        "id": "-qtH1IV_0YIM"
      },
      "source": [
        "####  \n",
        "### 라이브러리 임포트"
      ]
    },
    {
      "cell_type": "code",
      "execution_count": null,
      "metadata": {
        "id": "xZ-81qT80YIM"
      },
      "outputs": [],
      "source": [
        "import tensorflow as tf\n",
        "from tensorflow.keras.models import Sequential\n",
        "from tensorflow.keras.layers import Dense, Dropout\n",
        "\n",
        "tf.random.set_seed(100)"
      ]
    },
    {
      "cell_type": "markdown",
      "metadata": {
        "id": "VUDoigSc0YIM"
      },
      "source": [
        "####  \n",
        "### 하이퍼파라미터 설정 : batch_size, epochs"
      ]
    },
    {
      "cell_type": "code",
      "execution_count": null,
      "metadata": {
        "id": "zmEdqNNS0YIM"
      },
      "outputs": [],
      "source": [
        "batch_size = 16\n",
        "epochs = 20"
      ]
    },
    {
      "cell_type": "markdown",
      "metadata": {
        "id": "PqXbXmeD0YIN"
      },
      "source": [
        "####  \n",
        "### 모델 입력(features) 갯수 확인"
      ]
    },
    {
      "cell_type": "code",
      "execution_count": null,
      "metadata": {
        "colab": {
          "base_uri": "https://localhost:8080/"
        },
        "id": "zCUyUw6J0YIN",
        "outputId": "3cfaca32-34ec-4fc3-fa60-cf86a68c67ef"
      },
      "outputs": [
        {
          "output_type": "execute_result",
          "data": {
            "text/plain": [
              "(4919, 38)"
            ]
          },
          "metadata": {},
          "execution_count": 81
        }
      ],
      "source": [
        "X_train.shape"
      ]
    },
    {
      "cell_type": "markdown",
      "metadata": {
        "id": "L1mqWzpz0YIN"
      },
      "source": [
        "####  \n",
        "### 모델 출력(label) 갯수 확인"
      ]
    },
    {
      "cell_type": "code",
      "execution_count": null,
      "metadata": {
        "colab": {
          "base_uri": "https://localhost:8080/"
        },
        "id": "kzVC8VGO0YIN",
        "outputId": "02c35c96-8466-4dd4-e414-fea4a2a313c9"
      },
      "outputs": [
        {
          "output_type": "execute_result",
          "data": {
            "text/plain": [
              "(4919,)"
            ]
          },
          "metadata": {},
          "execution_count": 82
        }
      ],
      "source": [
        "y_train.shape"
      ]
    },
    {
      "cell_type": "markdown",
      "metadata": {
        "id": "1zLx5_rB0YIO"
      },
      "source": [
        "####  \n",
        "### A. 이진분류 DNN모델 구성"
      ]
    },
    {
      "cell_type": "markdown",
      "metadata": {
        "id": "zKKe_aOJ0YIO"
      },
      "source": [
        "![hidden Layer](https://github.com/gzone2000/TEMP_TEST/raw/master/hidden_layer1.PNG)\n",
        "+ [출처] https://subscription.packtpub.com/book/data/9781788995207/1/ch01lvl1sec03/deep-learning-intuition"
      ]
    },
    {
      "cell_type": "markdown",
      "metadata": {
        "id": "2LX2K8Hu0YIO"
      },
      "source": [
        "##### <font color=blue> **[문제] 요구사항대로 Sequential 모델을 만들어 보세요.** </font>"
      ]
    },
    {
      "cell_type": "code",
      "execution_count": null,
      "metadata": {
        "id": "Fygby0lS0YIO"
      },
      "outputs": [],
      "source": [
        "# Sequential() 모델 정의 하고 model로 저장\n",
        "# input layer는 input_shape=() 옵션을 사용한다.\n",
        "# 38개 input layer\n",
        "# unit 4개 hidden layer\n",
        "# unit 3개 hidden layer\n",
        "# 1개 output layser : 이진분류\n",
        "\n",
        "\n",
        "model = Sequential()\n",
        "model.add(Dense(4, activation='relu', input_shape=(38,)))\n",
        "model.add(Dense(3, activation='relu'))\n",
        "model.add(Dense(1, activation='sigmoid'))"
      ]
    },
    {
      "cell_type": "markdown",
      "metadata": {
        "id": "gRD_erqd0YIO"
      },
      "source": [
        "####  \n",
        "### 모델 확인"
      ]
    },
    {
      "cell_type": "code",
      "execution_count": null,
      "metadata": {
        "colab": {
          "base_uri": "https://localhost:8080/"
        },
        "id": "_dWPN4Hf0YIP",
        "outputId": "fb431d0b-1187-4442-ae3f-b3ab42ce9382"
      },
      "outputs": [
        {
          "output_type": "stream",
          "name": "stdout",
          "text": [
            "Model: \"sequential\"\n",
            "_________________________________________________________________\n",
            " Layer (type)                Output Shape              Param #   \n",
            "=================================================================\n",
            " dense (Dense)               (None, 4)                 156       \n",
            "                                                                 \n",
            " dense_1 (Dense)             (None, 3)                 15        \n",
            "                                                                 \n",
            " dense_2 (Dense)             (None, 1)                 4         \n",
            "                                                                 \n",
            "=================================================================\n",
            "Total params: 175 (700.00 Byte)\n",
            "Trainable params: 175 (700.00 Byte)\n",
            "Non-trainable params: 0 (0.00 Byte)\n",
            "_________________________________________________________________\n"
          ]
        }
      ],
      "source": [
        "model.summary()"
      ]
    },
    {
      "cell_type": "markdown",
      "metadata": {
        "id": "hArp-8W00YIP"
      },
      "source": [
        "####  \n",
        "### 모델 구성 -  과적합 방지"
      ]
    },
    {
      "cell_type": "markdown",
      "metadata": {
        "id": "P12SscRX0YIP"
      },
      "source": [
        "![dropout](https://github.com/gzone2000/TEMP_TEST/raw/master/dropout.PNG)\n",
        "+ [출처] https://medium.com/@amarbudhiraja/https-medium-com-amarbudhiraja-learning-less-to-learn-better-dropout-in-deep-machine-learning-74334da4bfc5"
      ]
    },
    {
      "cell_type": "code",
      "execution_count": null,
      "metadata": {
        "id": "hTZ0lfsB0YIP"
      },
      "outputs": [],
      "source": [
        "model = Sequential()\n",
        "model.add(Dense(4, activation='relu', input_shape=(38,)))\n",
        "model.add(Dropout(0.3))\n",
        "model.add(Dense(3, activation='relu'))\n",
        "model.add(Dropout(0.3))\n",
        "model.add(Dense(1, activation='sigmoid'))"
      ]
    },
    {
      "cell_type": "markdown",
      "metadata": {
        "id": "awF-BLSo0YIQ"
      },
      "source": [
        "####  \n",
        "### 과적합 방지 모델 확인"
      ]
    },
    {
      "cell_type": "code",
      "execution_count": null,
      "metadata": {
        "colab": {
          "base_uri": "https://localhost:8080/"
        },
        "id": "5EPZjdj80YIQ",
        "outputId": "78167e62-94f4-4520-d7e7-8e51725417a1"
      },
      "outputs": [
        {
          "output_type": "stream",
          "name": "stdout",
          "text": [
            "Model: \"sequential_1\"\n",
            "_________________________________________________________________\n",
            " Layer (type)                Output Shape              Param #   \n",
            "=================================================================\n",
            " dense_3 (Dense)             (None, 4)                 156       \n",
            "                                                                 \n",
            " dropout (Dropout)           (None, 4)                 0         \n",
            "                                                                 \n",
            " dense_4 (Dense)             (None, 3)                 15        \n",
            "                                                                 \n",
            " dropout_1 (Dropout)         (None, 3)                 0         \n",
            "                                                                 \n",
            " dense_5 (Dense)             (None, 1)                 4         \n",
            "                                                                 \n",
            "=================================================================\n",
            "Total params: 175 (700.00 Byte)\n",
            "Trainable params: 175 (700.00 Byte)\n",
            "Non-trainable params: 0 (0.00 Byte)\n",
            "_________________________________________________________________\n"
          ]
        }
      ],
      "source": [
        "model.summary()"
      ]
    },
    {
      "cell_type": "markdown",
      "metadata": {
        "id": "1VOruMmv0YIQ"
      },
      "source": [
        "####  \n",
        "### 모델 컴파일 – 이진 분류 모델"
      ]
    },
    {
      "cell_type": "code",
      "execution_count": null,
      "metadata": {
        "id": "nVZnbiNp0YIQ"
      },
      "outputs": [],
      "source": [
        "model.compile(optimizer='adam',\n",
        "              loss='binary_crossentropy',\n",
        "              metrics=['accuracy'])"
      ]
    },
    {
      "cell_type": "markdown",
      "metadata": {
        "id": "mHEfmI450YIQ"
      },
      "source": [
        "- 모델 컴파일 – 다중 분류 모델 (Y값을 One-Hot-Encoding 한경우) <br>\n",
        "model.compile(optimizer='adam', loss='categorical_crossentropy', metrics=['accuracy'])"
      ]
    },
    {
      "cell_type": "markdown",
      "metadata": {
        "id": "qvjLtvLO0YIR"
      },
      "source": [
        "- 모델 컴파일 – 다중 분류 모델  (Y값을 One-Hot-Encoding 하지 않은 경우) <br>\n",
        "model.compile(optimizer='adam', loss='sparse_categorical_crossentropy', metrics=['accuracy'])"
      ]
    },
    {
      "cell_type": "markdown",
      "metadata": {
        "id": "AK35wHQq0YIR"
      },
      "source": [
        "- 모델 컴파일 – 예측 모델\n",
        "model.compile(optimizer='adam', loss='mse', metrics=['mse', 'mae'])"
      ]
    },
    {
      "cell_type": "markdown",
      "metadata": {
        "id": "rTX4ExMb0YIR"
      },
      "source": [
        "####  \n",
        "### 모델 학습"
      ]
    },
    {
      "cell_type": "markdown",
      "metadata": {
        "id": "l-H8W9R80YIR"
      },
      "source": [
        "##### <font color=blue> **[문제] 요구사항대로 DNN 모델을 학습시키세요.** </font>\n",
        "+ 모델 이름 : model\n",
        "+ epoch : 10번\n",
        "+ batch_size : 10번"
      ]
    },
    {
      "cell_type": "code",
      "execution_count": null,
      "metadata": {
        "colab": {
          "base_uri": "https://localhost:8080/"
        },
        "id": "l0VkwonN0YIS",
        "outputId": "d4d78ca6-1fce-471a-f18d-63ad49b65bda"
      },
      "outputs": [
        {
          "output_type": "stream",
          "name": "stdout",
          "text": [
            "Epoch 1/10\n",
            "492/492 [==============================] - 3s 3ms/step - loss: 0.6597 - accuracy: 0.6831 - val_loss: 0.6077 - val_accuracy: 0.7345\n",
            "Epoch 2/10\n",
            "492/492 [==============================] - 1s 2ms/step - loss: 0.5676 - accuracy: 0.7341 - val_loss: 0.5048 - val_accuracy: 0.7345\n",
            "Epoch 3/10\n",
            "492/492 [==============================] - 1s 2ms/step - loss: 0.5396 - accuracy: 0.7345 - val_loss: 0.4840 - val_accuracy: 0.7345\n",
            "Epoch 4/10\n",
            "492/492 [==============================] - 1s 2ms/step - loss: 0.5190 - accuracy: 0.7345 - val_loss: 0.4719 - val_accuracy: 0.7345\n",
            "Epoch 5/10\n",
            "492/492 [==============================] - 1s 2ms/step - loss: 0.5027 - accuracy: 0.7345 - val_loss: 0.4623 - val_accuracy: 0.7345\n",
            "Epoch 6/10\n",
            "492/492 [==============================] - 2s 3ms/step - loss: 0.4996 - accuracy: 0.7345 - val_loss: 0.4589 - val_accuracy: 0.7345\n",
            "Epoch 7/10\n",
            "492/492 [==============================] - 2s 4ms/step - loss: 0.4962 - accuracy: 0.7351 - val_loss: 0.4585 - val_accuracy: 0.7345\n",
            "Epoch 8/10\n",
            "492/492 [==============================] - 1s 3ms/step - loss: 0.4942 - accuracy: 0.7410 - val_loss: 0.4569 - val_accuracy: 0.7345\n",
            "Epoch 9/10\n",
            "492/492 [==============================] - 1s 2ms/step - loss: 0.4924 - accuracy: 0.7373 - val_loss: 0.4532 - val_accuracy: 0.7345\n",
            "Epoch 10/10\n",
            "492/492 [==============================] - 1s 2ms/step - loss: 0.4892 - accuracy: 0.7400 - val_loss: 0.4518 - val_accuracy: 0.7345\n"
          ]
        },
        {
          "output_type": "execute_result",
          "data": {
            "text/plain": [
              "<keras.src.callbacks.History at 0x7ad03e977be0>"
            ]
          },
          "metadata": {},
          "execution_count": 88
        }
      ],
      "source": [
        "# 앞쪽에서 정의된 모델 이름 : model\n",
        "# Sequential 모델의 fit() 함수 사용\n",
        "# @인자\n",
        "### X, y : X_train, y_train\n",
        "### validation_data=(X_test, y_test)\n",
        "### epochs 10번\n",
        "### batch_size 10번\n",
        "\n",
        "\n",
        "model.fit(X_train, y_train,\n",
        "          validation_data=(X_test, y_test),\n",
        "          epochs=10,\n",
        "          batch_size=10)"
      ]
    },
    {
      "cell_type": "markdown",
      "metadata": {
        "id": "WPZYzqib0YIS"
      },
      "source": [
        "####  \n",
        "### B. 다중 분류 DNN 구성\n",
        "+ 13개 input layer\n",
        "+ unit 5개 hidden layer\n",
        "+ dropout\n",
        "+ unit 4개 hidden layer\n",
        "+ dropout\n",
        "+ 2개 output layser : 이진분류"
      ]
    },
    {
      "cell_type": "markdown",
      "metadata": {
        "id": "Opb5-0OI0YIS"
      },
      "source": [
        "![다중분류](https://github.com/gzone2000/TEMP_TEST/raw/master/hidden_layer2.PNG)\n",
        "+ [출처] https://www.educba.com/dnn-neural-network/"
      ]
    },
    {
      "cell_type": "code",
      "execution_count": null,
      "metadata": {
        "id": "k0Tiq3A40YIS"
      },
      "outputs": [],
      "source": [
        "# 38개 input layer\n",
        "# unit 5개 hidden layer\n",
        "# dropout\n",
        "# unit 4개 hidden layer\n",
        "# dropout\n",
        "# 2개 output layser : 다중분류\n",
        "\n",
        "model = Sequential()\n",
        "model.add(Dense(5, activation='relu', input_shape=(38,)))\n",
        "model.add(Dropout(0.3))\n",
        "model.add(Dense(4, activation='relu'))\n",
        "model.add(Dropout(0.3))\n",
        "model.add(Dense(2, activation='softmax'))"
      ]
    },
    {
      "cell_type": "markdown",
      "metadata": {
        "id": "sheeDtax0YIS"
      },
      "source": [
        "####  \n",
        "### 모델 확인"
      ]
    },
    {
      "cell_type": "code",
      "execution_count": null,
      "metadata": {
        "colab": {
          "base_uri": "https://localhost:8080/"
        },
        "id": "sLGbErrf0YIT",
        "outputId": "f8656773-a630-49e2-c791-70ee4787e314"
      },
      "outputs": [
        {
          "output_type": "stream",
          "name": "stdout",
          "text": [
            "Model: \"sequential_2\"\n",
            "_________________________________________________________________\n",
            " Layer (type)                Output Shape              Param #   \n",
            "=================================================================\n",
            " dense_6 (Dense)             (None, 5)                 195       \n",
            "                                                                 \n",
            " dropout_2 (Dropout)         (None, 5)                 0         \n",
            "                                                                 \n",
            " dense_7 (Dense)             (None, 4)                 24        \n",
            "                                                                 \n",
            " dropout_3 (Dropout)         (None, 4)                 0         \n",
            "                                                                 \n",
            " dense_8 (Dense)             (None, 2)                 10        \n",
            "                                                                 \n",
            "=================================================================\n",
            "Total params: 229 (916.00 Byte)\n",
            "Trainable params: 229 (916.00 Byte)\n",
            "Non-trainable params: 0 (0.00 Byte)\n",
            "_________________________________________________________________\n"
          ]
        }
      ],
      "source": [
        "model.summary()"
      ]
    },
    {
      "cell_type": "markdown",
      "metadata": {
        "id": "uSa3lsUp0YIT"
      },
      "source": [
        "####  \n",
        "### 모델 컴파일 – 다중 분류 모델"
      ]
    },
    {
      "cell_type": "code",
      "execution_count": null,
      "metadata": {
        "id": "8uqwCzFC0YIT"
      },
      "outputs": [],
      "source": [
        "model.compile(optimizer='adam',\n",
        "              loss='sparse_categorical_crossentropy',\n",
        "              metrics=['accuracy'])"
      ]
    },
    {
      "cell_type": "markdown",
      "metadata": {
        "id": "RhUlTphR0YIT"
      },
      "source": [
        "####  \n",
        "### 모델 학습"
      ]
    },
    {
      "cell_type": "code",
      "execution_count": null,
      "metadata": {
        "colab": {
          "base_uri": "https://localhost:8080/"
        },
        "id": "FfooZ2jr0YIT",
        "outputId": "99465230-d5c6-49f3-a2b9-348497985084"
      },
      "outputs": [
        {
          "output_type": "stream",
          "name": "stdout",
          "text": [
            "Epoch 1/20\n",
            "308/308 [==============================] - 3s 5ms/step - loss: 0.6057 - accuracy: 0.7156 - val_loss: 0.5200 - val_accuracy: 0.7345\n",
            "Epoch 2/20\n",
            "308/308 [==============================] - 1s 3ms/step - loss: 0.5328 - accuracy: 0.7337 - val_loss: 0.4802 - val_accuracy: 0.7345\n",
            "Epoch 3/20\n",
            "308/308 [==============================] - 1s 3ms/step - loss: 0.5155 - accuracy: 0.7345 - val_loss: 0.4630 - val_accuracy: 0.7345\n",
            "Epoch 4/20\n",
            "308/308 [==============================] - 1s 2ms/step - loss: 0.4975 - accuracy: 0.7345 - val_loss: 0.4550 - val_accuracy: 0.7345\n",
            "Epoch 5/20\n",
            "308/308 [==============================] - 1s 2ms/step - loss: 0.4919 - accuracy: 0.7345 - val_loss: 0.4506 - val_accuracy: 0.7345\n",
            "Epoch 6/20\n",
            "308/308 [==============================] - 1s 2ms/step - loss: 0.4824 - accuracy: 0.7345 - val_loss: 0.4469 - val_accuracy: 0.7345\n",
            "Epoch 7/20\n",
            "308/308 [==============================] - 1s 3ms/step - loss: 0.4878 - accuracy: 0.7345 - val_loss: 0.4443 - val_accuracy: 0.7345\n",
            "Epoch 8/20\n",
            "308/308 [==============================] - 1s 3ms/step - loss: 0.4794 - accuracy: 0.7345 - val_loss: 0.4431 - val_accuracy: 0.7345\n",
            "Epoch 9/20\n",
            "308/308 [==============================] - 1s 2ms/step - loss: 0.4799 - accuracy: 0.7345 - val_loss: 0.4422 - val_accuracy: 0.7345\n",
            "Epoch 10/20\n",
            "308/308 [==============================] - 1s 2ms/step - loss: 0.4783 - accuracy: 0.7345 - val_loss: 0.4395 - val_accuracy: 0.7345\n",
            "Epoch 11/20\n",
            "308/308 [==============================] - 1s 2ms/step - loss: 0.4754 - accuracy: 0.7345 - val_loss: 0.4381 - val_accuracy: 0.7345\n",
            "Epoch 12/20\n",
            "308/308 [==============================] - 1s 2ms/step - loss: 0.4727 - accuracy: 0.7345 - val_loss: 0.4364 - val_accuracy: 0.7345\n",
            "Epoch 13/20\n",
            "308/308 [==============================] - 1s 2ms/step - loss: 0.4714 - accuracy: 0.7345 - val_loss: 0.4375 - val_accuracy: 0.7345\n",
            "Epoch 14/20\n",
            "308/308 [==============================] - 1s 2ms/step - loss: 0.4735 - accuracy: 0.7345 - val_loss: 0.4361 - val_accuracy: 0.7345\n",
            "Epoch 15/20\n",
            "308/308 [==============================] - 1s 4ms/step - loss: 0.4744 - accuracy: 0.7345 - val_loss: 0.4387 - val_accuracy: 0.7345\n",
            "Epoch 16/20\n",
            "308/308 [==============================] - 1s 4ms/step - loss: 0.4711 - accuracy: 0.7345 - val_loss: 0.4358 - val_accuracy: 0.7345\n",
            "Epoch 17/20\n",
            "308/308 [==============================] - 1s 4ms/step - loss: 0.4757 - accuracy: 0.7345 - val_loss: 0.4364 - val_accuracy: 0.7345\n",
            "Epoch 18/20\n",
            "308/308 [==============================] - 1s 2ms/step - loss: 0.4670 - accuracy: 0.7361 - val_loss: 0.4422 - val_accuracy: 0.7345\n",
            "Epoch 19/20\n",
            "308/308 [==============================] - 1s 3ms/step - loss: 0.4682 - accuracy: 0.7345 - val_loss: 0.4352 - val_accuracy: 0.7345\n",
            "Epoch 20/20\n",
            "308/308 [==============================] - 1s 3ms/step - loss: 0.4700 - accuracy: 0.7382 - val_loss: 0.4359 - val_accuracy: 0.7345\n"
          ]
        }
      ],
      "source": [
        "history = model.fit(X_train, y_train,\n",
        "          validation_data=(X_test, y_test),\n",
        "          epochs=20,\n",
        "          batch_size=16)"
      ]
    },
    {
      "cell_type": "markdown",
      "metadata": {
        "id": "qsohXyXZ0YIT"
      },
      "source": [
        "####  \n",
        "### Callback : 조기종료, 모델 저장"
      ]
    },
    {
      "cell_type": "code",
      "execution_count": null,
      "metadata": {
        "id": "z7d_nFMf0YIU"
      },
      "outputs": [],
      "source": [
        "from tensorflow.keras.callbacks import EarlyStopping, ModelCheckpoint"
      ]
    },
    {
      "cell_type": "code",
      "execution_count": null,
      "metadata": {
        "id": "hoOULwhL0YIU"
      },
      "outputs": [],
      "source": [
        "# val_loss 모니터링해서 성능이 5번 지나도록 좋아지지 않으면 조기 종료\n",
        "early_stop = EarlyStopping(monitor='val_loss', verbose=1, patience=5)"
      ]
    },
    {
      "cell_type": "code",
      "execution_count": null,
      "metadata": {
        "id": "bKT5doN10YIU"
      },
      "outputs": [],
      "source": [
        "# val_loss 가장 낮은 값을 가질때마다 모델저장\n",
        "check_point = ModelCheckpoint('best_model.h5', verbose=1,\n",
        "                              monitor='val_loss', save_best_only=True)"
      ]
    },
    {
      "cell_type": "markdown",
      "metadata": {
        "id": "3IUAfPnJ0YIU"
      },
      "source": [
        "####  \n",
        "### 모델 학습"
      ]
    },
    {
      "cell_type": "code",
      "execution_count": null,
      "metadata": {
        "colab": {
          "base_uri": "https://localhost:8080/"
        },
        "id": "-TYvrlT90YIU",
        "outputId": "30aee53a-3636-44eb-c50d-fd14e3c82926"
      },
      "outputs": [
        {
          "output_type": "stream",
          "name": "stdout",
          "text": [
            "Epoch 1/50\n",
            "231/246 [===========================>..] - ETA: 0s - loss: 0.4755 - accuracy: 0.7331\n",
            "Epoch 1: val_loss improved from inf to 0.43614, saving model to best_model.h5\n",
            "246/246 [==============================] - 1s 3ms/step - loss: 0.4736 - accuracy: 0.7345 - val_loss: 0.4361 - val_accuracy: 0.7345\n",
            "Epoch 2/50\n",
            " 88/246 [=========>....................] - ETA: 0s - loss: 0.4608 - accuracy: 0.7392"
          ]
        },
        {
          "output_type": "stream",
          "name": "stderr",
          "text": [
            "/usr/local/lib/python3.10/dist-packages/keras/src/engine/training.py:3103: UserWarning: You are saving your model as an HDF5 file via `model.save()`. This file format is considered legacy. We recommend using instead the native Keras format, e.g. `model.save('my_model.keras')`.\n",
            "  saving_api.save_model(\n"
          ]
        },
        {
          "output_type": "stream",
          "name": "stdout",
          "text": [
            "234/246 [===========================>..] - ETA: 0s - loss: 0.4654 - accuracy: 0.7338\n",
            "Epoch 2: val_loss improved from 0.43614 to 0.43556, saving model to best_model.h5\n",
            "246/246 [==============================] - 1s 3ms/step - loss: 0.4662 - accuracy: 0.7345 - val_loss: 0.4356 - val_accuracy: 0.7345\n",
            "Epoch 3/50\n",
            "228/246 [==========================>...] - ETA: 0s - loss: 0.4654 - accuracy: 0.7364\n",
            "Epoch 3: val_loss improved from 0.43556 to 0.43486, saving model to best_model.h5\n",
            "246/246 [==============================] - 1s 2ms/step - loss: 0.4663 - accuracy: 0.7345 - val_loss: 0.4349 - val_accuracy: 0.7345\n",
            "Epoch 4/50\n",
            "226/246 [==========================>...] - ETA: 0s - loss: 0.4681 - accuracy: 0.7662\n",
            "Epoch 4: val_loss improved from 0.43486 to 0.43435, saving model to best_model.h5\n",
            "246/246 [==============================] - 1s 2ms/step - loss: 0.4663 - accuracy: 0.7640 - val_loss: 0.4344 - val_accuracy: 0.7345\n",
            "Epoch 5/50\n",
            "245/246 [============================>.] - ETA: 0s - loss: 0.4683 - accuracy: 0.7512\n",
            "Epoch 5: val_loss improved from 0.43435 to 0.43402, saving model to best_model.h5\n",
            "246/246 [==============================] - 1s 2ms/step - loss: 0.4679 - accuracy: 0.7514 - val_loss: 0.4340 - val_accuracy: 0.7345\n",
            "Epoch 6/50\n",
            "225/246 [==========================>...] - ETA: 0s - loss: 0.4666 - accuracy: 0.7662\n",
            "Epoch 6: val_loss did not improve from 0.43402\n",
            "246/246 [==============================] - 1s 2ms/step - loss: 0.4659 - accuracy: 0.7654 - val_loss: 0.4344 - val_accuracy: 0.8018\n",
            "Epoch 7/50\n",
            "215/246 [=========================>....] - ETA: 0s - loss: 0.4709 - accuracy: 0.7616\n",
            "Epoch 7: val_loss did not improve from 0.43402\n",
            "246/246 [==============================] - 1s 2ms/step - loss: 0.4683 - accuracy: 0.7609 - val_loss: 0.4351 - val_accuracy: 0.8070\n",
            "Epoch 8/50\n",
            "232/246 [===========================>..] - ETA: 0s - loss: 0.4666 - accuracy: 0.7601\n",
            "Epoch 8: val_loss did not improve from 0.43402\n",
            "246/246 [==============================] - 1s 2ms/step - loss: 0.4672 - accuracy: 0.7597 - val_loss: 0.4356 - val_accuracy: 0.8013\n",
            "Epoch 9/50\n",
            "233/246 [===========================>..] - ETA: 0s - loss: 0.4702 - accuracy: 0.7376\n",
            "Epoch 9: val_loss did not improve from 0.43402\n",
            "246/246 [==============================] - 1s 2ms/step - loss: 0.4703 - accuracy: 0.7378 - val_loss: 0.4366 - val_accuracy: 0.8028\n",
            "Epoch 10/50\n",
            "246/246 [==============================] - ETA: 0s - loss: 0.4704 - accuracy: 0.7453\n",
            "Epoch 10: val_loss did not improve from 0.43402\n",
            "246/246 [==============================] - 1s 2ms/step - loss: 0.4704 - accuracy: 0.7453 - val_loss: 0.4346 - val_accuracy: 0.7971\n",
            "Epoch 10: early stopping\n"
          ]
        }
      ],
      "source": [
        "history = model.fit(x=X_train, y=y_train,\n",
        "          epochs=50 , batch_size=20,\n",
        "          validation_data=(X_test, y_test), verbose=1,\n",
        "          callbacks=[early_stop, check_point])"
      ]
    },
    {
      "cell_type": "markdown",
      "metadata": {
        "id": "pWF_TAU-0YIV"
      },
      "source": [
        "####  \n",
        "## ⑧ 모델 성능 평가"
      ]
    },
    {
      "cell_type": "markdown",
      "metadata": {
        "id": "LwkmcZV90YIV"
      },
      "source": [
        "### 성능 시각화"
      ]
    },
    {
      "cell_type": "code",
      "execution_count": null,
      "metadata": {
        "colab": {
          "base_uri": "https://localhost:8080/",
          "height": 472
        },
        "id": "p3Z4OGG40YIW",
        "scrolled": true,
        "outputId": "790a7922-cc6b-400d-c132-cbc6d495db42"
      },
      "outputs": [
        {
          "output_type": "display_data",
          "data": {
            "text/plain": [
              "<Figure size 640x480 with 1 Axes>"
            ],
            "image/png": "[encoded data removed]"
          },
          "metadata": {}
        }
      ],
      "source": [
        "plt.plot(history.history['accuracy'])\n",
        "plt.plot(history.history['val_accuracy'])\n",
        "plt.title('Accuracy')\n",
        "plt.xlabel('Epochs')\n",
        "plt.ylabel('Acc')\n",
        "plt.legend(['acc', 'val_acc'])\n",
        "plt.show()"
      ]
    },
    {
      "cell_type": "markdown",
      "metadata": {
        "id": "1u_eyBJL0YIW"
      },
      "source": [
        "### 성능 평가"
      ]
    },
    {
      "cell_type": "code",
      "execution_count": null,
      "metadata": {
        "id": "7tztF7yi0YIW"
      },
      "outputs": [],
      "source": [
        "from sklearn.metrics import accuracy_score, precision_score, recall_score, f1_score\n",
        "from sklearn.metrics import classification_report"
      ]
    },
    {
      "cell_type": "code",
      "execution_count": null,
      "metadata": {
        "colab": {
          "base_uri": "https://localhost:8080/"
        },
        "id": "3IWrThr20YIW",
        "outputId": "c0e85389-c50c-44e9-b6ed-13144a5d9294"
      },
      "outputs": [
        {
          "output_type": "stream",
          "name": "stdout",
          "text": [
            "66/66 [==============================] - 0s 1ms/step\n"
          ]
        }
      ],
      "source": [
        "pred = model.predict(X_test)"
      ]
    },
    {
      "cell_type": "code",
      "execution_count": null,
      "metadata": {
        "colab": {
          "base_uri": "https://localhost:8080/"
        },
        "id": "y_q7Pz-j0YIW",
        "outputId": "d1848182-03a1-4038-ba9e-3dce9c84bf66"
      },
      "outputs": [
        {
          "output_type": "execute_result",
          "data": {
            "text/plain": [
              "(2109, 2)"
            ]
          },
          "metadata": {},
          "execution_count": 100
        }
      ],
      "source": [
        "pred.shape"
      ]
    },
    {
      "cell_type": "code",
      "execution_count": null,
      "metadata": {
        "id": "ogC2i7810YIa"
      },
      "outputs": [],
      "source": [
        "y_pred = np.argmax(pred, axis=1)"
      ]
    },
    {
      "cell_type": "code",
      "execution_count": null,
      "metadata": {
        "colab": {
          "base_uri": "https://localhost:8080/"
        },
        "id": "nEI_Exmv0YIa",
        "outputId": "ad575d39-16fe-481f-dd4d-967ace4b8c98"
      },
      "outputs": [
        {
          "output_type": "execute_result",
          "data": {
            "text/plain": [
              "0.7970602181128497"
            ]
          },
          "metadata": {},
          "execution_count": 102
        }
      ],
      "source": [
        "# 정확도 80%\n",
        "accuracy_score(y_test, y_pred)"
      ]
    },
    {
      "cell_type": "code",
      "execution_count": null,
      "metadata": {
        "colab": {
          "base_uri": "https://localhost:8080/"
        },
        "id": "Ftb7Y6K_0YIa",
        "outputId": "9eff247b-0909-4889-c14e-dd738b71ffdb"
      },
      "outputs": [
        {
          "output_type": "execute_result",
          "data": {
            "text/plain": [
              "0.3482142857142857"
            ]
          },
          "metadata": {},
          "execution_count": 103
        }
      ],
      "source": [
        "# 재현율 성능이 좋지 않다\n",
        "recall_score(y_test, y_pred)"
      ]
    },
    {
      "cell_type": "code",
      "execution_count": null,
      "metadata": {
        "colab": {
          "base_uri": "https://localhost:8080/"
        },
        "id": "zEdx0ESm0YIb",
        "outputId": "36cdef34-809d-4a31-e41f-56f3d598cac1"
      },
      "outputs": [
        {
          "output_type": "stream",
          "name": "stdout",
          "text": [
            "              precision    recall  f1-score   support\n",
            "\n",
            "           0       0.80      0.96      0.87      1549\n",
            "           1       0.76      0.35      0.48       560\n",
            "\n",
            "    accuracy                           0.80      2109\n",
            "   macro avg       0.78      0.65      0.68      2109\n",
            "weighted avg       0.79      0.80      0.77      2109\n",
            "\n"
          ]
        }
      ],
      "source": [
        "# accuracy, recall, precision 성능 한번에 보기\n",
        "\n",
        "print(classification_report(y_test, y_pred))"
      ]
    },
    {
      "cell_type": "markdown",
      "metadata": {
        "id": "7897QYB80YIb"
      },
      "source": [
        "#  \n",
        "# 2. 재현율 성능이 좋지 않다. 어떻게 성능향상 할수 있나?\n",
        "+ 성능향상 할수 있는 방법은 여러가지 있습니다.\n",
        "+ DNN 하이퍼 파라미터 수정하면서 성능향상이 되는지 확인\n",
        "+ 데이터 줄이거나 늘리거나, Feature(컬럼)을 늘리거나 줄이거나 하는 식의 Feature Engineering 방법"
      ]
    },
    {
      "cell_type": "markdown",
      "metadata": {
        "id": "fiWiXYwK0YIb"
      },
      "source": [
        "####  \n",
        "## Feature Engineering 통한 성능향상\n",
        "+ 불균현 Churn 데이터 균형 맞추기 : OverSampling, UnderSampling\n",
        "+ OverSampling 기법 : SMOTE(Synthetic Minority Over-sampling Technique)\n",
        "+ 참조사이트 : https://datascienceschool.net/03%20machine%20learning/14.02%20%EB%B9%84%EB%8C%80%EC%B9%AD%20%EB%8D%B0%EC%9D%B4%ED%84%B0%20%EB%AC%B8%EC%A0%9C.html"
      ]
    },
    {
      "cell_type": "markdown",
      "metadata": {
        "id": "b3YkI1TY0YIb"
      },
      "source": [
        "![SMOTE](https://github.com/gzone2000/TEMP_TEST/raw/master/SMOTE.png)"
      ]
    },
    {
      "cell_type": "markdown",
      "metadata": {
        "id": "kstnDhLB0YIb"
      },
      "source": [
        "### imbalanced-learn 패키지 설치\n",
        "+ imbalanced data 문제를 해결하기 위한 다양한 샘플링 방법을 구현한 파이썬 패키지"
      ]
    },
    {
      "cell_type": "code",
      "execution_count": null,
      "metadata": {
        "colab": {
          "base_uri": "https://localhost:8080/"
        },
        "id": "0Z0Qetyc0YIb",
        "scrolled": true,
        "outputId": "b4095dc8-51be-4aca-e914-296e7c3a7379"
      },
      "outputs": [
        {
          "output_type": "stream",
          "name": "stdout",
          "text": [
            "Requirement already satisfied: imbalanced-learn in /usr/local/lib/python3.10/dist-packages (0.10.1)\n",
            "Collecting imbalanced-learn\n",
            "  Downloading imbalanced_learn-0.12.3-py3-none-any.whl (258 kB)\n",
            "\u001b[2K     \u001b[90m━━━━━━━━━━━━━━━━━━━━━━━━━━━━━━━━━━━━━━━━\u001b[0m \u001b[32m258.3/258.3 kB\u001b[0m \u001b[31m3.6 MB/s\u001b[0m eta \u001b[36m0:00:00\u001b[0m\n",
            "\u001b[?25hRequirement already satisfied: numpy>=1.17.3 in /usr/local/lib/python3.10/dist-packages (from imbalanced-learn) (1.25.2)\n",
            "Requirement already satisfied: scipy>=1.5.0 in /usr/local/lib/python3.10/dist-packages (from imbalanced-learn) (1.11.4)\n",
            "Requirement already satisfied: scikit-learn>=1.0.2 in /usr/local/lib/python3.10/dist-packages (from imbalanced-learn) (1.2.2)\n",
            "Requirement already satisfied: joblib>=1.1.1 in /usr/local/lib/python3.10/dist-packages (from imbalanced-learn) (1.4.2)\n",
            "Requirement already satisfied: threadpoolctl>=2.0.0 in /usr/local/lib/python3.10/dist-packages (from imbalanced-learn) (3.5.0)\n",
            "Installing collected packages: imbalanced-learn\n",
            "  Attempting uninstall: imbalanced-learn\n",
            "    Found existing installation: imbalanced-learn 0.10.1\n",
            "    Uninstalling imbalanced-learn-0.10.1:\n",
            "      Successfully uninstalled imbalanced-learn-0.10.1\n",
            "Successfully installed imbalanced-learn-0.12.3\n"
          ]
        }
      ],
      "source": [
        "!pip install -U imbalanced-learn"
      ]
    },
    {
      "cell_type": "markdown",
      "metadata": {
        "id": "3dvd2MA-0YIc"
      },
      "source": [
        "####  \n",
        "### SMOTE 함수 이용하여 Oversampling"
      ]
    },
    {
      "cell_type": "code",
      "execution_count": null,
      "metadata": {
        "id": "wCdb2lYr0YIc"
      },
      "outputs": [],
      "source": [
        "from imblearn.over_sampling import SMOTE"
      ]
    },
    {
      "cell_type": "code",
      "execution_count": null,
      "metadata": {
        "id": "Vr-FkjZC0YIc"
      },
      "outputs": [],
      "source": [
        "# SMOTE 함수 정의 및 Oversampling 수행\n",
        "\n",
        "smote = SMOTE(random_state=0)\n",
        "X_train_over, y_train_over = smote.fit_resample(X_train, y_train)"
      ]
    },
    {
      "cell_type": "code",
      "execution_count": null,
      "metadata": {
        "colab": {
          "base_uri": "https://localhost:8080/"
        },
        "id": "AWs6dQU50YIc",
        "outputId": "ff425978-e8c3-491d-8d46-074edb834d40"
      },
      "outputs": [
        {
          "output_type": "stream",
          "name": "stdout",
          "text": [
            "SMOTE 적용 전 학습용 피처/레이블 데이터 세트:  (4919, 38) (4919,)\n",
            "SMOTE 적용 후 학습용 피처/레이블 데이터 세트:  (7226, 38) (7226,)\n"
          ]
        }
      ],
      "source": [
        "print('SMOTE 적용 전 학습용 피처/레이블 데이터 세트: ', X_train.shape, y_train.shape)\n",
        "print('SMOTE 적용 후 학습용 피처/레이블 데이터 세트: ', X_train_over.shape, y_train_over.shape)"
      ]
    },
    {
      "cell_type": "code",
      "execution_count": null,
      "metadata": {
        "colab": {
          "base_uri": "https://localhost:8080/"
        },
        "id": "RPPj3I2T0YId",
        "outputId": "74d32916-4e3b-4ea1-ae22-ee1b67acc04f"
      },
      "outputs": [
        {
          "output_type": "execute_result",
          "data": {
            "text/plain": [
              "Churn\n",
              "0    3613\n",
              "1    3613\n",
              "Name: count, dtype: int64"
            ]
          },
          "metadata": {},
          "execution_count": 109
        }
      ],
      "source": [
        "# SMOTE 적용 후 레이블 값 분포 : 0과 1 갯수가 동일\n",
        "pd.Series(y_train_over).value_counts()"
      ]
    },
    {
      "cell_type": "markdown",
      "metadata": {
        "id": "pXNCh5DU0YId"
      },
      "source": [
        "####  \n",
        "### 모델 개발(Creating the Model)"
      ]
    },
    {
      "cell_type": "code",
      "execution_count": null,
      "metadata": {
        "id": "aqHIkUKF0YIe"
      },
      "outputs": [],
      "source": [
        "model = Sequential()\n",
        "model.add(Dense(64, activation='relu', input_shape=(38,)))\n",
        "model.add(Dropout(0.3))\n",
        "model.add(Dense(32, activation='relu'))\n",
        "model.add(Dropout(0.3))\n",
        "model.add(Dense(16, activation='relu'))\n",
        "model.add(Dropout(0.3))\n",
        "model.add(Dense(2, activation='softmax'))"
      ]
    },
    {
      "cell_type": "code",
      "execution_count": null,
      "metadata": {
        "id": "Q11y4xL00YIe"
      },
      "outputs": [],
      "source": [
        "model.compile(optimizer='adam',\n",
        "              loss='sparse_categorical_crossentropy',\n",
        "              metrics=['accuracy'])"
      ]
    },
    {
      "cell_type": "code",
      "execution_count": null,
      "metadata": {
        "id": "BEtI8XeR0YIe"
      },
      "outputs": [],
      "source": [
        "# 여기서는 val_accuracy 모니터링해서 성능이 좋아지지 않으면 조기 종료 하게 함.\n",
        "early_stop = EarlyStopping(monitor='val_accuracy', verbose=1, patience=5)"
      ]
    },
    {
      "cell_type": "code",
      "execution_count": null,
      "metadata": {
        "id": "Rby6O0xa0YIe"
      },
      "outputs": [],
      "source": [
        "check_point = ModelCheckpoint('best_model.h5', verbose=1,\n",
        "                              monitor='val_loss', save_best_only=True)"
      ]
    },
    {
      "cell_type": "code",
      "execution_count": null,
      "metadata": {
        "colab": {
          "base_uri": "https://localhost:8080/"
        },
        "id": "-VXAZpC00YIe",
        "outputId": "ceae0d67-bf31-49d6-9efc-204c5eaa8026"
      },
      "outputs": [
        {
          "output_type": "stream",
          "name": "stdout",
          "text": [
            "Epoch 1/50\n",
            "221/226 [============================>.] - ETA: 0s - loss: 0.6071 - accuracy: 0.6704\n",
            "Epoch 1: val_loss improved from inf to 0.48089, saving model to best_model.h5\n",
            "226/226 [==============================] - 6s 11ms/step - loss: 0.6057 - accuracy: 0.6713 - val_loss: 0.4809 - val_accuracy: 0.7515\n",
            "Epoch 2/50\n",
            "  1/226 [..............................] - ETA: 3s - loss: 0.5273 - accuracy: 0.6875"
          ]
        },
        {
          "output_type": "stream",
          "name": "stderr",
          "text": [
            "/usr/local/lib/python3.10/dist-packages/keras/src/engine/training.py:3103: UserWarning: You are saving your model as an HDF5 file via `model.save()`. This file format is considered legacy. We recommend using instead the native Keras format, e.g. `model.save('my_model.keras')`.\n",
            "  saving_api.save_model(\n"
          ]
        },
        {
          "output_type": "stream",
          "name": "stdout",
          "text": [
            "223/226 [============================>.] - ETA: 0s - loss: 0.5198 - accuracy: 0.7522\n",
            "Epoch 2: val_loss did not improve from 0.48089\n",
            "226/226 [==============================] - 2s 9ms/step - loss: 0.5209 - accuracy: 0.7515 - val_loss: 0.4883 - val_accuracy: 0.7349\n",
            "Epoch 3/50\n",
            "217/226 [===========================>..] - ETA: 0s - loss: 0.5036 - accuracy: 0.7591\n",
            "Epoch 3: val_loss improved from 0.48089 to 0.47758, saving model to best_model.h5\n",
            "226/226 [==============================] - 2s 8ms/step - loss: 0.5016 - accuracy: 0.7603 - val_loss: 0.4776 - val_accuracy: 0.7530\n",
            "Epoch 4/50\n",
            "220/226 [============================>.] - ETA: 0s - loss: 0.4884 - accuracy: 0.7656\n",
            "Epoch 4: val_loss improved from 0.47758 to 0.47380, saving model to best_model.h5\n",
            "226/226 [==============================] - 2s 10ms/step - loss: 0.4875 - accuracy: 0.7658 - val_loss: 0.4738 - val_accuracy: 0.7392\n",
            "Epoch 5/50\n",
            "226/226 [==============================] - ETA: 0s - loss: 0.4880 - accuracy: 0.7676\n",
            "Epoch 5: val_loss improved from 0.47380 to 0.46946, saving model to best_model.h5\n",
            "226/226 [==============================] - 3s 15ms/step - loss: 0.4880 - accuracy: 0.7676 - val_loss: 0.4695 - val_accuracy: 0.7449\n",
            "Epoch 6/50\n",
            "226/226 [==============================] - ETA: 0s - loss: 0.4771 - accuracy: 0.7735\n",
            "Epoch 6: val_loss improved from 0.46946 to 0.44697, saving model to best_model.h5\n",
            "226/226 [==============================] - 4s 16ms/step - loss: 0.4771 - accuracy: 0.7735 - val_loss: 0.4470 - val_accuracy: 0.7767\n",
            "Epoch 7/50\n",
            "225/226 [============================>.] - ETA: 0s - loss: 0.4718 - accuracy: 0.7764\n",
            "Epoch 7: val_loss did not improve from 0.44697\n",
            "226/226 [==============================] - 3s 12ms/step - loss: 0.4716 - accuracy: 0.7764 - val_loss: 0.4515 - val_accuracy: 0.7662\n",
            "Epoch 8/50\n",
            "218/226 [===========================>..] - ETA: 0s - loss: 0.4726 - accuracy: 0.7741\n",
            "Epoch 8: val_loss did not improve from 0.44697\n",
            "226/226 [==============================] - 3s 11ms/step - loss: 0.4713 - accuracy: 0.7753 - val_loss: 0.4718 - val_accuracy: 0.7544\n",
            "Epoch 9/50\n",
            "222/226 [============================>.] - ETA: 0s - loss: 0.4699 - accuracy: 0.7831\n",
            "Epoch 9: val_loss did not improve from 0.44697\n",
            "226/226 [==============================] - 3s 12ms/step - loss: 0.4693 - accuracy: 0.7836 - val_loss: 0.4517 - val_accuracy: 0.7752\n",
            "Epoch 10/50\n",
            "221/226 [============================>.] - ETA: 0s - loss: 0.4629 - accuracy: 0.7858\n",
            "Epoch 10: val_loss did not improve from 0.44697\n",
            "226/226 [==============================] - 2s 11ms/step - loss: 0.4635 - accuracy: 0.7849 - val_loss: 0.4800 - val_accuracy: 0.7477\n",
            "Epoch 11/50\n",
            "224/226 [============================>.] - ETA: 0s - loss: 0.4511 - accuracy: 0.7938\n",
            "Epoch 11: val_loss did not improve from 0.44697\n",
            "226/226 [==============================] - 2s 8ms/step - loss: 0.4506 - accuracy: 0.7941 - val_loss: 0.4757 - val_accuracy: 0.7425\n",
            "Epoch 11: early stopping\n"
          ]
        }
      ],
      "source": [
        "history = model.fit(x=X_train_over, y=y_train_over,\n",
        "          epochs=50 , batch_size=32,\n",
        "          validation_data=(X_test, y_test), verbose=1,\n",
        "          callbacks=[early_stop, check_point])"
      ]
    },
    {
      "cell_type": "markdown",
      "metadata": {
        "id": "gEARelPF0YIf"
      },
      "source": [
        "####  \n",
        "### 모델 성능 평가"
      ]
    },
    {
      "cell_type": "markdown",
      "metadata": {
        "id": "D-Jy63Ku0YIf"
      },
      "source": [
        "#### 성능 시각화"
      ]
    },
    {
      "cell_type": "code",
      "execution_count": null,
      "metadata": {
        "colab": {
          "base_uri": "https://localhost:8080/",
          "height": 472
        },
        "id": "Dscj1l_C0YIg",
        "scrolled": true,
        "outputId": "44bcdc3a-c658-4280-a62b-ba9f9da4b141"
      },
      "outputs": [
        {
          "output_type": "display_data",
          "data": {
            "text/plain": [
              "<Figure size 640x480 with 1 Axes>"
            ],
            "image/png": "[encoded data removed]"
          },
          "metadata": {}
        }
      ],
      "source": [
        "plt.plot(history.history['accuracy'])\n",
        "plt.plot(history.history['val_accuracy'])\n",
        "plt.title('Accuracy')\n",
        "plt.xlabel('Epochs')\n",
        "plt.ylabel('Acc')\n",
        "plt.legend(['acc', 'val_acc'])\n",
        "plt.show()"
      ]
    },
    {
      "cell_type": "markdown",
      "metadata": {
        "id": "JxdSoKeK0YIg"
      },
      "source": [
        "#### 성능 평가"
      ]
    },
    {
      "cell_type": "code",
      "execution_count": null,
      "metadata": {
        "id": "RcFwYbAw0YIg"
      },
      "outputs": [],
      "source": [
        "from sklearn.metrics import accuracy_score, precision_score, recall_score, f1_score\n",
        "from sklearn.metrics import classification_report"
      ]
    },
    {
      "cell_type": "code",
      "execution_count": null,
      "metadata": {
        "colab": {
          "base_uri": "https://localhost:8080/"
        },
        "id": "K8q5K66K0YIg",
        "outputId": "d0b07470-85c2-4782-884f-0e1d9249521f"
      },
      "outputs": [
        {
          "output_type": "stream",
          "name": "stdout",
          "text": [
            "66/66 [==============================] - 0s 4ms/step\n"
          ]
        }
      ],
      "source": [
        "pred = model.predict(X_test)"
      ]
    },
    {
      "cell_type": "code",
      "execution_count": null,
      "metadata": {
        "colab": {
          "base_uri": "https://localhost:8080/"
        },
        "id": "o6aPdPsm0YIg",
        "outputId": "4e69c592-fee5-4e96-eab0-82b30167af94"
      },
      "outputs": [
        {
          "output_type": "execute_result",
          "data": {
            "text/plain": [
              "(2109, 2)"
            ]
          },
          "metadata": {},
          "execution_count": 118
        }
      ],
      "source": [
        "pred.shape"
      ]
    },
    {
      "cell_type": "code",
      "execution_count": null,
      "metadata": {
        "id": "DgLTZU3r0YIh"
      },
      "outputs": [],
      "source": [
        "y_pred = np.argmax(pred, axis=1)"
      ]
    },
    {
      "cell_type": "code",
      "execution_count": null,
      "metadata": {
        "colab": {
          "base_uri": "https://localhost:8080/"
        },
        "id": "HnJuNtcG0YIh",
        "outputId": "14cb52a6-7f93-441c-80ab-45af0bca4b8e"
      },
      "outputs": [
        {
          "output_type": "execute_result",
          "data": {
            "text/plain": [
              "0.7425320056899004"
            ]
          },
          "metadata": {},
          "execution_count": 120
        }
      ],
      "source": [
        "# 정확도 70~80%\n",
        "accuracy_score(y_test, y_pred)"
      ]
    },
    {
      "cell_type": "code",
      "execution_count": null,
      "metadata": {
        "colab": {
          "base_uri": "https://localhost:8080/"
        },
        "id": "29pLPidt0YIh",
        "outputId": "3053701e-8633-4ef4-f36b-277af820561b"
      },
      "outputs": [
        {
          "output_type": "execute_result",
          "data": {
            "text/plain": [
              "0.7642857142857142"
            ]
          },
          "metadata": {},
          "execution_count": 121
        }
      ],
      "source": [
        "# 재현율 70% 정도로 이전보다 좋아졌다.\n",
        "recall_score(y_test, y_pred)"
      ]
    },
    {
      "cell_type": "code",
      "execution_count": null,
      "metadata": {
        "colab": {
          "base_uri": "https://localhost:8080/"
        },
        "id": "-inYBRsx0YIh",
        "outputId": "74ba9fca-acc4-43fe-bc3a-10024aa7be66"
      },
      "outputs": [
        {
          "output_type": "stream",
          "name": "stdout",
          "text": [
            "              precision    recall  f1-score   support\n",
            "\n",
            "           0       0.90      0.73      0.81      1549\n",
            "           1       0.51      0.76      0.61       560\n",
            "\n",
            "    accuracy                           0.74      2109\n",
            "   macro avg       0.70      0.75      0.71      2109\n",
            "weighted avg       0.79      0.74      0.76      2109\n",
            "\n"
          ]
        }
      ],
      "source": [
        "# recall 성능을 올렸지만, 반대급부로 precision 성능은 떨어진다.\n",
        "# accuracy, recall, precision 어떤것에 집중할지 선택하는것도 필요하다.\n",
        "\n",
        "print(classification_report(y_test, y_pred))"
      ]
    },
    {
      "cell_type": "markdown",
      "metadata": {
        "id": "KsnemPIy0YIi"
      },
      "source": [
        "###  \n",
        "## 배운 내용 정리\n",
        "1. 딥러닝 심층신경망(DNN) 모델 프로세스\n",
        " + 데이터 가져오기\n",
        " + 데이터 전처리\n",
        " + Train, Test 데이터셋 분할\n",
        " + 데이터 정규화\n",
        " + DNN 딥러닝 모델\n",
        "2. 재현율 성능이 좋지 않다. 어떻게 성능향상 방법은?\n",
        " + Feature Engineering : 성능 잘 나올수 있도록 데이터 가공\n",
        " + 불균현 데이터 문제 해소 : under-sampling, over-sampling\n",
        " + Over-Sampling 기법 : SMOTE"
      ]
    }
  ],
  "metadata": {
    "colab": {
      "provenance": [],
      "include_colab_link": true
    },
    "kernelspec": {
      "display_name": "Python 3 (ipykernel)",
      "language": "python",
      "name": "python3"
    },
    "language_info": {
      "codemirror_mode": {
        "name": "ipython",
        "version": 3
      },
      "file_extension": ".py",
      "mimetype": "text/x-python",
      "name": "python",
      "nbconvert_exporter": "python",
      "pygments_lexer": "ipython3",
      "version": "3.9.7"
    }
  },
  "nbformat": 4,
  "nbformat_minor": 0
}